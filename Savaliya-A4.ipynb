{
 "cells": [
  {
   "cell_type": "markdown",
   "metadata": {},
   "source": [
    "### Auther: Meetkumar Savaliya"
   ]
  },
  {
   "cell_type": "markdown",
   "metadata": {},
   "source": [
    "#### Checking output values as it given in the assignment"
   ]
  },
  {
   "cell_type": "code",
   "execution_count": 6,
   "metadata": {
    "ExecuteTime": {
     "end_time": "2020-10-21T17:57:37.979347Z",
     "start_time": "2020-10-21T17:57:37.962467Z"
    }
   },
   "outputs": [
    {
     "data": {
      "text/plain": [
       "(array([[0, 0],\n",
       "        [1, 0],\n",
       "        [0, 1],\n",
       "        [1, 1]]),\n",
       " array([[0],\n",
       "        [1],\n",
       "        [1],\n",
       "        [0]]))"
      ]
     },
     "execution_count": 6,
     "metadata": {},
     "output_type": "execute_result"
    }
   ],
   "source": [
    "X = np.array([[0, 0], [1, 0], [0, 1], [1, 1]])\n",
    "T = np.array([[0], [1], [1], [0]])\n",
    "X, T"
   ]
  },
  {
   "cell_type": "code",
   "execution_count": 7,
   "metadata": {
    "ExecuteTime": {
     "end_time": "2020-10-21T17:55:24.284354Z",
     "start_time": "2020-10-21T17:55:24.280059Z"
    }
   },
   "outputs": [],
   "source": [
    "np.random.seed(111)\n",
    "nnet = NeuralNetworkClassifier(2, [10], 2)"
   ]
  },
  {
   "cell_type": "code",
   "execution_count": 8,
   "metadata": {
    "ExecuteTime": {
     "end_time": "2020-10-21T17:55:24.290549Z",
     "start_time": "2020-10-21T17:55:24.285339Z"
    }
   },
   "outputs": [
    {
     "data": {
      "text/plain": [
       "[array([[ 0.12952296, -0.38212533, -0.07383268,  0.31091752, -0.23633798,\n",
       "         -0.40511172, -0.55139454, -0.09211682, -0.30174387, -0.18745848],\n",
       "        [ 0.56662595, -0.3028474 , -0.48359706,  0.19583749,  0.13999926,\n",
       "         -0.26066957, -0.03900416, -0.44067096, -0.49195143,  0.46277416],\n",
       "        [ 0.33943873,  0.39325596,  0.36397022,  0.56690583,  0.08922813,\n",
       "          0.36230683, -0.09085429, -0.5456561 , -0.05295844, -0.45573018]]),\n",
       " array([[ 0.19129089,  0.11923431],\n",
       "        [ 0.03936858, -0.13614606],\n",
       "        [ 0.30059098, -0.21826885],\n",
       "        [ 0.06959828, -0.00902345],\n",
       "        [-0.05727085,  0.13739817],\n",
       "        [-0.10684722, -0.05997329],\n",
       "        [-0.10916737,  0.26968491],\n",
       "        [ 0.25249064,  0.18925528],\n",
       "        [-0.28096209,  0.2673639 ],\n",
       "        [ 0.27162504,  0.18488136],\n",
       "        [-0.01128977,  0.2814664 ]])]"
      ]
     },
     "execution_count": 8,
     "metadata": {},
     "output_type": "execute_result"
    }
   ],
   "source": [
    "nnet.Ws"
   ]
  },
  {
   "cell_type": "markdown",
   "metadata": {},
   "source": [
    "If you add some print statements in `neg_log_likelihood` functions, you can compare your output to the following results."
   ]
  },
  {
   "cell_type": "code",
   "execution_count": 9,
   "metadata": {
    "ExecuteTime": {
     "end_time": "2020-10-21T17:55:26.519572Z",
     "start_time": "2020-10-21T17:55:26.505656Z"
    }
   },
   "outputs": [
    {
     "name": "stdout",
     "output_type": "stream",
     "text": [
      "sgd: Epoch 1 Error=0.69995\n"
     ]
    },
    {
     "data": {
      "text/plain": [
       "NeuralNetwork(2, [10], 2)"
      ]
     },
     "execution_count": 9,
     "metadata": {},
     "output_type": "execute_result"
    }
   ],
   "source": [
    "nnet.train(X, T, 1, 0.1, method='sgd')"
   ]
  },
  {
   "cell_type": "code",
   "execution_count": 10,
   "metadata": {
    "ExecuteTime": {
     "end_time": "2020-10-21T17:56:24.965068Z",
     "start_time": "2020-10-21T17:56:24.962485Z"
    }
   },
   "outputs": [
    {
     "data": {
      "text/plain": [
       "0.6999544622383824"
      ]
     },
     "execution_count": 10,
     "metadata": {},
     "output_type": "execute_result"
    }
   ],
   "source": [
    "np.exp(-0.35674)"
   ]
  },
  {
   "cell_type": "markdown",
   "metadata": {},
   "source": [
    "Now if you comment out those print statements, you can run for more epochs without tons of output."
   ]
  },
  {
   "cell_type": "code",
   "execution_count": 11,
   "metadata": {
    "ExecuteTime": {
     "end_time": "2020-10-21T17:58:19.570217Z",
     "start_time": "2020-10-21T17:58:19.563535Z"
    }
   },
   "outputs": [],
   "source": [
    "np.random.seed(111)\n",
    "nnet = NeuralNetworkClassifier(2, [10], 2)"
   ]
  },
  {
   "cell_type": "code",
   "execution_count": 12,
   "metadata": {
    "ExecuteTime": {
     "end_time": "2020-10-21T17:58:20.436490Z",
     "start_time": "2020-10-21T17:58:20.415344Z"
    }
   },
   "outputs": [
    {
     "name": "stdout",
     "output_type": "stream",
     "text": [
      "SCG: Epoch 10 Error=0.99066\n",
      "SCG: Epoch 20 Error=0.99994\n",
      "SCG: Epoch 30 Error=1.00000\n"
     ]
    },
    {
     "data": {
      "text/plain": [
       "NeuralNetwork(2, [10], 2)"
      ]
     },
     "execution_count": 12,
     "metadata": {},
     "output_type": "execute_result"
    }
   ],
   "source": [
    "nnet.train(X, T, 100, method='scg')"
   ]
  },
  {
   "cell_type": "code",
   "execution_count": 13,
   "metadata": {
    "ExecuteTime": {
     "end_time": "2020-10-21T17:58:28.741958Z",
     "start_time": "2020-10-21T17:58:28.733103Z"
    }
   },
   "outputs": [
    {
     "data": {
      "text/plain": [
       "(array([[0],\n",
       "        [1],\n",
       "        [1],\n",
       "        [0]], dtype=int32),\n",
       " array([[9.99999987e-01, 1.28247125e-08],\n",
       "        [1.00985494e-08, 9.99999990e-01],\n",
       "        [8.80028551e-09, 9.99999991e-01],\n",
       "        [9.99999979e-01, 2.13210239e-08]]))"
      ]
     },
     "execution_count": 13,
     "metadata": {},
     "output_type": "execute_result"
    }
   ],
   "source": [
    "nnet.use(X)"
   ]
  },
  {
   "cell_type": "code",
   "execution_count": 14,
   "metadata": {
    "ExecuteTime": {
     "end_time": "2020-10-21T17:58:53.858758Z",
     "start_time": "2020-10-21T17:58:53.849502Z"
    }
   },
   "outputs": [
    {
     "data": {
      "text/plain": [
       "100.0"
      ]
     },
     "execution_count": 14,
     "metadata": {},
     "output_type": "execute_result"
    }
   ],
   "source": [
    "percent_correct(nnet.use(X)[0], T)"
   ]
  },
  {
   "cell_type": "markdown",
   "metadata": {},
   "source": [
    "Works!  The XOR problem was used early in the history of neural networks as a problem that cannot be solved with a linear model.  Let's try it.  It turns out our neural network code can do this if we use an empty list for the hidden unit structure!"
   ]
  },
  {
   "cell_type": "code",
   "execution_count": 15,
   "metadata": {
    "ExecuteTime": {
     "end_time": "2020-10-21T16:01:59.549777Z",
     "start_time": "2020-10-21T16:01:59.524165Z"
    }
   },
   "outputs": [
    {
     "data": {
      "text/plain": [
       "NeuralNetwork(2, [], 2)"
      ]
     },
     "execution_count": 15,
     "metadata": {},
     "output_type": "execute_result"
    }
   ],
   "source": [
    "nnet = NeuralNetworkClassifier(2, [], 2)\n",
    "nnet.train(X, T, 100)   # default method is 'scg'"
   ]
  },
  {
   "cell_type": "code",
   "execution_count": 16,
   "metadata": {
    "ExecuteTime": {
     "end_time": "2020-10-21T16:01:59.554551Z",
     "start_time": "2020-10-21T16:01:59.551273Z"
    }
   },
   "outputs": [
    {
     "data": {
      "text/plain": [
       "(array([[1],\n",
       "        [1],\n",
       "        [1],\n",
       "        [1]], dtype=int32),\n",
       " array([[0.5, 0.5],\n",
       "        [0.5, 0.5],\n",
       "        [0.5, 0.5],\n",
       "        [0.5, 0.5]]))"
      ]
     },
     "execution_count": 16,
     "metadata": {},
     "output_type": "execute_result"
    }
   ],
   "source": [
    "nnet.use(X)"
   ]
  },
  {
   "cell_type": "code",
   "execution_count": 17,
   "metadata": {
    "ExecuteTime": {
     "end_time": "2020-10-21T16:01:59.560367Z",
     "start_time": "2020-10-21T16:01:59.555496Z"
    }
   },
   "outputs": [
    {
     "data": {
      "text/plain": [
       "50.0"
      ]
     },
     "execution_count": 17,
     "metadata": {},
     "output_type": "execute_result"
    }
   ],
   "source": [
    "percent_correct(nnet.use(X)[0], T)"
   ]
  },
  {
   "cell_type": "markdown",
   "metadata": {},
   "source": [
    "A second way to evaluate a classifier is to calculate a confusion matrix. This shows the percent accuracy for each class, and also shows which classes are predicted in error.\n",
    "\n",
    "Here is a function you can use to show a confusion matrix."
   ]
  },
  {
   "cell_type": "code",
   "execution_count": 18,
   "metadata": {
    "ExecuteTime": {
     "end_time": "2020-10-21T16:01:59.683535Z",
     "start_time": "2020-10-21T16:01:59.561551Z"
    }
   },
   "outputs": [],
   "source": [
    "import pandas\n",
    "\n",
    "def confusion_matrix(Y_classes, T):\n",
    "    class_names = np.unique(T)\n",
    "    table = []\n",
    "    for true_class in class_names:\n",
    "        row = []\n",
    "        for Y_class in class_names:\n",
    "            row.append(100 * np.mean(Y_classes[T == true_class] == Y_class))\n",
    "        table.append(row)\n",
    "    conf_matrix = pandas.DataFrame(table, index=class_names, columns=class_names)\n",
    "    # cf.style.background_gradient(cmap='Blues').format(\"{:.1f} %\")\n",
    "    print('Percent Correct')\n",
    "    return conf_matrix.style.background_gradient(cmap='Blues').format(\"{:.1f}\")"
   ]
  },
  {
   "cell_type": "code",
   "execution_count": 19,
   "metadata": {
    "ExecuteTime": {
     "end_time": "2020-10-21T16:01:59.806221Z",
     "start_time": "2020-10-21T16:01:59.684518Z"
    }
   },
   "outputs": [
    {
     "name": "stdout",
     "output_type": "stream",
     "text": [
      "Percent Correct\n"
     ]
    },
    {
     "data": {
      "text/html": [
       "<style  type=\"text/css\" >\n",
       "#T_a7f0be80_183a_11eb_a445_8cc84bd8f426row0_col0,#T_a7f0be80_183a_11eb_a445_8cc84bd8f426row0_col1,#T_a7f0be80_183a_11eb_a445_8cc84bd8f426row1_col0,#T_a7f0be80_183a_11eb_a445_8cc84bd8f426row1_col1{\n",
       "            background-color:  #f7fbff;\n",
       "            color:  #000000;\n",
       "        }</style><table id=\"T_a7f0be80_183a_11eb_a445_8cc84bd8f426\" ><thead>    <tr>        <th class=\"blank level0\" ></th>        <th class=\"col_heading level0 col0\" >0</th>        <th class=\"col_heading level0 col1\" >1</th>    </tr></thead><tbody>\n",
       "                <tr>\n",
       "                        <th id=\"T_a7f0be80_183a_11eb_a445_8cc84bd8f426level0_row0\" class=\"row_heading level0 row0\" >0</th>\n",
       "                        <td id=\"T_a7f0be80_183a_11eb_a445_8cc84bd8f426row0_col0\" class=\"data row0 col0\" >0.0</td>\n",
       "                        <td id=\"T_a7f0be80_183a_11eb_a445_8cc84bd8f426row0_col1\" class=\"data row0 col1\" >100.0</td>\n",
       "            </tr>\n",
       "            <tr>\n",
       "                        <th id=\"T_a7f0be80_183a_11eb_a445_8cc84bd8f426level0_row1\" class=\"row_heading level0 row1\" >1</th>\n",
       "                        <td id=\"T_a7f0be80_183a_11eb_a445_8cc84bd8f426row1_col0\" class=\"data row1 col0\" >0.0</td>\n",
       "                        <td id=\"T_a7f0be80_183a_11eb_a445_8cc84bd8f426row1_col1\" class=\"data row1 col1\" >100.0</td>\n",
       "            </tr>\n",
       "    </tbody></table>"
      ],
      "text/plain": [
       "<pandas.io.formats.style.Styler at 0x7cd1c70>"
      ]
     },
     "execution_count": 19,
     "metadata": {},
     "output_type": "execute_result"
    }
   ],
   "source": [
    "confusion_matrix(nnet.use(X)[0], T)"
   ]
  },
  {
   "cell_type": "markdown",
   "metadata": {},
   "source": [
    "## Part 3: Apply `NeuralNetworkClassifier` to Images of Handwritten Digits"
   ]
  },
  {
   "cell_type": "markdown",
   "metadata": {},
   "source": [
    "Apply your `NeuralNetworkClassifier` to the [MNIST digits dataset](http://deeplearning.net/tutorial/gettingstarted.html)."
   ]
  },
  {
   "cell_type": "code",
   "execution_count": 20,
   "metadata": {
    "ExecuteTime": {
     "end_time": "2020-10-21T16:01:59.808976Z",
     "start_time": "2020-10-21T16:01:59.807302Z"
    }
   },
   "outputs": [],
   "source": [
    "import pickle\n",
    "import gzip"
   ]
  },
  {
   "cell_type": "code",
   "execution_count": 21,
   "metadata": {
    "ExecuteTime": {
     "end_time": "2020-10-21T16:02:00.504930Z",
     "start_time": "2020-10-21T16:01:59.809809Z"
    }
   },
   "outputs": [
    {
     "name": "stdout",
     "output_type": "stream",
     "text": [
      "(50000, 784) (50000, 1) (10000, 784) (10000, 1) (10000, 784) (10000, 1)\n"
     ]
    }
   ],
   "source": [
    "with gzip.open('mnist.pkl.gz', 'rb') as f:\n",
    "    train_set, valid_set, test_set = pickle.load(f, encoding='latin1')\n",
    "\n",
    "Xtrain = train_set[0]\n",
    "Ttrain = train_set[1].reshape(-1, 1)\n",
    "\n",
    "Xval = valid_set[0]\n",
    "Tval = valid_set[1].reshape(-1, 1)\n",
    "\n",
    "Xtest = test_set[0]\n",
    "Ttest = test_set[1].reshape(-1, 1)\n",
    "\n",
    "print(Xtrain.shape, Ttrain.shape,  Xval.shape, Tval.shape,  Xtest.shape, Ttest.shape)"
   ]
  },
  {
   "cell_type": "code",
   "execution_count": 22,
   "metadata": {
    "ExecuteTime": {
     "end_time": "2020-10-21T16:02:00.519909Z",
     "start_time": "2020-10-21T16:02:00.509608Z"
    }
   },
   "outputs": [],
   "source": [
    "def draw_image(image, label):\n",
    "    plt.imshow(-image.reshape(28, 28), cmap='gray')\n",
    "    # plt.axis('off')\n",
    "    plt.xticks([])\n",
    "    plt.yticks([])\n",
    "    plt.axis('off')\n",
    "    plt.title(label)"
   ]
  },
  {
   "cell_type": "code",
   "execution_count": 23,
   "metadata": {
    "ExecuteTime": {
     "end_time": "2020-10-21T16:02:02.451747Z",
     "start_time": "2020-10-21T16:02:00.520864Z"
    },
    "scrolled": true
   },
   "outputs": [
    {
     "data": {
      "image/png": "[encoded data removed]",
      "text/plain": [
       "<Figure size 864x864 with 100 Axes>"
      ]
     },
     "metadata": {},
     "output_type": "display_data"
    }
   ],
   "source": [
    "plt.figure(figsize=(12, 12))\n",
    "for i in range(100):\n",
    "    plt.subplot(10, 10, i+1)\n",
    "    draw_image(Xtrain[i], Ttrain[i,0])"
   ]
  },
  {
   "cell_type": "code",
   "execution_count": 12,
   "metadata": {
    "ExecuteTime": {
     "end_time": "2020-10-21T16:02:22.344686Z",
     "start_time": "2020-10-21T16:02:02.452786Z"
    }
   },
   "outputs": [
    {
     "name": "stdout",
     "output_type": "stream",
     "text": [
      "SCG: Epoch 4 Error=0.95246\n",
      "SCG: Epoch 8 Error=0.96847\n",
      "SCG: Epoch 12 Error=0.97247\n",
      "SCG: Epoch 16 Error=0.97347\n",
      "SCG: Epoch 20 Error=0.97347\n",
      "SCG: Epoch 24 Error=0.97347\n",
      "SCG: Epoch 28 Error=0.97347\n",
      "SCG: Epoch 32 Error=0.97436\n",
      "SCG: Epoch 36 Error=0.97542\n",
      "SCG: Epoch 40 Error=0.97588\n"
     ]
    },
    {
     "data": {
      "text/plain": [
       "NeuralNetwork(784, [], 10)"
      ]
     },
     "execution_count": 12,
     "metadata": {},
     "output_type": "execute_result"
    }
   ],
   "source": [
    "nnet = NeuralNetworkClassifier(784, [], 10)\n",
    "nnet.train(Xtrain, Ttrain, 40)"
   ]
  },
  {
   "cell_type": "code",
   "execution_count": 13,
   "metadata": {
    "ExecuteTime": {
     "end_time": "2020-10-21T16:02:22.572883Z",
     "start_time": "2020-10-21T16:02:22.345624Z"
    }
   },
   "outputs": [
    {
     "data": {
      "text/plain": [
       "[93.33, 92.71000000000001, 92.27]"
      ]
     },
     "execution_count": 13,
     "metadata": {},
     "output_type": "execute_result"
    }
   ],
   "source": [
    "[percent_correct(nnet.use(X)[0], T) for X, T in zip([Xtrain, Xval, Xtest], [Ttrain, Tval, Ttest])]"
   ]
  },
  {
   "cell_type": "code",
   "execution_count": 14,
   "metadata": {
    "ExecuteTime": {
     "end_time": "2020-10-21T16:02:53.727266Z",
     "start_time": "2020-10-21T16:02:22.574252Z"
    }
   },
   "outputs": [
    {
     "name": "stdout",
     "output_type": "stream",
     "text": [
      "SCG: Epoch 4 Error=0.94591\n",
      "SCG: Epoch 8 Error=0.97089\n",
      "SCG: Epoch 12 Error=0.97778\n",
      "SCG: Epoch 16 Error=0.98174\n",
      "SCG: Epoch 20 Error=0.98448\n",
      "SCG: Epoch 24 Error=0.98674\n",
      "SCG: Epoch 28 Error=0.98817\n",
      "SCG: Epoch 32 Error=0.98938\n",
      "SCG: Epoch 36 Error=0.99047\n",
      "SCG: Epoch 40 Error=0.99131\n"
     ]
    },
    {
     "data": {
      "text/plain": [
       "NeuralNetwork(784, [20], 10)"
      ]
     },
     "execution_count": 14,
     "metadata": {},
     "output_type": "execute_result"
    }
   ],
   "source": [
    "nnet = NeuralNetworkClassifier(784, [20], 10)\n",
    "nnet.train(Xtrain, Ttrain, 40)"
   ]
  },
  {
   "cell_type": "code",
   "execution_count": 15,
   "metadata": {
    "ExecuteTime": {
     "end_time": "2020-10-21T16:02:54.027700Z",
     "start_time": "2020-10-21T16:02:53.728419Z"
    }
   },
   "outputs": [
    {
     "data": {
      "text/plain": [
       "[97.762, 94.08999999999999, 93.87]"
      ]
     },
     "execution_count": 15,
     "metadata": {},
     "output_type": "execute_result"
    }
   ],
   "source": [
    "[percent_correct(nnet.use(X)[0], T) for X, T in zip([Xtrain, Xval, Xtest],\n",
    "                                                    [Ttrain, Tval, Ttest])]"
   ]
  },
  {
   "cell_type": "markdown",
   "metadata": {},
   "source": [
    "## Defination of  `train_for_best_validation` function \n",
    "\n",
    "Defination : train_for_best_validation():\n",
    "\n",
    "Arguments:\n",
    "* `Xtrain, Ttrain`: matrices of shapes $N\\times D$ and $N\\times 1$ as input and target training data, where $N$ is number of training samples and $D$ is number of input components,\n",
    "* `Xval, Tval`: matrices of shapes  $N\\times D$ and $N\\times 1$ of validation data ($N$ not same value as above)\n",
    "* `n_epochs`: total number of epochs to train for,\n",
    "* `n_epochs_per_train`: divide `n_epochs` by this value to get number of times the neural network `train` function is called for this many epochs,\n",
    "* `n_hiddens_list`: structure of hidden layers,\n",
    "* `method`: optimizer method,\n",
    "* `learning_rate`: used for optimizer methods 'adam' and 'sgd'.\n",
    "\n",
    "Return values: \n",
    "* `nnet`: resulting neural network with weights that produced the highest accuracy for the validation data set,\n",
    "* `epoch`: epoch corresponding to best validation accuracy,\n",
    "* `train_accuracy`: accuracy at that best epoch on training data,\n",
    "* `val_accuracy`: accuracy at that best epoch on validation data.\n",
    "\n",
    "This function should call your `percent_correct` function to calculate classification accuracies."
   ]
  },
  {
   "cell_type": "code",
   "execution_count": 28,
   "metadata": {
    "ExecuteTime": {
     "end_time": "2020-10-21T16:06:00.211174Z",
     "start_time": "2020-10-21T16:03:05.049279Z"
    }
   },
   "outputs": [
    {
     "name": "stdout",
     "output_type": "stream",
     "text": [
      " Epoch: 10 Train Accuracy 92.77 and Validation Accuracy 92.88\n",
      " Epoch: 20 Train Accuracy 95.19 and Validation Accuracy 93.73\n",
      " Epoch: 30 Train Accuracy 96.15 and Validation Accuracy 94.02\n",
      " Epoch: 40 Train Accuracy 96.90 and Validation Accuracy 94.13\n",
      " Epoch: 50 Train Accuracy 97.21 and Validation Accuracy 94.00\n",
      " Epoch: 60 Train Accuracy 97.61 and Validation Accuracy 94.16\n",
      " Epoch: 70 Train Accuracy 97.82 and Validation Accuracy 93.96\n",
      " Epoch: 80 Train Accuracy 98.09 and Validation Accuracy 94.10\n",
      " Epoch: 90 Train Accuracy 98.30 and Validation Accuracy 93.86\n",
      " Epoch: 100 Train Accuracy 98.44 and Validation Accuracy 94.02\n",
      " Epoch: 110 Train Accuracy 98.59 and Validation Accuracy 93.86\n",
      " Epoch: 120 Train Accuracy 98.70 and Validation Accuracy 93.96\n",
      " Epoch: 130 Train Accuracy 98.82 and Validation Accuracy 93.85\n",
      " Epoch: 140 Train Accuracy 98.94 and Validation Accuracy 93.77\n",
      " Epoch: 150 Train Accuracy 99.01 and Validation Accuracy 93.66\n",
      " Epoch: 160 Train Accuracy 99.07 and Validation Accuracy 93.64\n",
      " Epoch: 170 Train Accuracy 99.12 and Validation Accuracy 93.58\n",
      " Epoch: 180 Train Accuracy 99.25 and Validation Accuracy 93.51\n",
      " Epoch: 190 Train Accuracy 99.26 and Validation Accuracy 93.44\n",
      " Epoch: 200 Train Accuracy 99.33 and Validation Accuracy 93.34\n",
      "Best Validation Accuracy is at epoch: 60.0 with Accuracy Train of 97.61 and Validation of 94.16\n"
     ]
    },
    {
     "data": {
      "image/png": "[encoded data removed]",
      "text/plain": [
       "<Figure size 432x288 with 1 Axes>"
      ]
     },
     "metadata": {
      "needs_background": "light"
     },
     "output_type": "display_data"
    }
   ],
   "source": [
    "nnet, epoch, train_accuracy, val_accuracy = train_for_best_validation(Xtrain, Ttrain,  Xval, Tval, \n",
    "                                                                      200, 10, [20], method='scg') "
   ]
  },
  {
   "cell_type": "code",
   "execution_count": 28,
   "metadata": {
    "ExecuteTime": {
     "end_time": "2020-10-21T16:07:24.669611Z",
     "start_time": "2020-10-21T16:07:24.384707Z"
    }
   },
   "outputs": [
    {
     "data": {
      "text/plain": [
       "[99.46000000000001, 93.8, 93.56]"
      ]
     },
     "execution_count": 28,
     "metadata": {},
     "output_type": "execute_result"
    }
   ],
   "source": [
    "[percent_correct(nnet.use(X)[0], T) for X, T in zip([Xtrain, Xval, Xtest], [Ttrain, Tval, Ttest])]"
   ]
  },
  {
   "cell_type": "markdown",
   "metadata": {},
   "source": [
    "## Experiment section for MNIST data set"
   ]
  },
  {
   "cell_type": "markdown",
   "metadata": {},
   "source": [
    "Call `train_for_best_validation` a number of times to compare accuracies using the three different optimization methods, and a few different values of `n_epochs`, `n_epochs_per_train`, and `n_hiddens_list`, and `learning_rate` when using 'sgd' and 'adam'.  You do not have to find the very best values of these parameters.  For example, for `n_hiddens_list` at least use `[]` (a linear model) and a larger network, like `[100, 100]`.\n",
    "\n",
    "Show the confusion matrix for the network that gave you the best validation accuracy."
   ]
  },
  {
   "cell_type": "markdown",
   "metadata": {},
   "source": [
    "#### optimizer: SGD"
   ]
  },
  {
   "cell_type": "code",
   "execution_count": 29,
   "metadata": {},
   "outputs": [
    {
     "name": "stdout",
     "output_type": "stream",
     "text": [
      " Epoch: 10 Train Accuracy 14.82 and Validation Accuracy 15.24\n",
      " Epoch: 20 Train Accuracy 18.74 and Validation Accuracy 19.61\n",
      " Epoch: 30 Train Accuracy 24.13 and Validation Accuracy 24.62\n",
      " Epoch: 40 Train Accuracy 30.61 and Validation Accuracy 31.35\n",
      " Epoch: 50 Train Accuracy 36.85 and Validation Accuracy 38.21\n",
      " Epoch: 60 Train Accuracy 41.96 and Validation Accuracy 43.41\n",
      " Epoch: 70 Train Accuracy 46.34 and Validation Accuracy 47.90\n",
      " Epoch: 80 Train Accuracy 49.98 and Validation Accuracy 51.39\n",
      " Epoch: 90 Train Accuracy 53.27 and Validation Accuracy 54.87\n",
      " Epoch: 100 Train Accuracy 56.10 and Validation Accuracy 57.72\n",
      " Epoch: 110 Train Accuracy 58.43 and Validation Accuracy 60.40\n",
      " Epoch: 120 Train Accuracy 60.59 and Validation Accuracy 62.57\n",
      " Epoch: 130 Train Accuracy 62.47 and Validation Accuracy 64.43\n",
      " Epoch: 140 Train Accuracy 64.05 and Validation Accuracy 66.09\n",
      " Epoch: 150 Train Accuracy 65.34 and Validation Accuracy 67.48\n",
      " Epoch: 160 Train Accuracy 66.49 and Validation Accuracy 68.54\n",
      " Epoch: 170 Train Accuracy 67.50 and Validation Accuracy 69.60\n",
      " Epoch: 180 Train Accuracy 68.42 and Validation Accuracy 70.62\n",
      " Epoch: 190 Train Accuracy 69.18 and Validation Accuracy 71.48\n",
      " Epoch: 200 Train Accuracy 69.92 and Validation Accuracy 72.38\n",
      " Epoch: 210 Train Accuracy 70.52 and Validation Accuracy 73.01\n",
      " Epoch: 220 Train Accuracy 71.16 and Validation Accuracy 73.57\n",
      " Epoch: 230 Train Accuracy 71.73 and Validation Accuracy 73.98\n",
      " Epoch: 240 Train Accuracy 72.24 and Validation Accuracy 74.42\n",
      " Epoch: 250 Train Accuracy 72.76 and Validation Accuracy 74.92\n",
      " Epoch: 260 Train Accuracy 73.18 and Validation Accuracy 75.27\n",
      " Epoch: 270 Train Accuracy 73.56 and Validation Accuracy 75.70\n",
      " Epoch: 280 Train Accuracy 73.93 and Validation Accuracy 76.10\n",
      " Epoch: 290 Train Accuracy 74.24 and Validation Accuracy 76.39\n",
      " Epoch: 300 Train Accuracy 74.58 and Validation Accuracy 76.73\n",
      " Epoch: 310 Train Accuracy 74.89 and Validation Accuracy 77.14\n",
      " Epoch: 320 Train Accuracy 75.15 and Validation Accuracy 77.50\n",
      " Epoch: 330 Train Accuracy 75.39 and Validation Accuracy 77.74\n",
      " Epoch: 340 Train Accuracy 75.67 and Validation Accuracy 78.06\n",
      " Epoch: 350 Train Accuracy 75.95 and Validation Accuracy 78.40\n",
      " Epoch: 360 Train Accuracy 76.22 and Validation Accuracy 78.54\n",
      " Epoch: 370 Train Accuracy 76.47 and Validation Accuracy 78.63\n",
      " Epoch: 380 Train Accuracy 76.72 and Validation Accuracy 78.89\n",
      " Epoch: 390 Train Accuracy 76.95 and Validation Accuracy 79.09\n",
      " Epoch: 400 Train Accuracy 77.20 and Validation Accuracy 79.23\n",
      " Epoch: 410 Train Accuracy 77.40 and Validation Accuracy 79.42\n",
      " Epoch: 420 Train Accuracy 77.61 and Validation Accuracy 79.63\n",
      " Epoch: 430 Train Accuracy 77.84 and Validation Accuracy 79.85\n",
      " Epoch: 440 Train Accuracy 77.99 and Validation Accuracy 80.02\n",
      " Epoch: 450 Train Accuracy 78.14 and Validation Accuracy 80.20\n",
      " Epoch: 460 Train Accuracy 78.33 and Validation Accuracy 80.40\n",
      " Epoch: 470 Train Accuracy 78.51 and Validation Accuracy 80.57\n",
      " Epoch: 480 Train Accuracy 78.67 and Validation Accuracy 80.69\n",
      " Epoch: 490 Train Accuracy 78.83 and Validation Accuracy 80.81\n",
      " Epoch: 500 Train Accuracy 78.99 and Validation Accuracy 81.01\n",
      " Epoch: 510 Train Accuracy 79.13 and Validation Accuracy 81.17\n",
      " Epoch: 520 Train Accuracy 79.31 and Validation Accuracy 81.24\n",
      " Epoch: 530 Train Accuracy 79.47 and Validation Accuracy 81.38\n",
      " Epoch: 540 Train Accuracy 79.61 and Validation Accuracy 81.53\n",
      " Epoch: 550 Train Accuracy 79.75 and Validation Accuracy 81.69\n",
      " Epoch: 560 Train Accuracy 79.89 and Validation Accuracy 81.84\n",
      " Epoch: 570 Train Accuracy 80.00 and Validation Accuracy 81.92\n",
      " Epoch: 580 Train Accuracy 80.12 and Validation Accuracy 82.04\n",
      " Epoch: 590 Train Accuracy 80.24 and Validation Accuracy 82.20\n",
      " Epoch: 600 Train Accuracy 80.33 and Validation Accuracy 82.32\n",
      " Epoch: 610 Train Accuracy 80.46 and Validation Accuracy 82.48\n",
      " Epoch: 620 Train Accuracy 80.58 and Validation Accuracy 82.54\n",
      " Epoch: 630 Train Accuracy 80.65 and Validation Accuracy 82.70\n",
      " Epoch: 640 Train Accuracy 80.75 and Validation Accuracy 82.79\n",
      " Epoch: 650 Train Accuracy 80.84 and Validation Accuracy 82.90\n",
      " Epoch: 660 Train Accuracy 80.97 and Validation Accuracy 82.98\n",
      " Epoch: 670 Train Accuracy 81.06 and Validation Accuracy 83.07\n",
      " Epoch: 680 Train Accuracy 81.16 and Validation Accuracy 83.14\n",
      " Epoch: 690 Train Accuracy 81.26 and Validation Accuracy 83.27\n",
      " Epoch: 700 Train Accuracy 81.35 and Validation Accuracy 83.35\n",
      " Epoch: 710 Train Accuracy 81.45 and Validation Accuracy 83.43\n",
      " Epoch: 720 Train Accuracy 81.56 and Validation Accuracy 83.48\n",
      " Epoch: 730 Train Accuracy 81.67 and Validation Accuracy 83.54\n",
      " Epoch: 740 Train Accuracy 81.79 and Validation Accuracy 83.62\n",
      " Epoch: 750 Train Accuracy 81.89 and Validation Accuracy 83.77\n",
      " Epoch: 760 Train Accuracy 81.96 and Validation Accuracy 83.82\n",
      " Epoch: 770 Train Accuracy 82.05 and Validation Accuracy 83.93\n",
      " Epoch: 780 Train Accuracy 82.13 and Validation Accuracy 84.01\n",
      " Epoch: 790 Train Accuracy 82.17 and Validation Accuracy 84.06\n",
      " Epoch: 800 Train Accuracy 82.27 and Validation Accuracy 84.17\n",
      " Epoch: 810 Train Accuracy 82.34 and Validation Accuracy 84.26\n",
      " Epoch: 820 Train Accuracy 82.40 and Validation Accuracy 84.30\n",
      " Epoch: 830 Train Accuracy 82.49 and Validation Accuracy 84.33\n",
      " Epoch: 840 Train Accuracy 82.58 and Validation Accuracy 84.33\n",
      " Epoch: 850 Train Accuracy 82.66 and Validation Accuracy 84.39\n",
      " Epoch: 860 Train Accuracy 82.72 and Validation Accuracy 84.45\n",
      " Epoch: 870 Train Accuracy 82.78 and Validation Accuracy 84.58\n",
      " Epoch: 880 Train Accuracy 82.86 and Validation Accuracy 84.59\n",
      " Epoch: 890 Train Accuracy 82.92 and Validation Accuracy 84.65\n",
      " Epoch: 900 Train Accuracy 82.97 and Validation Accuracy 84.75\n",
      " Epoch: 910 Train Accuracy 83.02 and Validation Accuracy 84.82\n",
      " Epoch: 920 Train Accuracy 83.10 and Validation Accuracy 84.84\n",
      " Epoch: 930 Train Accuracy 83.15 and Validation Accuracy 84.88\n",
      " Epoch: 940 Train Accuracy 83.21 and Validation Accuracy 84.96\n",
      " Epoch: 950 Train Accuracy 83.25 and Validation Accuracy 85.05\n",
      " Epoch: 960 Train Accuracy 83.30 and Validation Accuracy 85.13\n",
      " Epoch: 970 Train Accuracy 83.37 and Validation Accuracy 85.18\n",
      " Epoch: 980 Train Accuracy 83.43 and Validation Accuracy 85.26\n",
      " Epoch: 990 Train Accuracy 83.51 and Validation Accuracy 85.29\n",
      " Epoch: 1000 Train Accuracy 83.58 and Validation Accuracy 85.38\n",
      " Epoch: 1010 Train Accuracy 83.62 and Validation Accuracy 85.46\n",
      " Epoch: 1020 Train Accuracy 83.66 and Validation Accuracy 85.52\n",
      " Epoch: 1030 Train Accuracy 83.71 and Validation Accuracy 85.59\n",
      " Epoch: 1040 Train Accuracy 83.76 and Validation Accuracy 85.69\n",
      " Epoch: 1050 Train Accuracy 83.82 and Validation Accuracy 85.74\n",
      " Epoch: 1060 Train Accuracy 83.87 and Validation Accuracy 85.80\n",
      " Epoch: 1070 Train Accuracy 83.90 and Validation Accuracy 85.84\n",
      " Epoch: 1080 Train Accuracy 83.95 and Validation Accuracy 85.87\n",
      " Epoch: 1090 Train Accuracy 83.99 and Validation Accuracy 85.90\n",
      " Epoch: 1100 Train Accuracy 84.02 and Validation Accuracy 85.95\n",
      " Epoch: 1110 Train Accuracy 84.06 and Validation Accuracy 85.99\n",
      " Epoch: 1120 Train Accuracy 84.13 and Validation Accuracy 86.02\n",
      " Epoch: 1130 Train Accuracy 84.18 and Validation Accuracy 86.07\n",
      " Epoch: 1140 Train Accuracy 84.22 and Validation Accuracy 86.15\n",
      " Epoch: 1150 Train Accuracy 84.25 and Validation Accuracy 86.19\n",
      " Epoch: 1160 Train Accuracy 84.29 and Validation Accuracy 86.18\n",
      " Epoch: 1170 Train Accuracy 84.35 and Validation Accuracy 86.20\n",
      " Epoch: 1180 Train Accuracy 84.38 and Validation Accuracy 86.23\n",
      " Epoch: 1190 Train Accuracy 84.43 and Validation Accuracy 86.25\n",
      " Epoch: 1200 Train Accuracy 84.46 and Validation Accuracy 86.28\n",
      " Epoch: 1210 Train Accuracy 84.52 and Validation Accuracy 86.30\n",
      " Epoch: 1220 Train Accuracy 84.55 and Validation Accuracy 86.33\n",
      " Epoch: 1230 Train Accuracy 84.60 and Validation Accuracy 86.37\n",
      " Epoch: 1240 Train Accuracy 84.64 and Validation Accuracy 86.38\n",
      " Epoch: 1250 Train Accuracy 84.71 and Validation Accuracy 86.43\n",
      " Epoch: 1260 Train Accuracy 84.73 and Validation Accuracy 86.45\n",
      " Epoch: 1270 Train Accuracy 84.78 and Validation Accuracy 86.48\n",
      " Epoch: 1280 Train Accuracy 84.81 and Validation Accuracy 86.55\n",
      " Epoch: 1290 Train Accuracy 84.87 and Validation Accuracy 86.61\n",
      " Epoch: 1300 Train Accuracy 84.91 and Validation Accuracy 86.61\n",
      " Epoch: 1310 Train Accuracy 84.93 and Validation Accuracy 86.64\n",
      " Epoch: 1320 Train Accuracy 84.96 and Validation Accuracy 86.66\n",
      " Epoch: 1330 Train Accuracy 84.99 and Validation Accuracy 86.69\n",
      " Epoch: 1340 Train Accuracy 85.03 and Validation Accuracy 86.71\n",
      " Epoch: 1350 Train Accuracy 85.06 and Validation Accuracy 86.71\n",
      " Epoch: 1360 Train Accuracy 85.09 and Validation Accuracy 86.73\n",
      " Epoch: 1370 Train Accuracy 85.13 and Validation Accuracy 86.76\n",
      " Epoch: 1380 Train Accuracy 85.15 and Validation Accuracy 86.82\n",
      " Epoch: 1390 Train Accuracy 85.18 and Validation Accuracy 86.83\n",
      " Epoch: 1400 Train Accuracy 85.22 and Validation Accuracy 86.83\n",
      " Epoch: 1410 Train Accuracy 85.26 and Validation Accuracy 86.84\n",
      " Epoch: 1420 Train Accuracy 85.31 and Validation Accuracy 86.87\n",
      " Epoch: 1430 Train Accuracy 85.33 and Validation Accuracy 86.89\n",
      " Epoch: 1440 Train Accuracy 85.36 and Validation Accuracy 86.92\n",
      " Epoch: 1450 Train Accuracy 85.40 and Validation Accuracy 86.92\n",
      " Epoch: 1460 Train Accuracy 85.42 and Validation Accuracy 86.94\n",
      " Epoch: 1470 Train Accuracy 85.45 and Validation Accuracy 86.94\n",
      " Epoch: 1480 Train Accuracy 85.48 and Validation Accuracy 86.98\n",
      " Epoch: 1490 Train Accuracy 85.51 and Validation Accuracy 87.00\n",
      " Epoch: 1500 Train Accuracy 85.53 and Validation Accuracy 86.98\n",
      " Epoch: 1510 Train Accuracy 85.55 and Validation Accuracy 87.01\n",
      " Epoch: 1520 Train Accuracy 85.58 and Validation Accuracy 87.03\n",
      " Epoch: 1530 Train Accuracy 85.61 and Validation Accuracy 87.02\n",
      " Epoch: 1540 Train Accuracy 85.64 and Validation Accuracy 87.05\n",
      " Epoch: 1550 Train Accuracy 85.66 and Validation Accuracy 87.07\n",
      " Epoch: 1560 Train Accuracy 85.69 and Validation Accuracy 87.13\n",
      " Epoch: 1570 Train Accuracy 85.72 and Validation Accuracy 87.14\n",
      " Epoch: 1580 Train Accuracy 85.75 and Validation Accuracy 87.15\n",
      " Epoch: 1590 Train Accuracy 85.77 and Validation Accuracy 87.15\n",
      " Epoch: 1600 Train Accuracy 85.79 and Validation Accuracy 87.16\n",
      " Epoch: 1610 Train Accuracy 85.79 and Validation Accuracy 87.17\n",
      " Epoch: 1620 Train Accuracy 85.82 and Validation Accuracy 87.21\n",
      " Epoch: 1630 Train Accuracy 85.85 and Validation Accuracy 87.24\n",
      " Epoch: 1640 Train Accuracy 85.87 and Validation Accuracy 87.24\n",
      " Epoch: 1650 Train Accuracy 85.89 and Validation Accuracy 87.29\n",
      " Epoch: 1660 Train Accuracy 85.91 and Validation Accuracy 87.30\n",
      " Epoch: 1670 Train Accuracy 85.93 and Validation Accuracy 87.34\n",
      " Epoch: 1680 Train Accuracy 85.96 and Validation Accuracy 87.39\n",
      " Epoch: 1690 Train Accuracy 85.98 and Validation Accuracy 87.45\n",
      " Epoch: 1700 Train Accuracy 86.00 and Validation Accuracy 87.47\n",
      " Epoch: 1710 Train Accuracy 86.03 and Validation Accuracy 87.48\n",
      " Epoch: 1720 Train Accuracy 86.06 and Validation Accuracy 87.49\n",
      " Epoch: 1730 Train Accuracy 86.09 and Validation Accuracy 87.50\n",
      " Epoch: 1740 Train Accuracy 86.10 and Validation Accuracy 87.50\n",
      " Epoch: 1750 Train Accuracy 86.15 and Validation Accuracy 87.51\n",
      " Epoch: 1760 Train Accuracy 86.17 and Validation Accuracy 87.54\n",
      " Epoch: 1770 Train Accuracy 86.19 and Validation Accuracy 87.57\n",
      " Epoch: 1780 Train Accuracy 86.22 and Validation Accuracy 87.62\n",
      " Epoch: 1790 Train Accuracy 86.23 and Validation Accuracy 87.62\n",
      " Epoch: 1800 Train Accuracy 86.24 and Validation Accuracy 87.63\n",
      " Epoch: 1810 Train Accuracy 86.25 and Validation Accuracy 87.63\n",
      " Epoch: 1820 Train Accuracy 86.28 and Validation Accuracy 87.67\n",
      " Epoch: 1830 Train Accuracy 86.29 and Validation Accuracy 87.68\n",
      " Epoch: 1840 Train Accuracy 86.31 and Validation Accuracy 87.71\n",
      " Epoch: 1850 Train Accuracy 86.33 and Validation Accuracy 87.72\n",
      " Epoch: 1860 Train Accuracy 86.34 and Validation Accuracy 87.73\n",
      " Epoch: 1870 Train Accuracy 86.36 and Validation Accuracy 87.75\n",
      " Epoch: 1880 Train Accuracy 86.38 and Validation Accuracy 87.77\n",
      " Epoch: 1890 Train Accuracy 86.40 and Validation Accuracy 87.79\n",
      " Epoch: 1900 Train Accuracy 86.43 and Validation Accuracy 87.79\n",
      " Epoch: 1910 Train Accuracy 86.44 and Validation Accuracy 87.79\n",
      " Epoch: 1920 Train Accuracy 86.46 and Validation Accuracy 87.84\n",
      " Epoch: 1930 Train Accuracy 86.47 and Validation Accuracy 87.86\n",
      " Epoch: 1940 Train Accuracy 86.49 and Validation Accuracy 87.89\n",
      " Epoch: 1950 Train Accuracy 86.51 and Validation Accuracy 87.90\n",
      " Epoch: 1960 Train Accuracy 86.52 and Validation Accuracy 87.89\n",
      " Epoch: 1970 Train Accuracy 86.55 and Validation Accuracy 87.92\n",
      " Epoch: 1980 Train Accuracy 86.56 and Validation Accuracy 87.92\n",
      " Epoch: 1990 Train Accuracy 86.57 and Validation Accuracy 87.95\n",
      " Epoch: 2000 Train Accuracy 86.58 and Validation Accuracy 87.95\n",
      "Best Validation Accuracy is at epoch: 1990.0 with Accuracy Train of 86.57 and Validation of 87.95\n"
     ]
    },
    {
     "data": {
      "image/png": "[encoded data removed]",
      "text/plain": [
       "<Figure size 432x288 with 1 Axes>"
      ]
     },
     "metadata": {
      "needs_background": "light"
     },
     "output_type": "display_data"
    }
   ],
   "source": [
    "nnet, epoch, train_accuracy, val_accuracy = train_for_best_validation(Xtrain, Ttrain,  Xval, Tval, \n",
    "                                                                      2000, 10, [], method='sgd', learning_rate = 0.1) "
   ]
  },
  {
   "cell_type": "code",
   "execution_count": 30,
   "metadata": {},
   "outputs": [
    {
     "name": "stdout",
     "output_type": "stream",
     "text": [
      " Epoch: 10 Train Accuracy 11.28 and Validation Accuracy 10.61\n",
      " Epoch: 20 Train Accuracy 15.18 and Validation Accuracy 14.56\n",
      " Epoch: 30 Train Accuracy 20.15 and Validation Accuracy 19.77\n",
      " Epoch: 40 Train Accuracy 25.81 and Validation Accuracy 25.78\n",
      " Epoch: 50 Train Accuracy 31.46 and Validation Accuracy 31.97\n",
      " Epoch: 60 Train Accuracy 36.68 and Validation Accuracy 37.01\n",
      " Epoch: 70 Train Accuracy 41.13 and Validation Accuracy 41.54\n",
      " Epoch: 80 Train Accuracy 44.79 and Validation Accuracy 45.49\n",
      " Epoch: 90 Train Accuracy 48.14 and Validation Accuracy 49.33\n",
      " Epoch: 100 Train Accuracy 51.07 and Validation Accuracy 52.01\n",
      " Epoch: 110 Train Accuracy 53.46 and Validation Accuracy 54.89\n",
      " Epoch: 120 Train Accuracy 55.60 and Validation Accuracy 56.95\n",
      " Epoch: 130 Train Accuracy 57.45 and Validation Accuracy 59.07\n",
      " Epoch: 140 Train Accuracy 59.19 and Validation Accuracy 60.62\n",
      " Epoch: 150 Train Accuracy 60.79 and Validation Accuracy 62.19\n",
      " Epoch: 160 Train Accuracy 62.18 and Validation Accuracy 63.40\n",
      " Epoch: 170 Train Accuracy 63.47 and Validation Accuracy 64.74\n",
      " Epoch: 180 Train Accuracy 64.49 and Validation Accuracy 66.18\n",
      " Epoch: 190 Train Accuracy 65.50 and Validation Accuracy 67.24\n",
      " Epoch: 200 Train Accuracy 66.44 and Validation Accuracy 68.08\n",
      " Epoch: 210 Train Accuracy 67.26 and Validation Accuracy 69.13\n",
      " Epoch: 220 Train Accuracy 68.01 and Validation Accuracy 69.84\n",
      " Epoch: 230 Train Accuracy 68.75 and Validation Accuracy 70.70\n",
      " Epoch: 240 Train Accuracy 69.42 and Validation Accuracy 71.23\n",
      " Epoch: 250 Train Accuracy 70.00 and Validation Accuracy 71.83\n",
      " Epoch: 260 Train Accuracy 70.48 and Validation Accuracy 72.41\n",
      " Epoch: 270 Train Accuracy 70.99 and Validation Accuracy 73.14\n",
      " Epoch: 280 Train Accuracy 71.44 and Validation Accuracy 73.56\n",
      " Epoch: 290 Train Accuracy 71.90 and Validation Accuracy 74.05\n",
      " Epoch: 300 Train Accuracy 72.31 and Validation Accuracy 74.44\n",
      " Epoch: 310 Train Accuracy 72.74 and Validation Accuracy 74.88\n",
      " Epoch: 320 Train Accuracy 73.17 and Validation Accuracy 75.24\n",
      " Epoch: 330 Train Accuracy 73.56 and Validation Accuracy 75.57\n",
      " Epoch: 340 Train Accuracy 73.94 and Validation Accuracy 75.99\n",
      " Epoch: 350 Train Accuracy 74.28 and Validation Accuracy 76.30\n",
      " Epoch: 360 Train Accuracy 74.65 and Validation Accuracy 76.61\n",
      " Epoch: 370 Train Accuracy 74.94 and Validation Accuracy 76.90\n",
      " Epoch: 380 Train Accuracy 75.23 and Validation Accuracy 77.08\n",
      " Epoch: 390 Train Accuracy 75.53 and Validation Accuracy 77.34\n",
      " Epoch: 400 Train Accuracy 75.78 and Validation Accuracy 77.60\n",
      " Epoch: 410 Train Accuracy 76.04 and Validation Accuracy 77.82\n",
      " Epoch: 420 Train Accuracy 76.27 and Validation Accuracy 78.09\n",
      " Epoch: 430 Train Accuracy 76.54 and Validation Accuracy 78.28\n",
      " Epoch: 440 Train Accuracy 76.79 and Validation Accuracy 78.58\n",
      " Epoch: 450 Train Accuracy 77.01 and Validation Accuracy 78.76\n",
      " Epoch: 460 Train Accuracy 77.22 and Validation Accuracy 79.07\n",
      " Epoch: 470 Train Accuracy 77.43 and Validation Accuracy 79.27\n",
      " Epoch: 480 Train Accuracy 77.64 and Validation Accuracy 79.49\n",
      " Epoch: 490 Train Accuracy 77.86 and Validation Accuracy 79.73\n",
      " Epoch: 500 Train Accuracy 78.05 and Validation Accuracy 79.95\n",
      " Epoch: 510 Train Accuracy 78.18 and Validation Accuracy 80.14\n",
      " Epoch: 520 Train Accuracy 78.34 and Validation Accuracy 80.26\n",
      " Epoch: 530 Train Accuracy 78.51 and Validation Accuracy 80.40\n",
      " Epoch: 540 Train Accuracy 78.65 and Validation Accuracy 80.64\n",
      " Epoch: 550 Train Accuracy 78.79 and Validation Accuracy 80.78\n",
      " Epoch: 560 Train Accuracy 78.99 and Validation Accuracy 81.02\n",
      " Epoch: 570 Train Accuracy 79.12 and Validation Accuracy 81.15\n",
      " Epoch: 580 Train Accuracy 79.24 and Validation Accuracy 81.32\n",
      " Epoch: 590 Train Accuracy 79.40 and Validation Accuracy 81.41\n",
      " Epoch: 600 Train Accuracy 79.55 and Validation Accuracy 81.56\n",
      " Epoch: 610 Train Accuracy 79.69 and Validation Accuracy 81.79\n",
      " Epoch: 620 Train Accuracy 79.82 and Validation Accuracy 81.97\n",
      " Epoch: 630 Train Accuracy 79.92 and Validation Accuracy 82.06\n",
      " Epoch: 640 Train Accuracy 80.05 and Validation Accuracy 82.21\n",
      " Epoch: 650 Train Accuracy 80.14 and Validation Accuracy 82.31\n",
      " Epoch: 660 Train Accuracy 80.26 and Validation Accuracy 82.41\n",
      " Epoch: 670 Train Accuracy 80.37 and Validation Accuracy 82.49\n",
      " Epoch: 680 Train Accuracy 80.48 and Validation Accuracy 82.57\n",
      " Epoch: 690 Train Accuracy 80.61 and Validation Accuracy 82.68\n",
      " Epoch: 700 Train Accuracy 80.72 and Validation Accuracy 82.82\n",
      " Epoch: 710 Train Accuracy 80.81 and Validation Accuracy 82.89\n",
      " Epoch: 720 Train Accuracy 80.92 and Validation Accuracy 82.96\n",
      " Epoch: 730 Train Accuracy 81.05 and Validation Accuracy 83.09\n",
      " Epoch: 740 Train Accuracy 81.13 and Validation Accuracy 83.17\n",
      " Epoch: 750 Train Accuracy 81.25 and Validation Accuracy 83.21\n",
      " Epoch: 760 Train Accuracy 81.35 and Validation Accuracy 83.33\n",
      " Epoch: 770 Train Accuracy 81.44 and Validation Accuracy 83.39\n",
      " Epoch: 780 Train Accuracy 81.55 and Validation Accuracy 83.48\n",
      " Epoch: 790 Train Accuracy 81.63 and Validation Accuracy 83.54\n",
      " Epoch: 800 Train Accuracy 81.76 and Validation Accuracy 83.65\n",
      " Epoch: 810 Train Accuracy 81.85 and Validation Accuracy 83.76\n",
      " Epoch: 820 Train Accuracy 81.93 and Validation Accuracy 83.79\n",
      " Epoch: 830 Train Accuracy 82.01 and Validation Accuracy 83.87\n",
      " Epoch: 840 Train Accuracy 82.09 and Validation Accuracy 83.97\n",
      " Epoch: 850 Train Accuracy 82.16 and Validation Accuracy 84.05\n",
      " Epoch: 860 Train Accuracy 82.20 and Validation Accuracy 84.14\n",
      " Epoch: 870 Train Accuracy 82.27 and Validation Accuracy 84.24\n",
      " Epoch: 880 Train Accuracy 82.36 and Validation Accuracy 84.27\n",
      " Epoch: 890 Train Accuracy 82.44 and Validation Accuracy 84.32\n",
      " Epoch: 900 Train Accuracy 82.50 and Validation Accuracy 84.35\n",
      " Epoch: 910 Train Accuracy 82.56 and Validation Accuracy 84.41\n",
      " Epoch: 920 Train Accuracy 82.62 and Validation Accuracy 84.53\n",
      " Epoch: 930 Train Accuracy 82.66 and Validation Accuracy 84.58\n",
      " Epoch: 940 Train Accuracy 82.75 and Validation Accuracy 84.64\n",
      " Epoch: 950 Train Accuracy 82.81 and Validation Accuracy 84.67\n",
      " Epoch: 960 Train Accuracy 82.87 and Validation Accuracy 84.72\n",
      " Epoch: 970 Train Accuracy 82.94 and Validation Accuracy 84.77\n",
      " Epoch: 980 Train Accuracy 83.00 and Validation Accuracy 84.84\n",
      " Epoch: 990 Train Accuracy 83.04 and Validation Accuracy 84.90\n",
      " Epoch: 1000 Train Accuracy 83.11 and Validation Accuracy 84.92\n",
      " Epoch: 1010 Train Accuracy 83.16 and Validation Accuracy 84.97\n",
      " Epoch: 1020 Train Accuracy 83.21 and Validation Accuracy 85.02\n",
      " Epoch: 1030 Train Accuracy 83.27 and Validation Accuracy 85.09\n",
      " Epoch: 1040 Train Accuracy 83.32 and Validation Accuracy 85.18\n",
      " Epoch: 1050 Train Accuracy 83.36 and Validation Accuracy 85.20\n",
      " Epoch: 1060 Train Accuracy 83.43 and Validation Accuracy 85.25\n",
      " Epoch: 1070 Train Accuracy 83.47 and Validation Accuracy 85.31\n",
      " Epoch: 1080 Train Accuracy 83.53 and Validation Accuracy 85.43\n",
      " Epoch: 1090 Train Accuracy 83.58 and Validation Accuracy 85.47\n",
      " Epoch: 1100 Train Accuracy 83.62 and Validation Accuracy 85.52\n",
      " Epoch: 1110 Train Accuracy 83.67 and Validation Accuracy 85.58\n",
      " Epoch: 1120 Train Accuracy 83.74 and Validation Accuracy 85.61\n",
      " Epoch: 1130 Train Accuracy 83.80 and Validation Accuracy 85.67\n",
      " Epoch: 1140 Train Accuracy 83.83 and Validation Accuracy 85.73\n",
      " Epoch: 1150 Train Accuracy 83.88 and Validation Accuracy 85.80\n",
      " Epoch: 1160 Train Accuracy 83.91 and Validation Accuracy 85.83\n",
      " Epoch: 1170 Train Accuracy 83.94 and Validation Accuracy 85.87\n",
      " Epoch: 1180 Train Accuracy 83.97 and Validation Accuracy 85.92\n",
      " Epoch: 1190 Train Accuracy 84.03 and Validation Accuracy 85.94\n",
      " Epoch: 1200 Train Accuracy 84.07 and Validation Accuracy 85.96\n",
      " Epoch: 1210 Train Accuracy 84.12 and Validation Accuracy 85.99\n",
      " Epoch: 1220 Train Accuracy 84.16 and Validation Accuracy 86.02\n",
      " Epoch: 1230 Train Accuracy 84.19 and Validation Accuracy 86.05\n",
      " Epoch: 1240 Train Accuracy 84.22 and Validation Accuracy 86.12\n",
      " Epoch: 1250 Train Accuracy 84.24 and Validation Accuracy 86.14\n",
      " Epoch: 1260 Train Accuracy 84.27 and Validation Accuracy 86.24\n",
      " Epoch: 1270 Train Accuracy 84.31 and Validation Accuracy 86.30\n",
      " Epoch: 1280 Train Accuracy 84.37 and Validation Accuracy 86.33\n",
      " Epoch: 1290 Train Accuracy 84.42 and Validation Accuracy 86.37\n",
      " Epoch: 1300 Train Accuracy 84.47 and Validation Accuracy 86.40\n",
      " Epoch: 1310 Train Accuracy 84.52 and Validation Accuracy 86.41\n",
      " Epoch: 1320 Train Accuracy 84.56 and Validation Accuracy 86.45\n",
      " Epoch: 1330 Train Accuracy 84.60 and Validation Accuracy 86.48\n",
      " Epoch: 1340 Train Accuracy 84.63 and Validation Accuracy 86.53\n",
      " Epoch: 1350 Train Accuracy 84.66 and Validation Accuracy 86.58\n",
      " Epoch: 1360 Train Accuracy 84.69 and Validation Accuracy 86.61\n",
      " Epoch: 1370 Train Accuracy 84.72 and Validation Accuracy 86.63\n",
      " Epoch: 1380 Train Accuracy 84.74 and Validation Accuracy 86.65\n",
      " Epoch: 1390 Train Accuracy 84.76 and Validation Accuracy 86.67\n",
      " Epoch: 1400 Train Accuracy 84.78 and Validation Accuracy 86.71\n",
      " Epoch: 1410 Train Accuracy 84.82 and Validation Accuracy 86.72\n",
      " Epoch: 1420 Train Accuracy 84.85 and Validation Accuracy 86.73\n",
      " Epoch: 1430 Train Accuracy 84.88 and Validation Accuracy 86.75\n",
      " Epoch: 1440 Train Accuracy 84.92 and Validation Accuracy 86.76\n",
      " Epoch: 1450 Train Accuracy 84.94 and Validation Accuracy 86.77\n",
      " Epoch: 1460 Train Accuracy 84.98 and Validation Accuracy 86.78\n",
      " Epoch: 1470 Train Accuracy 85.01 and Validation Accuracy 86.80\n",
      " Epoch: 1480 Train Accuracy 85.02 and Validation Accuracy 86.82\n",
      " Epoch: 1490 Train Accuracy 85.05 and Validation Accuracy 86.85\n",
      " Epoch: 1500 Train Accuracy 85.09 and Validation Accuracy 86.88\n",
      " Epoch: 1510 Train Accuracy 85.12 and Validation Accuracy 86.88\n",
      " Epoch: 1520 Train Accuracy 85.16 and Validation Accuracy 86.92\n",
      " Epoch: 1530 Train Accuracy 85.19 and Validation Accuracy 86.92\n",
      " Epoch: 1540 Train Accuracy 85.21 and Validation Accuracy 86.96\n",
      " Epoch: 1550 Train Accuracy 85.23 and Validation Accuracy 86.98\n",
      " Epoch: 1560 Train Accuracy 85.27 and Validation Accuracy 86.98\n",
      " Epoch: 1570 Train Accuracy 85.29 and Validation Accuracy 87.01\n",
      " Epoch: 1580 Train Accuracy 85.31 and Validation Accuracy 87.07\n",
      " Epoch: 1590 Train Accuracy 85.35 and Validation Accuracy 87.12\n",
      " Epoch: 1600 Train Accuracy 85.39 and Validation Accuracy 87.14\n",
      " Epoch: 1610 Train Accuracy 85.43 and Validation Accuracy 87.16\n",
      " Epoch: 1620 Train Accuracy 85.46 and Validation Accuracy 87.17\n",
      " Epoch: 1630 Train Accuracy 85.50 and Validation Accuracy 87.19\n",
      " Epoch: 1640 Train Accuracy 85.52 and Validation Accuracy 87.20\n",
      " Epoch: 1650 Train Accuracy 85.54 and Validation Accuracy 87.21\n",
      " Epoch: 1660 Train Accuracy 85.56 and Validation Accuracy 87.26\n",
      " Epoch: 1670 Train Accuracy 85.59 and Validation Accuracy 87.28\n",
      " Epoch: 1680 Train Accuracy 85.61 and Validation Accuracy 87.31\n",
      " Epoch: 1690 Train Accuracy 85.63 and Validation Accuracy 87.31\n",
      " Epoch: 1700 Train Accuracy 85.65 and Validation Accuracy 87.31\n",
      " Epoch: 1710 Train Accuracy 85.68 and Validation Accuracy 87.35\n",
      " Epoch: 1720 Train Accuracy 85.71 and Validation Accuracy 87.36\n",
      " Epoch: 1730 Train Accuracy 85.73 and Validation Accuracy 87.38\n",
      " Epoch: 1740 Train Accuracy 85.75 and Validation Accuracy 87.40\n",
      " Epoch: 1750 Train Accuracy 85.76 and Validation Accuracy 87.41\n",
      " Epoch: 1760 Train Accuracy 85.79 and Validation Accuracy 87.41\n",
      " Epoch: 1770 Train Accuracy 85.81 and Validation Accuracy 87.43\n",
      " Epoch: 1780 Train Accuracy 85.84 and Validation Accuracy 87.45\n",
      " Epoch: 1790 Train Accuracy 85.86 and Validation Accuracy 87.48\n",
      " Epoch: 1800 Train Accuracy 85.87 and Validation Accuracy 87.49\n",
      " Epoch: 1810 Train Accuracy 85.90 and Validation Accuracy 87.52\n",
      " Epoch: 1820 Train Accuracy 85.91 and Validation Accuracy 87.60\n",
      " Epoch: 1830 Train Accuracy 85.93 and Validation Accuracy 87.63\n",
      " Epoch: 1840 Train Accuracy 85.96 and Validation Accuracy 87.69\n",
      " Epoch: 1850 Train Accuracy 85.98 and Validation Accuracy 87.68\n",
      " Epoch: 1860 Train Accuracy 86.00 and Validation Accuracy 87.69\n",
      " Epoch: 1870 Train Accuracy 86.02 and Validation Accuracy 87.69\n",
      " Epoch: 1880 Train Accuracy 86.04 and Validation Accuracy 87.70\n",
      " Epoch: 1890 Train Accuracy 86.07 and Validation Accuracy 87.69\n",
      " Epoch: 1900 Train Accuracy 86.09 and Validation Accuracy 87.70\n",
      " Epoch: 1910 Train Accuracy 86.10 and Validation Accuracy 87.73\n",
      " Epoch: 1920 Train Accuracy 86.11 and Validation Accuracy 87.77\n",
      " Epoch: 1930 Train Accuracy 86.13 and Validation Accuracy 87.81\n",
      " Epoch: 1940 Train Accuracy 86.17 and Validation Accuracy 87.83\n",
      " Epoch: 1950 Train Accuracy 86.19 and Validation Accuracy 87.84\n",
      " Epoch: 1960 Train Accuracy 86.21 and Validation Accuracy 87.85\n",
      " Epoch: 1970 Train Accuracy 86.24 and Validation Accuracy 87.88\n",
      " Epoch: 1980 Train Accuracy 86.26 and Validation Accuracy 87.89\n",
      " Epoch: 1990 Train Accuracy 86.27 and Validation Accuracy 87.91\n",
      " Epoch: 2000 Train Accuracy 86.29 and Validation Accuracy 87.92\n",
      "Best Validation Accuracy is at epoch: 2000.0 with Accuracy Train of 86.29 and Validation of 87.92\n"
     ]
    },
    {
     "data": {
      "image/png": "[encoded data removed]",
      "text/plain": [
       "<Figure size 432x288 with 1 Axes>"
      ]
     },
     "metadata": {
      "needs_background": "light"
     },
     "output_type": "display_data"
    }
   ],
   "source": [
    "nnet, epoch, train_accuracy, val_accuracy = train_for_best_validation(Xtrain, Ttrain,  Xval, Tval, \n",
    "                                                                      2000, 10, [], method='sgd', learning_rate = 0.01) "
   ]
  },
  {
   "cell_type": "code",
   "execution_count": 31,
   "metadata": {},
   "outputs": [
    {
     "name": "stdout",
     "output_type": "stream",
     "text": [
      " Epoch: 10 Train Accuracy 16.09 and Validation Accuracy 16.90\n",
      " Epoch: 20 Train Accuracy 16.86 and Validation Accuracy 17.71\n",
      " Epoch: 30 Train Accuracy 17.63 and Validation Accuracy 18.56\n",
      " Epoch: 40 Train Accuracy 18.35 and Validation Accuracy 19.18\n",
      " Epoch: 50 Train Accuracy 18.99 and Validation Accuracy 19.82\n",
      " Epoch: 60 Train Accuracy 19.55 and Validation Accuracy 20.35\n",
      " Epoch: 70 Train Accuracy 20.17 and Validation Accuracy 20.93\n",
      " Epoch: 80 Train Accuracy 20.70 and Validation Accuracy 21.50\n",
      " Epoch: 90 Train Accuracy 21.25 and Validation Accuracy 21.98\n",
      " Epoch: 100 Train Accuracy 21.74 and Validation Accuracy 22.54\n",
      " Epoch: 110 Train Accuracy 22.24 and Validation Accuracy 23.02\n",
      " Epoch: 120 Train Accuracy 22.75 and Validation Accuracy 23.47\n",
      " Epoch: 130 Train Accuracy 23.22 and Validation Accuracy 23.94\n",
      " Epoch: 140 Train Accuracy 23.64 and Validation Accuracy 24.23\n",
      " Epoch: 150 Train Accuracy 24.13 and Validation Accuracy 24.80\n",
      " Epoch: 160 Train Accuracy 24.56 and Validation Accuracy 25.33\n",
      " Epoch: 170 Train Accuracy 25.01 and Validation Accuracy 25.75\n",
      " Epoch: 180 Train Accuracy 25.45 and Validation Accuracy 26.23\n",
      " Epoch: 190 Train Accuracy 25.90 and Validation Accuracy 26.60\n",
      " Epoch: 200 Train Accuracy 26.34 and Validation Accuracy 27.05\n",
      " Epoch: 210 Train Accuracy 26.85 and Validation Accuracy 27.56\n",
      " Epoch: 220 Train Accuracy 27.36 and Validation Accuracy 28.10\n",
      " Epoch: 230 Train Accuracy 27.82 and Validation Accuracy 28.48\n",
      " Epoch: 240 Train Accuracy 28.32 and Validation Accuracy 28.92\n",
      " Epoch: 250 Train Accuracy 28.82 and Validation Accuracy 29.37\n",
      " Epoch: 260 Train Accuracy 29.30 and Validation Accuracy 29.71\n",
      " Epoch: 270 Train Accuracy 29.77 and Validation Accuracy 30.27\n",
      " Epoch: 280 Train Accuracy 30.25 and Validation Accuracy 30.75\n",
      " Epoch: 290 Train Accuracy 30.74 and Validation Accuracy 31.05\n",
      " Epoch: 300 Train Accuracy 31.20 and Validation Accuracy 31.48\n",
      " Epoch: 310 Train Accuracy 31.67 and Validation Accuracy 31.98\n",
      " Epoch: 320 Train Accuracy 32.17 and Validation Accuracy 32.45\n",
      " Epoch: 330 Train Accuracy 32.74 and Validation Accuracy 32.99\n",
      " Epoch: 340 Train Accuracy 33.31 and Validation Accuracy 33.45\n",
      " Epoch: 350 Train Accuracy 33.91 and Validation Accuracy 33.99\n",
      " Epoch: 360 Train Accuracy 34.54 and Validation Accuracy 34.65\n",
      " Epoch: 370 Train Accuracy 35.23 and Validation Accuracy 35.32\n",
      " Epoch: 380 Train Accuracy 35.88 and Validation Accuracy 35.99\n",
      " Epoch: 390 Train Accuracy 36.57 and Validation Accuracy 36.59\n",
      " Epoch: 400 Train Accuracy 37.24 and Validation Accuracy 37.23\n",
      " Epoch: 410 Train Accuracy 37.97 and Validation Accuracy 37.98\n",
      " Epoch: 420 Train Accuracy 38.67 and Validation Accuracy 38.82\n",
      " Epoch: 430 Train Accuracy 39.42 and Validation Accuracy 39.51\n",
      " Epoch: 440 Train Accuracy 40.18 and Validation Accuracy 40.13\n",
      " Epoch: 450 Train Accuracy 40.88 and Validation Accuracy 40.92\n",
      " Epoch: 460 Train Accuracy 41.58 and Validation Accuracy 41.62\n",
      " Epoch: 470 Train Accuracy 42.36 and Validation Accuracy 42.35\n",
      " Epoch: 480 Train Accuracy 43.02 and Validation Accuracy 43.21\n",
      " Epoch: 490 Train Accuracy 43.72 and Validation Accuracy 43.96\n",
      " Epoch: 500 Train Accuracy 44.41 and Validation Accuracy 44.74\n",
      " Epoch: 510 Train Accuracy 45.09 and Validation Accuracy 45.45\n",
      " Epoch: 520 Train Accuracy 45.78 and Validation Accuracy 46.24\n",
      " Epoch: 530 Train Accuracy 46.38 and Validation Accuracy 46.96\n",
      " Epoch: 540 Train Accuracy 47.03 and Validation Accuracy 47.62\n",
      " Epoch: 550 Train Accuracy 47.66 and Validation Accuracy 48.21\n",
      " Epoch: 560 Train Accuracy 48.22 and Validation Accuracy 48.81\n",
      " Epoch: 570 Train Accuracy 48.74 and Validation Accuracy 49.27\n",
      " Epoch: 580 Train Accuracy 49.25 and Validation Accuracy 49.89\n",
      " Epoch: 590 Train Accuracy 49.79 and Validation Accuracy 50.46\n",
      " Epoch: 600 Train Accuracy 50.26 and Validation Accuracy 51.04\n",
      " Epoch: 610 Train Accuracy 50.77 and Validation Accuracy 51.48\n",
      " Epoch: 620 Train Accuracy 51.27 and Validation Accuracy 51.94\n",
      " Epoch: 630 Train Accuracy 51.77 and Validation Accuracy 52.52\n",
      " Epoch: 640 Train Accuracy 52.20 and Validation Accuracy 52.92\n",
      " Epoch: 650 Train Accuracy 52.62 and Validation Accuracy 53.43\n",
      " Epoch: 660 Train Accuracy 53.00 and Validation Accuracy 53.89\n",
      " Epoch: 670 Train Accuracy 53.42 and Validation Accuracy 54.33\n",
      " Epoch: 680 Train Accuracy 53.79 and Validation Accuracy 54.73\n",
      " Epoch: 690 Train Accuracy 54.11 and Validation Accuracy 55.03\n",
      " Epoch: 700 Train Accuracy 54.45 and Validation Accuracy 55.33\n",
      " Epoch: 710 Train Accuracy 54.80 and Validation Accuracy 55.67\n",
      " Epoch: 720 Train Accuracy 55.11 and Validation Accuracy 56.00\n",
      " Epoch: 730 Train Accuracy 55.42 and Validation Accuracy 56.39\n",
      " Epoch: 740 Train Accuracy 55.70 and Validation Accuracy 56.72\n",
      " Epoch: 750 Train Accuracy 55.99 and Validation Accuracy 56.99\n",
      " Epoch: 760 Train Accuracy 56.25 and Validation Accuracy 57.29\n",
      " Epoch: 770 Train Accuracy 56.56 and Validation Accuracy 57.56\n",
      " Epoch: 780 Train Accuracy 56.82 and Validation Accuracy 57.74\n",
      " Epoch: 790 Train Accuracy 57.08 and Validation Accuracy 58.00\n",
      " Epoch: 800 Train Accuracy 57.32 and Validation Accuracy 58.21\n",
      " Epoch: 810 Train Accuracy 57.57 and Validation Accuracy 58.42\n",
      " Epoch: 820 Train Accuracy 57.78 and Validation Accuracy 58.66\n",
      " Epoch: 830 Train Accuracy 57.99 and Validation Accuracy 58.94\n",
      " Epoch: 840 Train Accuracy 58.25 and Validation Accuracy 59.18\n",
      " Epoch: 850 Train Accuracy 58.40 and Validation Accuracy 59.48\n",
      " Epoch: 860 Train Accuracy 58.68 and Validation Accuracy 59.73\n",
      " Epoch: 870 Train Accuracy 58.89 and Validation Accuracy 59.94\n",
      " Epoch: 880 Train Accuracy 59.09 and Validation Accuracy 60.12\n",
      " Epoch: 890 Train Accuracy 59.29 and Validation Accuracy 60.40\n",
      " Epoch: 900 Train Accuracy 59.47 and Validation Accuracy 60.65\n",
      " Epoch: 910 Train Accuracy 59.66 and Validation Accuracy 60.97\n",
      " Epoch: 920 Train Accuracy 59.85 and Validation Accuracy 61.13\n",
      " Epoch: 930 Train Accuracy 60.03 and Validation Accuracy 61.31\n",
      " Epoch: 940 Train Accuracy 60.20 and Validation Accuracy 61.48\n",
      " Epoch: 950 Train Accuracy 60.37 and Validation Accuracy 61.62\n",
      " Epoch: 960 Train Accuracy 60.54 and Validation Accuracy 61.82\n",
      " Epoch: 970 Train Accuracy 60.68 and Validation Accuracy 62.03\n",
      " Epoch: 980 Train Accuracy 60.83 and Validation Accuracy 62.15\n",
      " Epoch: 990 Train Accuracy 61.00 and Validation Accuracy 62.29\n",
      " Epoch: 1000 Train Accuracy 61.16 and Validation Accuracy 62.47\n",
      " Epoch: 1010 Train Accuracy 61.29 and Validation Accuracy 62.61\n",
      " Epoch: 1020 Train Accuracy 61.47 and Validation Accuracy 62.70\n",
      " Epoch: 1030 Train Accuracy 61.61 and Validation Accuracy 62.86\n",
      " Epoch: 1040 Train Accuracy 61.74 and Validation Accuracy 63.05\n",
      " Epoch: 1050 Train Accuracy 61.88 and Validation Accuracy 63.15\n",
      " Epoch: 1060 Train Accuracy 61.98 and Validation Accuracy 63.33\n",
      " Epoch: 1070 Train Accuracy 62.08 and Validation Accuracy 63.61\n",
      " Epoch: 1080 Train Accuracy 62.19 and Validation Accuracy 63.76\n",
      " Epoch: 1090 Train Accuracy 62.29 and Validation Accuracy 63.85\n",
      " Epoch: 1100 Train Accuracy 62.39 and Validation Accuracy 63.94\n",
      " Epoch: 1110 Train Accuracy 62.54 and Validation Accuracy 64.00\n",
      " Epoch: 1120 Train Accuracy 62.63 and Validation Accuracy 64.13\n",
      " Epoch: 1130 Train Accuracy 62.74 and Validation Accuracy 64.34\n",
      " Epoch: 1140 Train Accuracy 62.85 and Validation Accuracy 64.46\n",
      " Epoch: 1150 Train Accuracy 62.93 and Validation Accuracy 64.53\n",
      " Epoch: 1160 Train Accuracy 63.04 and Validation Accuracy 64.64\n",
      " Epoch: 1170 Train Accuracy 63.11 and Validation Accuracy 64.74\n",
      " Epoch: 1180 Train Accuracy 63.18 and Validation Accuracy 64.86\n",
      " Epoch: 1190 Train Accuracy 63.26 and Validation Accuracy 64.97\n",
      " Epoch: 1200 Train Accuracy 63.35 and Validation Accuracy 65.10\n",
      " Epoch: 1210 Train Accuracy 63.44 and Validation Accuracy 65.20\n",
      " Epoch: 1220 Train Accuracy 63.51 and Validation Accuracy 65.32\n",
      " Epoch: 1230 Train Accuracy 63.59 and Validation Accuracy 65.39\n",
      " Epoch: 1240 Train Accuracy 63.68 and Validation Accuracy 65.41\n",
      " Epoch: 1250 Train Accuracy 63.76 and Validation Accuracy 65.46\n",
      " Epoch: 1260 Train Accuracy 63.84 and Validation Accuracy 65.53\n",
      " Epoch: 1270 Train Accuracy 63.89 and Validation Accuracy 65.64\n",
      " Epoch: 1280 Train Accuracy 63.96 and Validation Accuracy 65.72\n",
      " Epoch: 1290 Train Accuracy 64.04 and Validation Accuracy 65.83\n",
      " Epoch: 1300 Train Accuracy 64.14 and Validation Accuracy 65.87\n",
      " Epoch: 1310 Train Accuracy 64.19 and Validation Accuracy 65.93\n",
      " Epoch: 1320 Train Accuracy 64.25 and Validation Accuracy 65.99\n",
      " Epoch: 1330 Train Accuracy 64.33 and Validation Accuracy 66.12\n",
      " Epoch: 1340 Train Accuracy 64.40 and Validation Accuracy 66.19\n",
      " Epoch: 1350 Train Accuracy 64.48 and Validation Accuracy 66.25\n",
      " Epoch: 1360 Train Accuracy 64.54 and Validation Accuracy 66.35\n",
      " Epoch: 1370 Train Accuracy 64.60 and Validation Accuracy 66.41\n",
      " Epoch: 1380 Train Accuracy 64.68 and Validation Accuracy 66.50\n",
      " Epoch: 1390 Train Accuracy 64.73 and Validation Accuracy 66.51\n",
      " Epoch: 1400 Train Accuracy 64.81 and Validation Accuracy 66.61\n",
      " Epoch: 1410 Train Accuracy 64.86 and Validation Accuracy 66.67\n",
      " Epoch: 1420 Train Accuracy 64.92 and Validation Accuracy 66.71\n",
      " Epoch: 1430 Train Accuracy 64.98 and Validation Accuracy 66.77\n",
      " Epoch: 1440 Train Accuracy 65.04 and Validation Accuracy 66.83\n",
      " Epoch: 1450 Train Accuracy 65.13 and Validation Accuracy 66.87\n",
      " Epoch: 1460 Train Accuracy 65.18 and Validation Accuracy 66.91\n",
      " Epoch: 1470 Train Accuracy 65.23 and Validation Accuracy 66.97\n",
      " Epoch: 1480 Train Accuracy 65.26 and Validation Accuracy 67.03\n",
      " Epoch: 1490 Train Accuracy 65.32 and Validation Accuracy 67.17\n",
      " Epoch: 1500 Train Accuracy 65.36 and Validation Accuracy 67.22\n",
      " Epoch: 1510 Train Accuracy 65.40 and Validation Accuracy 67.22\n",
      " Epoch: 1520 Train Accuracy 65.44 and Validation Accuracy 67.30\n",
      " Epoch: 1530 Train Accuracy 65.50 and Validation Accuracy 67.34\n",
      " Epoch: 1540 Train Accuracy 65.56 and Validation Accuracy 67.43\n",
      " Epoch: 1550 Train Accuracy 65.61 and Validation Accuracy 67.46\n",
      " Epoch: 1560 Train Accuracy 65.66 and Validation Accuracy 67.50\n",
      " Epoch: 1570 Train Accuracy 65.71 and Validation Accuracy 67.55\n",
      " Epoch: 1580 Train Accuracy 65.76 and Validation Accuracy 67.62\n",
      " Epoch: 1590 Train Accuracy 65.82 and Validation Accuracy 67.64\n",
      " Epoch: 1600 Train Accuracy 65.89 and Validation Accuracy 67.70\n",
      " Epoch: 1610 Train Accuracy 65.93 and Validation Accuracy 67.75\n",
      " Epoch: 1620 Train Accuracy 65.98 and Validation Accuracy 67.76\n",
      " Epoch: 1630 Train Accuracy 66.04 and Validation Accuracy 67.81\n",
      " Epoch: 1640 Train Accuracy 66.09 and Validation Accuracy 67.84\n",
      " Epoch: 1650 Train Accuracy 66.10 and Validation Accuracy 67.88\n",
      " Epoch: 1660 Train Accuracy 66.13 and Validation Accuracy 67.94\n",
      " Epoch: 1670 Train Accuracy 66.18 and Validation Accuracy 67.94\n",
      " Epoch: 1680 Train Accuracy 66.21 and Validation Accuracy 67.93\n",
      " Epoch: 1690 Train Accuracy 66.29 and Validation Accuracy 67.94\n",
      " Epoch: 1700 Train Accuracy 66.32 and Validation Accuracy 67.96\n",
      " Epoch: 1710 Train Accuracy 66.37 and Validation Accuracy 68.03\n",
      " Epoch: 1720 Train Accuracy 66.43 and Validation Accuracy 68.13\n",
      " Epoch: 1730 Train Accuracy 66.47 and Validation Accuracy 68.16\n",
      " Epoch: 1740 Train Accuracy 66.50 and Validation Accuracy 68.16\n",
      " Epoch: 1750 Train Accuracy 66.54 and Validation Accuracy 68.15\n",
      " Epoch: 1760 Train Accuracy 66.58 and Validation Accuracy 68.10\n",
      " Epoch: 1770 Train Accuracy 66.63 and Validation Accuracy 68.12\n",
      " Epoch: 1780 Train Accuracy 66.68 and Validation Accuracy 68.16\n",
      " Epoch: 1790 Train Accuracy 66.71 and Validation Accuracy 68.17\n",
      " Epoch: 1800 Train Accuracy 66.76 and Validation Accuracy 68.26\n",
      " Epoch: 1810 Train Accuracy 66.80 and Validation Accuracy 68.26\n",
      " Epoch: 1820 Train Accuracy 66.85 and Validation Accuracy 68.31\n",
      " Epoch: 1830 Train Accuracy 66.88 and Validation Accuracy 68.31\n",
      " Epoch: 1840 Train Accuracy 66.93 and Validation Accuracy 68.33\n",
      " Epoch: 1850 Train Accuracy 66.97 and Validation Accuracy 68.33\n",
      " Epoch: 1860 Train Accuracy 66.99 and Validation Accuracy 68.40\n",
      " Epoch: 1870 Train Accuracy 67.04 and Validation Accuracy 68.39\n",
      " Epoch: 1880 Train Accuracy 67.08 and Validation Accuracy 68.51\n",
      " Epoch: 1890 Train Accuracy 67.14 and Validation Accuracy 68.55\n",
      " Epoch: 1900 Train Accuracy 67.20 and Validation Accuracy 68.54\n",
      " Epoch: 1910 Train Accuracy 67.23 and Validation Accuracy 68.59\n",
      " Epoch: 1920 Train Accuracy 67.28 and Validation Accuracy 68.58\n",
      " Epoch: 1930 Train Accuracy 67.30 and Validation Accuracy 68.63\n",
      " Epoch: 1940 Train Accuracy 67.35 and Validation Accuracy 68.65\n",
      " Epoch: 1950 Train Accuracy 67.39 and Validation Accuracy 68.66\n",
      " Epoch: 1960 Train Accuracy 67.42 and Validation Accuracy 68.70\n",
      " Epoch: 1970 Train Accuracy 67.48 and Validation Accuracy 68.74\n",
      " Epoch: 1980 Train Accuracy 67.51 and Validation Accuracy 68.81\n",
      " Epoch: 1990 Train Accuracy 67.56 and Validation Accuracy 68.87\n",
      " Epoch: 2000 Train Accuracy 67.60 and Validation Accuracy 68.87\n",
      "Best Validation Accuracy is at epoch: 1990.0 with Accuracy Train of 67.56 and Validation of 68.87\n"
     ]
    },
    {
     "data": {
      "image/png": "[encoded data removed]",
      "text/plain": [
       "<Figure size 432x288 with 1 Axes>"
      ]
     },
     "metadata": {
      "needs_background": "light"
     },
     "output_type": "display_data"
    }
   ],
   "source": [
    "nnet, epoch, train_accuracy, val_accuracy = train_for_best_validation(Xtrain, Ttrain,  Xval, Tval, \n",
    "                                                                      2000, 10, [10,20], method='sgd', learning_rate = 0.1) "
   ]
  },
  {
   "cell_type": "code",
   "execution_count": 19,
   "metadata": {},
   "outputs": [
    {
     "name": "stdout",
     "output_type": "stream",
     "text": [
      " Epoch: 10 Train Accuracy 10.05 and Validation Accuracy 10.06\n",
      " Epoch: 20 Train Accuracy 10.06 and Validation Accuracy 10.06\n",
      " Epoch: 30 Train Accuracy 10.07 and Validation Accuracy 10.06\n",
      " Epoch: 40 Train Accuracy 10.07 and Validation Accuracy 10.08\n",
      " Epoch: 50 Train Accuracy 10.08 and Validation Accuracy 10.09\n",
      " Epoch: 60 Train Accuracy 10.09 and Validation Accuracy 10.10\n",
      " Epoch: 70 Train Accuracy 10.10 and Validation Accuracy 10.11\n",
      " Epoch: 80 Train Accuracy 10.11 and Validation Accuracy 10.12\n",
      " Epoch: 90 Train Accuracy 10.13 and Validation Accuracy 10.12\n",
      " Epoch: 100 Train Accuracy 10.14 and Validation Accuracy 10.13\n",
      " Epoch: 110 Train Accuracy 10.15 and Validation Accuracy 10.15\n",
      " Epoch: 120 Train Accuracy 10.16 and Validation Accuracy 10.16\n",
      " Epoch: 130 Train Accuracy 10.16 and Validation Accuracy 10.18\n",
      " Epoch: 140 Train Accuracy 10.17 and Validation Accuracy 10.19\n",
      " Epoch: 150 Train Accuracy 10.19 and Validation Accuracy 10.21\n",
      " Epoch: 160 Train Accuracy 10.20 and Validation Accuracy 10.23\n",
      " Epoch: 170 Train Accuracy 10.22 and Validation Accuracy 10.24\n",
      " Epoch: 180 Train Accuracy 10.24 and Validation Accuracy 10.27\n",
      " Epoch: 190 Train Accuracy 10.25 and Validation Accuracy 10.29\n",
      " Epoch: 200 Train Accuracy 10.26 and Validation Accuracy 10.29\n",
      " Epoch: 210 Train Accuracy 10.29 and Validation Accuracy 10.31\n",
      " Epoch: 220 Train Accuracy 10.29 and Validation Accuracy 10.33\n",
      " Epoch: 230 Train Accuracy 10.32 and Validation Accuracy 10.34\n",
      " Epoch: 240 Train Accuracy 10.34 and Validation Accuracy 10.34\n",
      " Epoch: 250 Train Accuracy 10.35 and Validation Accuracy 10.37\n",
      " Epoch: 260 Train Accuracy 10.38 and Validation Accuracy 10.37\n",
      " Epoch: 270 Train Accuracy 10.40 and Validation Accuracy 10.40\n",
      " Epoch: 280 Train Accuracy 10.42 and Validation Accuracy 10.42\n",
      " Epoch: 290 Train Accuracy 10.46 and Validation Accuracy 10.47\n",
      " Epoch: 300 Train Accuracy 10.48 and Validation Accuracy 10.50\n",
      " Epoch: 310 Train Accuracy 10.50 and Validation Accuracy 10.52\n",
      " Epoch: 320 Train Accuracy 10.52 and Validation Accuracy 10.55\n",
      " Epoch: 330 Train Accuracy 10.55 and Validation Accuracy 10.58\n",
      " Epoch: 340 Train Accuracy 10.57 and Validation Accuracy 10.65\n",
      " Epoch: 350 Train Accuracy 10.60 and Validation Accuracy 10.72\n",
      " Epoch: 360 Train Accuracy 10.63 and Validation Accuracy 10.75\n",
      " Epoch: 370 Train Accuracy 10.67 and Validation Accuracy 10.80\n",
      " Epoch: 380 Train Accuracy 10.71 and Validation Accuracy 10.85\n",
      " Epoch: 390 Train Accuracy 10.75 and Validation Accuracy 10.88\n",
      " Epoch: 400 Train Accuracy 10.79 and Validation Accuracy 10.94\n",
      " Epoch: 410 Train Accuracy 10.84 and Validation Accuracy 10.96\n",
      " Epoch: 420 Train Accuracy 10.88 and Validation Accuracy 11.03\n",
      " Epoch: 430 Train Accuracy 10.92 and Validation Accuracy 11.06\n",
      " Epoch: 440 Train Accuracy 10.97 and Validation Accuracy 11.11\n",
      " Epoch: 450 Train Accuracy 11.02 and Validation Accuracy 11.14\n",
      " Epoch: 460 Train Accuracy 11.06 and Validation Accuracy 11.16\n",
      " Epoch: 470 Train Accuracy 11.10 and Validation Accuracy 11.19\n",
      " Epoch: 480 Train Accuracy 11.14 and Validation Accuracy 11.24\n",
      " Epoch: 490 Train Accuracy 11.19 and Validation Accuracy 11.30\n",
      " Epoch: 500 Train Accuracy 11.24 and Validation Accuracy 11.41\n",
      " Epoch: 510 Train Accuracy 11.30 and Validation Accuracy 11.48\n",
      " Epoch: 520 Train Accuracy 11.35 and Validation Accuracy 11.54\n",
      " Epoch: 530 Train Accuracy 11.40 and Validation Accuracy 11.59\n",
      " Epoch: 540 Train Accuracy 11.47 and Validation Accuracy 11.62\n",
      " Epoch: 550 Train Accuracy 11.53 and Validation Accuracy 11.69\n",
      " Epoch: 560 Train Accuracy 11.58 and Validation Accuracy 11.76\n",
      " Epoch: 570 Train Accuracy 11.66 and Validation Accuracy 11.80\n",
      " Epoch: 580 Train Accuracy 11.72 and Validation Accuracy 11.86\n",
      " Epoch: 590 Train Accuracy 11.78 and Validation Accuracy 11.93\n",
      " Epoch: 600 Train Accuracy 11.84 and Validation Accuracy 12.03\n",
      " Epoch: 610 Train Accuracy 11.89 and Validation Accuracy 12.08\n",
      " Epoch: 620 Train Accuracy 11.94 and Validation Accuracy 12.16\n",
      " Epoch: 630 Train Accuracy 12.00 and Validation Accuracy 12.19\n",
      " Epoch: 640 Train Accuracy 12.06 and Validation Accuracy 12.27\n",
      " Epoch: 650 Train Accuracy 12.13 and Validation Accuracy 12.34\n",
      " Epoch: 660 Train Accuracy 12.20 and Validation Accuracy 12.40\n",
      " Epoch: 670 Train Accuracy 12.28 and Validation Accuracy 12.46\n",
      " Epoch: 680 Train Accuracy 12.33 and Validation Accuracy 12.53\n",
      " Epoch: 690 Train Accuracy 12.40 and Validation Accuracy 12.59\n",
      " Epoch: 700 Train Accuracy 12.46 and Validation Accuracy 12.67\n",
      " Epoch: 710 Train Accuracy 12.53 and Validation Accuracy 12.74\n",
      " Epoch: 720 Train Accuracy 12.61 and Validation Accuracy 12.87\n",
      " Epoch: 730 Train Accuracy 12.70 and Validation Accuracy 12.96\n",
      " Epoch: 740 Train Accuracy 12.78 and Validation Accuracy 13.11\n",
      " Epoch: 750 Train Accuracy 12.84 and Validation Accuracy 13.19\n",
      " Epoch: 760 Train Accuracy 12.93 and Validation Accuracy 13.23\n",
      " Epoch: 770 Train Accuracy 13.01 and Validation Accuracy 13.33\n",
      " Epoch: 780 Train Accuracy 13.08 and Validation Accuracy 13.36\n",
      " Epoch: 790 Train Accuracy 13.13 and Validation Accuracy 13.50\n",
      " Epoch: 800 Train Accuracy 13.21 and Validation Accuracy 13.58\n",
      " Epoch: 810 Train Accuracy 13.27 and Validation Accuracy 13.63\n",
      " Epoch: 820 Train Accuracy 13.34 and Validation Accuracy 13.71\n",
      " Epoch: 830 Train Accuracy 13.40 and Validation Accuracy 13.77\n",
      " Epoch: 840 Train Accuracy 13.49 and Validation Accuracy 13.81\n",
      " Epoch: 850 Train Accuracy 13.57 and Validation Accuracy 13.87\n",
      " Epoch: 860 Train Accuracy 13.65 and Validation Accuracy 13.97\n",
      " Epoch: 870 Train Accuracy 13.70 and Validation Accuracy 14.04\n",
      " Epoch: 880 Train Accuracy 13.76 and Validation Accuracy 14.12\n",
      " Epoch: 890 Train Accuracy 13.84 and Validation Accuracy 14.17\n",
      " Epoch: 900 Train Accuracy 13.91 and Validation Accuracy 14.22\n",
      " Epoch: 910 Train Accuracy 13.97 and Validation Accuracy 14.27\n",
      " Epoch: 920 Train Accuracy 14.06 and Validation Accuracy 14.31\n",
      " Epoch: 930 Train Accuracy 14.14 and Validation Accuracy 14.35\n",
      " Epoch: 940 Train Accuracy 14.22 and Validation Accuracy 14.38\n",
      " Epoch: 950 Train Accuracy 14.31 and Validation Accuracy 14.50\n",
      " Epoch: 960 Train Accuracy 14.38 and Validation Accuracy 14.59\n",
      " Epoch: 970 Train Accuracy 14.44 and Validation Accuracy 14.67\n",
      " Epoch: 980 Train Accuracy 14.50 and Validation Accuracy 14.77\n",
      " Epoch: 990 Train Accuracy 14.56 and Validation Accuracy 14.86\n",
      " Epoch: 1000 Train Accuracy 14.63 and Validation Accuracy 14.94\n",
      " Epoch: 1010 Train Accuracy 14.71 and Validation Accuracy 14.99\n",
      " Epoch: 1020 Train Accuracy 14.76 and Validation Accuracy 15.08\n",
      " Epoch: 1030 Train Accuracy 14.83 and Validation Accuracy 15.13\n",
      " Epoch: 1040 Train Accuracy 14.89 and Validation Accuracy 15.16\n",
      " Epoch: 1050 Train Accuracy 14.95 and Validation Accuracy 15.25\n",
      " Epoch: 1060 Train Accuracy 14.99 and Validation Accuracy 15.29\n",
      " Epoch: 1070 Train Accuracy 15.03 and Validation Accuracy 15.30\n",
      " Epoch: 1080 Train Accuracy 15.09 and Validation Accuracy 15.34\n",
      " Epoch: 1090 Train Accuracy 15.14 and Validation Accuracy 15.42\n",
      " Epoch: 1100 Train Accuracy 15.17 and Validation Accuracy 15.52\n",
      " Epoch: 1110 Train Accuracy 15.24 and Validation Accuracy 15.59\n",
      " Epoch: 1120 Train Accuracy 15.29 and Validation Accuracy 15.69\n",
      " Epoch: 1130 Train Accuracy 15.35 and Validation Accuracy 15.72\n",
      " Epoch: 1140 Train Accuracy 15.40 and Validation Accuracy 15.80\n",
      " Epoch: 1150 Train Accuracy 15.45 and Validation Accuracy 15.87\n",
      " Epoch: 1160 Train Accuracy 15.51 and Validation Accuracy 15.96\n",
      " Epoch: 1170 Train Accuracy 15.57 and Validation Accuracy 16.09\n",
      " Epoch: 1180 Train Accuracy 15.62 and Validation Accuracy 16.11\n",
      " Epoch: 1190 Train Accuracy 15.68 and Validation Accuracy 16.16\n",
      " Epoch: 1200 Train Accuracy 15.73 and Validation Accuracy 16.20\n",
      " Epoch: 1210 Train Accuracy 15.77 and Validation Accuracy 16.23\n",
      " Epoch: 1220 Train Accuracy 15.81 and Validation Accuracy 16.28\n",
      " Epoch: 1230 Train Accuracy 15.87 and Validation Accuracy 16.32\n",
      " Epoch: 1240 Train Accuracy 15.92 and Validation Accuracy 16.34\n",
      " Epoch: 1250 Train Accuracy 15.96 and Validation Accuracy 16.39\n",
      " Epoch: 1260 Train Accuracy 16.01 and Validation Accuracy 16.48\n",
      " Epoch: 1270 Train Accuracy 16.07 and Validation Accuracy 16.50\n",
      " Epoch: 1280 Train Accuracy 16.13 and Validation Accuracy 16.54\n",
      " Epoch: 1290 Train Accuracy 16.21 and Validation Accuracy 16.58\n",
      " Epoch: 1300 Train Accuracy 16.28 and Validation Accuracy 16.68\n",
      " Epoch: 1310 Train Accuracy 16.36 and Validation Accuracy 16.79\n",
      " Epoch: 1320 Train Accuracy 16.46 and Validation Accuracy 16.88\n",
      " Epoch: 1330 Train Accuracy 16.60 and Validation Accuracy 17.01\n",
      " Epoch: 1340 Train Accuracy 16.75 and Validation Accuracy 17.16\n",
      " Epoch: 1350 Train Accuracy 16.94 and Validation Accuracy 17.32\n",
      " Epoch: 1360 Train Accuracy 17.21 and Validation Accuracy 17.60\n",
      " Epoch: 1370 Train Accuracy 17.49 and Validation Accuracy 17.82\n",
      " Epoch: 1380 Train Accuracy 17.78 and Validation Accuracy 18.12\n",
      " Epoch: 1390 Train Accuracy 18.12 and Validation Accuracy 18.46\n",
      " Epoch: 1400 Train Accuracy 18.49 and Validation Accuracy 18.82\n",
      " Epoch: 1410 Train Accuracy 18.91 and Validation Accuracy 19.13\n",
      " Epoch: 1420 Train Accuracy 19.28 and Validation Accuracy 19.52\n",
      " Epoch: 1430 Train Accuracy 19.67 and Validation Accuracy 20.00\n",
      " Epoch: 1440 Train Accuracy 20.03 and Validation Accuracy 20.41\n",
      " Epoch: 1450 Train Accuracy 20.45 and Validation Accuracy 20.84\n",
      " Epoch: 1460 Train Accuracy 20.79 and Validation Accuracy 21.09\n",
      " Epoch: 1470 Train Accuracy 21.11 and Validation Accuracy 21.41\n",
      " Epoch: 1480 Train Accuracy 21.46 and Validation Accuracy 21.74\n",
      " Epoch: 1490 Train Accuracy 21.80 and Validation Accuracy 21.98\n",
      " Epoch: 1500 Train Accuracy 22.09 and Validation Accuracy 22.34\n",
      "Best Validation Accuracy is at epoch: 1500.0 with Accuracy Train of 22.09 and Validation of 22.34\n"
     ]
    },
    {
     "data": {
      "image/png": "[encoded data removed]",
      "text/plain": [
       "<Figure size 432x288 with 1 Axes>"
      ]
     },
     "metadata": {
      "needs_background": "light"
     },
     "output_type": "display_data"
    }
   ],
   "source": [
    "nnet, epoch, train_accuracy, val_accuracy = train_for_best_validation(Xtrain, Ttrain,  Xval, Tval, \n",
    "                                                                      1500, 10, [10,20,30,40,50], method='sgd', learning_rate = 0.1) "
   ]
  },
  {
   "cell_type": "code",
   "execution_count": 20,
   "metadata": {},
   "outputs": [
    {
     "name": "stdout",
     "output_type": "stream",
     "text": [
      " Epoch: 10 Train Accuracy 11.84 and Validation Accuracy 12.38\n",
      " Epoch: 20 Train Accuracy 13.04 and Validation Accuracy 13.61\n",
      " Epoch: 30 Train Accuracy 14.38 and Validation Accuracy 15.08\n",
      " Epoch: 40 Train Accuracy 15.82 and Validation Accuracy 16.32\n",
      " Epoch: 50 Train Accuracy 17.35 and Validation Accuracy 17.84\n",
      " Epoch: 60 Train Accuracy 18.99 and Validation Accuracy 19.17\n",
      " Epoch: 70 Train Accuracy 20.73 and Validation Accuracy 20.83\n",
      " Epoch: 80 Train Accuracy 22.44 and Validation Accuracy 22.48\n",
      " Epoch: 90 Train Accuracy 24.21 and Validation Accuracy 24.07\n",
      " Epoch: 100 Train Accuracy 26.14 and Validation Accuracy 26.16\n",
      " Epoch: 110 Train Accuracy 28.13 and Validation Accuracy 28.14\n",
      " Epoch: 120 Train Accuracy 30.12 and Validation Accuracy 30.31\n",
      " Epoch: 130 Train Accuracy 32.21 and Validation Accuracy 32.41\n",
      " Epoch: 140 Train Accuracy 34.32 and Validation Accuracy 34.40\n",
      " Epoch: 150 Train Accuracy 36.13 and Validation Accuracy 36.51\n",
      " Epoch: 160 Train Accuracy 37.84 and Validation Accuracy 38.31\n",
      " Epoch: 170 Train Accuracy 39.34 and Validation Accuracy 40.05\n",
      " Epoch: 180 Train Accuracy 40.58 and Validation Accuracy 41.57\n",
      " Epoch: 190 Train Accuracy 41.80 and Validation Accuracy 42.94\n",
      " Epoch: 200 Train Accuracy 42.94 and Validation Accuracy 43.95\n",
      " Epoch: 210 Train Accuracy 43.88 and Validation Accuracy 45.13\n",
      " Epoch: 220 Train Accuracy 44.71 and Validation Accuracy 45.93\n",
      " Epoch: 230 Train Accuracy 45.52 and Validation Accuracy 46.91\n",
      " Epoch: 240 Train Accuracy 46.28 and Validation Accuracy 47.82\n",
      " Epoch: 250 Train Accuracy 47.03 and Validation Accuracy 48.55\n",
      " Epoch: 260 Train Accuracy 47.83 and Validation Accuracy 49.20\n",
      " Epoch: 270 Train Accuracy 48.55 and Validation Accuracy 49.86\n",
      " Epoch: 280 Train Accuracy 49.15 and Validation Accuracy 50.66\n",
      " Epoch: 290 Train Accuracy 49.79 and Validation Accuracy 51.21\n",
      " Epoch: 300 Train Accuracy 50.42 and Validation Accuracy 51.86\n",
      " Epoch: 310 Train Accuracy 50.96 and Validation Accuracy 52.62\n",
      " Epoch: 320 Train Accuracy 51.43 and Validation Accuracy 53.06\n",
      " Epoch: 330 Train Accuracy 51.95 and Validation Accuracy 53.54\n",
      " Epoch: 340 Train Accuracy 52.42 and Validation Accuracy 54.14\n",
      " Epoch: 350 Train Accuracy 52.93 and Validation Accuracy 54.56\n",
      " Epoch: 360 Train Accuracy 53.31 and Validation Accuracy 55.05\n",
      " Epoch: 370 Train Accuracy 53.75 and Validation Accuracy 55.52\n",
      " Epoch: 380 Train Accuracy 54.15 and Validation Accuracy 55.96\n",
      " Epoch: 390 Train Accuracy 54.54 and Validation Accuracy 56.44\n",
      " Epoch: 400 Train Accuracy 54.88 and Validation Accuracy 56.79\n",
      " Epoch: 410 Train Accuracy 55.27 and Validation Accuracy 57.27\n",
      " Epoch: 420 Train Accuracy 55.61 and Validation Accuracy 57.52\n",
      " Epoch: 430 Train Accuracy 56.03 and Validation Accuracy 57.89\n",
      " Epoch: 440 Train Accuracy 56.34 and Validation Accuracy 58.20\n",
      " Epoch: 450 Train Accuracy 56.66 and Validation Accuracy 58.46\n",
      " Epoch: 460 Train Accuracy 56.96 and Validation Accuracy 58.68\n",
      " Epoch: 470 Train Accuracy 57.23 and Validation Accuracy 58.96\n",
      " Epoch: 480 Train Accuracy 57.52 and Validation Accuracy 59.29\n",
      " Epoch: 490 Train Accuracy 57.78 and Validation Accuracy 59.60\n",
      " Epoch: 500 Train Accuracy 58.03 and Validation Accuracy 59.93\n",
      " Epoch: 510 Train Accuracy 58.27 and Validation Accuracy 60.12\n",
      " Epoch: 520 Train Accuracy 58.51 and Validation Accuracy 60.33\n",
      " Epoch: 530 Train Accuracy 58.70 and Validation Accuracy 60.54\n",
      " Epoch: 540 Train Accuracy 58.93 and Validation Accuracy 60.76\n",
      " Epoch: 550 Train Accuracy 59.14 and Validation Accuracy 60.97\n",
      " Epoch: 560 Train Accuracy 59.30 and Validation Accuracy 61.20\n",
      " Epoch: 570 Train Accuracy 59.50 and Validation Accuracy 61.35\n",
      " Epoch: 580 Train Accuracy 59.68 and Validation Accuracy 61.57\n",
      " Epoch: 590 Train Accuracy 59.86 and Validation Accuracy 61.77\n",
      " Epoch: 600 Train Accuracy 60.05 and Validation Accuracy 61.92\n",
      " Epoch: 610 Train Accuracy 60.24 and Validation Accuracy 62.08\n",
      " Epoch: 620 Train Accuracy 60.40 and Validation Accuracy 62.20\n",
      " Epoch: 630 Train Accuracy 60.58 and Validation Accuracy 62.35\n",
      " Epoch: 640 Train Accuracy 60.74 and Validation Accuracy 62.53\n",
      " Epoch: 650 Train Accuracy 60.89 and Validation Accuracy 62.80\n",
      " Epoch: 660 Train Accuracy 61.04 and Validation Accuracy 62.97\n",
      " Epoch: 670 Train Accuracy 61.17 and Validation Accuracy 63.11\n",
      " Epoch: 680 Train Accuracy 61.31 and Validation Accuracy 63.26\n",
      " Epoch: 690 Train Accuracy 61.43 and Validation Accuracy 63.40\n",
      " Epoch: 700 Train Accuracy 61.58 and Validation Accuracy 63.60\n",
      " Epoch: 710 Train Accuracy 61.70 and Validation Accuracy 63.71\n",
      " Epoch: 720 Train Accuracy 61.82 and Validation Accuracy 63.79\n",
      " Epoch: 730 Train Accuracy 61.95 and Validation Accuracy 63.82\n",
      " Epoch: 740 Train Accuracy 62.10 and Validation Accuracy 63.91\n",
      " Epoch: 750 Train Accuracy 62.22 and Validation Accuracy 64.05\n",
      " Epoch: 760 Train Accuracy 62.37 and Validation Accuracy 64.16\n",
      " Epoch: 770 Train Accuracy 62.49 and Validation Accuracy 64.23\n",
      " Epoch: 780 Train Accuracy 62.63 and Validation Accuracy 64.35\n",
      " Epoch: 790 Train Accuracy 62.73 and Validation Accuracy 64.45\n",
      " Epoch: 800 Train Accuracy 62.81 and Validation Accuracy 64.55\n",
      " Epoch: 810 Train Accuracy 62.91 and Validation Accuracy 64.62\n",
      " Epoch: 820 Train Accuracy 63.00 and Validation Accuracy 64.74\n",
      " Epoch: 830 Train Accuracy 63.11 and Validation Accuracy 64.82\n",
      " Epoch: 840 Train Accuracy 63.23 and Validation Accuracy 64.90\n",
      " Epoch: 850 Train Accuracy 63.33 and Validation Accuracy 65.05\n",
      " Epoch: 860 Train Accuracy 63.44 and Validation Accuracy 65.16\n",
      " Epoch: 870 Train Accuracy 63.54 and Validation Accuracy 65.22\n",
      " Epoch: 880 Train Accuracy 63.63 and Validation Accuracy 65.28\n",
      " Epoch: 890 Train Accuracy 63.70 and Validation Accuracy 65.39\n",
      " Epoch: 900 Train Accuracy 63.78 and Validation Accuracy 65.51\n",
      " Epoch: 910 Train Accuracy 63.88 and Validation Accuracy 65.65\n",
      " Epoch: 920 Train Accuracy 63.96 and Validation Accuracy 65.77\n",
      " Epoch: 930 Train Accuracy 64.09 and Validation Accuracy 65.87\n",
      " Epoch: 940 Train Accuracy 64.16 and Validation Accuracy 65.95\n",
      " Epoch: 950 Train Accuracy 64.30 and Validation Accuracy 66.09\n",
      " Epoch: 960 Train Accuracy 64.42 and Validation Accuracy 66.20\n",
      " Epoch: 970 Train Accuracy 64.54 and Validation Accuracy 66.30\n",
      " Epoch: 980 Train Accuracy 64.64 and Validation Accuracy 66.39\n",
      " Epoch: 990 Train Accuracy 64.73 and Validation Accuracy 66.54\n",
      " Epoch: 1000 Train Accuracy 64.81 and Validation Accuracy 66.58\n",
      " Epoch: 1010 Train Accuracy 64.89 and Validation Accuracy 66.69\n",
      " Epoch: 1020 Train Accuracy 64.99 and Validation Accuracy 66.74\n",
      " Epoch: 1030 Train Accuracy 65.11 and Validation Accuracy 66.79\n",
      " Epoch: 1040 Train Accuracy 65.16 and Validation Accuracy 66.85\n",
      " Epoch: 1050 Train Accuracy 65.25 and Validation Accuracy 66.91\n",
      " Epoch: 1060 Train Accuracy 65.33 and Validation Accuracy 67.04\n",
      " Epoch: 1070 Train Accuracy 65.42 and Validation Accuracy 67.11\n",
      " Epoch: 1080 Train Accuracy 65.51 and Validation Accuracy 67.25\n",
      " Epoch: 1090 Train Accuracy 65.63 and Validation Accuracy 67.38\n",
      " Epoch: 1100 Train Accuracy 65.72 and Validation Accuracy 67.45\n",
      " Epoch: 1110 Train Accuracy 65.83 and Validation Accuracy 67.53\n",
      " Epoch: 1120 Train Accuracy 65.92 and Validation Accuracy 67.62\n",
      " Epoch: 1130 Train Accuracy 65.99 and Validation Accuracy 67.70\n",
      " Epoch: 1140 Train Accuracy 66.07 and Validation Accuracy 67.80\n",
      " Epoch: 1150 Train Accuracy 66.16 and Validation Accuracy 67.94\n",
      " Epoch: 1160 Train Accuracy 66.27 and Validation Accuracy 68.05\n",
      " Epoch: 1170 Train Accuracy 66.35 and Validation Accuracy 68.19\n",
      " Epoch: 1180 Train Accuracy 66.46 and Validation Accuracy 68.25\n",
      " Epoch: 1190 Train Accuracy 66.55 and Validation Accuracy 68.29\n",
      " Epoch: 1200 Train Accuracy 66.62 and Validation Accuracy 68.41\n",
      " Epoch: 1210 Train Accuracy 66.69 and Validation Accuracy 68.48\n",
      " Epoch: 1220 Train Accuracy 66.79 and Validation Accuracy 68.56\n",
      " Epoch: 1230 Train Accuracy 66.89 and Validation Accuracy 68.69\n",
      " Epoch: 1240 Train Accuracy 66.97 and Validation Accuracy 68.81\n",
      " Epoch: 1250 Train Accuracy 67.06 and Validation Accuracy 68.93\n",
      " Epoch: 1260 Train Accuracy 67.14 and Validation Accuracy 68.98\n",
      " Epoch: 1270 Train Accuracy 67.21 and Validation Accuracy 69.06\n",
      " Epoch: 1280 Train Accuracy 67.29 and Validation Accuracy 69.12\n",
      " Epoch: 1290 Train Accuracy 67.37 and Validation Accuracy 69.24\n",
      " Epoch: 1300 Train Accuracy 67.46 and Validation Accuracy 69.40\n",
      " Epoch: 1310 Train Accuracy 67.54 and Validation Accuracy 69.52\n",
      " Epoch: 1320 Train Accuracy 67.62 and Validation Accuracy 69.60\n",
      " Epoch: 1330 Train Accuracy 67.72 and Validation Accuracy 69.73\n",
      " Epoch: 1340 Train Accuracy 67.82 and Validation Accuracy 69.84\n",
      " Epoch: 1350 Train Accuracy 67.88 and Validation Accuracy 69.94\n",
      " Epoch: 1360 Train Accuracy 67.97 and Validation Accuracy 70.05\n",
      " Epoch: 1370 Train Accuracy 68.05 and Validation Accuracy 70.14\n",
      " Epoch: 1380 Train Accuracy 68.16 and Validation Accuracy 70.26\n",
      " Epoch: 1390 Train Accuracy 68.25 and Validation Accuracy 70.38\n",
      " Epoch: 1400 Train Accuracy 68.33 and Validation Accuracy 70.47\n",
      " Epoch: 1410 Train Accuracy 68.41 and Validation Accuracy 70.51\n",
      " Epoch: 1420 Train Accuracy 68.48 and Validation Accuracy 70.58\n",
      " Epoch: 1430 Train Accuracy 68.57 and Validation Accuracy 70.65\n",
      " Epoch: 1440 Train Accuracy 68.65 and Validation Accuracy 70.73\n",
      " Epoch: 1450 Train Accuracy 68.78 and Validation Accuracy 70.79\n",
      " Epoch: 1460 Train Accuracy 68.85 and Validation Accuracy 70.89\n",
      " Epoch: 1470 Train Accuracy 68.92 and Validation Accuracy 70.97\n",
      " Epoch: 1480 Train Accuracy 69.01 and Validation Accuracy 71.02\n",
      " Epoch: 1490 Train Accuracy 69.10 and Validation Accuracy 71.13\n",
      " Epoch: 1500 Train Accuracy 69.20 and Validation Accuracy 71.17\n",
      " Epoch: 1510 Train Accuracy 69.29 and Validation Accuracy 71.22\n",
      " Epoch: 1520 Train Accuracy 69.36 and Validation Accuracy 71.29\n",
      " Epoch: 1530 Train Accuracy 69.47 and Validation Accuracy 71.40\n",
      " Epoch: 1540 Train Accuracy 69.56 and Validation Accuracy 71.52\n",
      " Epoch: 1550 Train Accuracy 69.64 and Validation Accuracy 71.57\n",
      " Epoch: 1560 Train Accuracy 69.72 and Validation Accuracy 71.68\n",
      " Epoch: 1570 Train Accuracy 69.82 and Validation Accuracy 71.76\n",
      " Epoch: 1580 Train Accuracy 69.90 and Validation Accuracy 71.88\n",
      " Epoch: 1590 Train Accuracy 69.99 and Validation Accuracy 71.95\n",
      " Epoch: 1600 Train Accuracy 70.08 and Validation Accuracy 72.03\n",
      " Epoch: 1610 Train Accuracy 70.16 and Validation Accuracy 72.16\n",
      " Epoch: 1620 Train Accuracy 70.24 and Validation Accuracy 72.23\n",
      " Epoch: 1630 Train Accuracy 70.31 and Validation Accuracy 72.32\n",
      " Epoch: 1640 Train Accuracy 70.41 and Validation Accuracy 72.39\n",
      " Epoch: 1650 Train Accuracy 70.51 and Validation Accuracy 72.48\n",
      " Epoch: 1660 Train Accuracy 70.58 and Validation Accuracy 72.60\n",
      " Epoch: 1670 Train Accuracy 70.64 and Validation Accuracy 72.70\n",
      " Epoch: 1680 Train Accuracy 70.72 and Validation Accuracy 72.73\n",
      " Epoch: 1690 Train Accuracy 70.82 and Validation Accuracy 72.82\n",
      " Epoch: 1700 Train Accuracy 70.91 and Validation Accuracy 72.93\n",
      " Epoch: 1710 Train Accuracy 71.00 and Validation Accuracy 73.00\n",
      " Epoch: 1720 Train Accuracy 71.11 and Validation Accuracy 73.08\n",
      " Epoch: 1730 Train Accuracy 71.22 and Validation Accuracy 73.21\n",
      " Epoch: 1740 Train Accuracy 71.30 and Validation Accuracy 73.28\n",
      " Epoch: 1750 Train Accuracy 71.38 and Validation Accuracy 73.40\n",
      " Epoch: 1760 Train Accuracy 71.46 and Validation Accuracy 73.52\n",
      " Epoch: 1770 Train Accuracy 71.54 and Validation Accuracy 73.56\n",
      " Epoch: 1780 Train Accuracy 71.63 and Validation Accuracy 73.63\n",
      " Epoch: 1790 Train Accuracy 71.71 and Validation Accuracy 73.69\n",
      " Epoch: 1800 Train Accuracy 71.80 and Validation Accuracy 73.75\n",
      " Epoch: 1810 Train Accuracy 71.89 and Validation Accuracy 73.91\n",
      " Epoch: 1820 Train Accuracy 71.96 and Validation Accuracy 73.97\n",
      " Epoch: 1830 Train Accuracy 72.04 and Validation Accuracy 74.09\n",
      " Epoch: 1840 Train Accuracy 72.11 and Validation Accuracy 74.15\n",
      " Epoch: 1850 Train Accuracy 72.16 and Validation Accuracy 74.21\n",
      " Epoch: 1860 Train Accuracy 72.25 and Validation Accuracy 74.26\n",
      " Epoch: 1870 Train Accuracy 72.32 and Validation Accuracy 74.38\n",
      " Epoch: 1880 Train Accuracy 72.39 and Validation Accuracy 74.45\n",
      " Epoch: 1890 Train Accuracy 72.46 and Validation Accuracy 74.57\n",
      " Epoch: 1900 Train Accuracy 72.56 and Validation Accuracy 74.64\n",
      " Epoch: 1910 Train Accuracy 72.64 and Validation Accuracy 74.74\n",
      " Epoch: 1920 Train Accuracy 72.69 and Validation Accuracy 74.83\n",
      " Epoch: 1930 Train Accuracy 72.79 and Validation Accuracy 74.95\n",
      " Epoch: 1940 Train Accuracy 72.86 and Validation Accuracy 75.06\n",
      " Epoch: 1950 Train Accuracy 72.93 and Validation Accuracy 75.12\n",
      " Epoch: 1960 Train Accuracy 72.99 and Validation Accuracy 75.20\n",
      " Epoch: 1970 Train Accuracy 73.06 and Validation Accuracy 75.30\n",
      " Epoch: 1980 Train Accuracy 73.15 and Validation Accuracy 75.41\n",
      " Epoch: 1990 Train Accuracy 73.24 and Validation Accuracy 75.51\n",
      " Epoch: 2000 Train Accuracy 73.32 and Validation Accuracy 75.59\n",
      " Epoch: 2010 Train Accuracy 73.41 and Validation Accuracy 75.62\n",
      " Epoch: 2020 Train Accuracy 73.47 and Validation Accuracy 75.72\n",
      " Epoch: 2030 Train Accuracy 73.56 and Validation Accuracy 75.78\n",
      " Epoch: 2040 Train Accuracy 73.65 and Validation Accuracy 75.85\n",
      " Epoch: 2050 Train Accuracy 73.73 and Validation Accuracy 75.91\n",
      " Epoch: 2060 Train Accuracy 73.83 and Validation Accuracy 75.99\n",
      " Epoch: 2070 Train Accuracy 73.91 and Validation Accuracy 76.09\n",
      " Epoch: 2080 Train Accuracy 73.98 and Validation Accuracy 76.17\n",
      " Epoch: 2090 Train Accuracy 74.06 and Validation Accuracy 76.23\n",
      " Epoch: 2100 Train Accuracy 74.15 and Validation Accuracy 76.30\n",
      " Epoch: 2110 Train Accuracy 74.21 and Validation Accuracy 76.37\n",
      " Epoch: 2120 Train Accuracy 74.29 and Validation Accuracy 76.48\n",
      " Epoch: 2130 Train Accuracy 74.37 and Validation Accuracy 76.57\n",
      " Epoch: 2140 Train Accuracy 74.44 and Validation Accuracy 76.66\n",
      " Epoch: 2150 Train Accuracy 74.52 and Validation Accuracy 76.74\n",
      " Epoch: 2160 Train Accuracy 74.61 and Validation Accuracy 76.85\n",
      " Epoch: 2170 Train Accuracy 74.68 and Validation Accuracy 76.95\n",
      " Epoch: 2180 Train Accuracy 74.77 and Validation Accuracy 77.05\n",
      " Epoch: 2190 Train Accuracy 74.82 and Validation Accuracy 77.15\n",
      " Epoch: 2200 Train Accuracy 74.89 and Validation Accuracy 77.20\n",
      " Epoch: 2210 Train Accuracy 74.94 and Validation Accuracy 77.29\n",
      " Epoch: 2220 Train Accuracy 75.01 and Validation Accuracy 77.37\n",
      " Epoch: 2230 Train Accuracy 75.08 and Validation Accuracy 77.43\n",
      " Epoch: 2240 Train Accuracy 75.16 and Validation Accuracy 77.49\n",
      " Epoch: 2250 Train Accuracy 75.20 and Validation Accuracy 77.55\n",
      " Epoch: 2260 Train Accuracy 75.28 and Validation Accuracy 77.57\n",
      " Epoch: 2270 Train Accuracy 75.34 and Validation Accuracy 77.62\n",
      " Epoch: 2280 Train Accuracy 75.40 and Validation Accuracy 77.73\n",
      " Epoch: 2290 Train Accuracy 75.46 and Validation Accuracy 77.81\n",
      " Epoch: 2300 Train Accuracy 75.54 and Validation Accuracy 77.88\n",
      " Epoch: 2310 Train Accuracy 75.60 and Validation Accuracy 77.99\n",
      " Epoch: 2320 Train Accuracy 75.69 and Validation Accuracy 78.05\n",
      " Epoch: 2330 Train Accuracy 75.76 and Validation Accuracy 78.10\n",
      " Epoch: 2340 Train Accuracy 75.84 and Validation Accuracy 78.15\n",
      " Epoch: 2350 Train Accuracy 75.89 and Validation Accuracy 78.22\n",
      " Epoch: 2360 Train Accuracy 75.95 and Validation Accuracy 78.27\n",
      " Epoch: 2370 Train Accuracy 76.00 and Validation Accuracy 78.42\n",
      " Epoch: 2380 Train Accuracy 76.05 and Validation Accuracy 78.49\n",
      " Epoch: 2390 Train Accuracy 76.12 and Validation Accuracy 78.53\n",
      " Epoch: 2400 Train Accuracy 76.19 and Validation Accuracy 78.55\n",
      " Epoch: 2410 Train Accuracy 76.25 and Validation Accuracy 78.60\n",
      " Epoch: 2420 Train Accuracy 76.32 and Validation Accuracy 78.65\n",
      " Epoch: 2430 Train Accuracy 76.38 and Validation Accuracy 78.75\n",
      " Epoch: 2440 Train Accuracy 76.45 and Validation Accuracy 78.85\n",
      " Epoch: 2450 Train Accuracy 76.53 and Validation Accuracy 78.94\n",
      " Epoch: 2460 Train Accuracy 76.60 and Validation Accuracy 79.00\n",
      " Epoch: 2470 Train Accuracy 76.67 and Validation Accuracy 79.12\n",
      " Epoch: 2480 Train Accuracy 76.73 and Validation Accuracy 79.20\n",
      " Epoch: 2490 Train Accuracy 76.80 and Validation Accuracy 79.22\n",
      " Epoch: 2500 Train Accuracy 76.88 and Validation Accuracy 79.30\n",
      " Epoch: 2510 Train Accuracy 76.97 and Validation Accuracy 79.36\n",
      " Epoch: 2520 Train Accuracy 77.04 and Validation Accuracy 79.43\n",
      " Epoch: 2530 Train Accuracy 77.10 and Validation Accuracy 79.51\n",
      " Epoch: 2540 Train Accuracy 77.15 and Validation Accuracy 79.58\n",
      " Epoch: 2550 Train Accuracy 77.22 and Validation Accuracy 79.63\n",
      " Epoch: 2560 Train Accuracy 77.30 and Validation Accuracy 79.69\n",
      " Epoch: 2570 Train Accuracy 77.35 and Validation Accuracy 79.75\n",
      " Epoch: 2580 Train Accuracy 77.41 and Validation Accuracy 79.81\n",
      " Epoch: 2590 Train Accuracy 77.46 and Validation Accuracy 79.85\n",
      " Epoch: 2600 Train Accuracy 77.49 and Validation Accuracy 79.90\n",
      " Epoch: 2610 Train Accuracy 77.55 and Validation Accuracy 79.99\n",
      " Epoch: 2620 Train Accuracy 77.62 and Validation Accuracy 80.11\n",
      " Epoch: 2630 Train Accuracy 77.70 and Validation Accuracy 80.21\n",
      " Epoch: 2640 Train Accuracy 77.75 and Validation Accuracy 80.27\n",
      " Epoch: 2650 Train Accuracy 77.80 and Validation Accuracy 80.31\n",
      " Epoch: 2660 Train Accuracy 77.84 and Validation Accuracy 80.37\n",
      " Epoch: 2670 Train Accuracy 77.90 and Validation Accuracy 80.40\n",
      " Epoch: 2680 Train Accuracy 77.97 and Validation Accuracy 80.45\n",
      " Epoch: 2690 Train Accuracy 78.04 and Validation Accuracy 80.48\n",
      " Epoch: 2700 Train Accuracy 78.10 and Validation Accuracy 80.52\n",
      " Epoch: 2710 Train Accuracy 78.17 and Validation Accuracy 80.58\n",
      " Epoch: 2720 Train Accuracy 78.22 and Validation Accuracy 80.60\n",
      " Epoch: 2730 Train Accuracy 78.29 and Validation Accuracy 80.69\n",
      " Epoch: 2740 Train Accuracy 78.34 and Validation Accuracy 80.77\n",
      " Epoch: 2750 Train Accuracy 78.39 and Validation Accuracy 80.80\n",
      " Epoch: 2760 Train Accuracy 78.45 and Validation Accuracy 80.85\n",
      " Epoch: 2770 Train Accuracy 78.51 and Validation Accuracy 80.88\n",
      " Epoch: 2780 Train Accuracy 78.57 and Validation Accuracy 80.95\n",
      " Epoch: 2790 Train Accuracy 78.64 and Validation Accuracy 80.98\n",
      " Epoch: 2800 Train Accuracy 78.70 and Validation Accuracy 81.02\n",
      " Epoch: 2810 Train Accuracy 78.74 and Validation Accuracy 81.02\n",
      " Epoch: 2820 Train Accuracy 78.80 and Validation Accuracy 81.08\n",
      " Epoch: 2830 Train Accuracy 78.86 and Validation Accuracy 81.12\n",
      " Epoch: 2840 Train Accuracy 78.90 and Validation Accuracy 81.15\n",
      " Epoch: 2850 Train Accuracy 78.93 and Validation Accuracy 81.18\n",
      " Epoch: 2860 Train Accuracy 79.02 and Validation Accuracy 81.23\n",
      " Epoch: 2870 Train Accuracy 79.06 and Validation Accuracy 81.36\n",
      " Epoch: 2880 Train Accuracy 79.12 and Validation Accuracy 81.43\n",
      " Epoch: 2890 Train Accuracy 79.18 and Validation Accuracy 81.51\n",
      " Epoch: 2900 Train Accuracy 79.21 and Validation Accuracy 81.58\n",
      " Epoch: 2910 Train Accuracy 79.23 and Validation Accuracy 81.61\n",
      " Epoch: 2920 Train Accuracy 79.28 and Validation Accuracy 81.62\n",
      " Epoch: 2930 Train Accuracy 79.34 and Validation Accuracy 81.67\n",
      " Epoch: 2940 Train Accuracy 79.40 and Validation Accuracy 81.72\n",
      " Epoch: 2950 Train Accuracy 79.45 and Validation Accuracy 81.74\n",
      " Epoch: 2960 Train Accuracy 79.49 and Validation Accuracy 81.78\n",
      " Epoch: 2970 Train Accuracy 79.55 and Validation Accuracy 81.84\n",
      " Epoch: 2980 Train Accuracy 79.60 and Validation Accuracy 81.87\n",
      " Epoch: 2990 Train Accuracy 79.66 and Validation Accuracy 81.93\n",
      " Epoch: 3000 Train Accuracy 79.71 and Validation Accuracy 81.99\n",
      " Epoch: 3010 Train Accuracy 79.75 and Validation Accuracy 82.04\n",
      " Epoch: 3020 Train Accuracy 79.80 and Validation Accuracy 82.10\n",
      " Epoch: 3030 Train Accuracy 79.86 and Validation Accuracy 82.12\n",
      " Epoch: 3040 Train Accuracy 79.92 and Validation Accuracy 82.19\n",
      " Epoch: 3050 Train Accuracy 79.98 and Validation Accuracy 82.22\n",
      " Epoch: 3060 Train Accuracy 80.04 and Validation Accuracy 82.27\n",
      " Epoch: 3070 Train Accuracy 80.11 and Validation Accuracy 82.33\n",
      " Epoch: 3080 Train Accuracy 80.16 and Validation Accuracy 82.34\n",
      " Epoch: 3090 Train Accuracy 80.20 and Validation Accuracy 82.40\n",
      " Epoch: 3100 Train Accuracy 80.26 and Validation Accuracy 82.48\n",
      " Epoch: 3110 Train Accuracy 80.31 and Validation Accuracy 82.50\n",
      " Epoch: 3120 Train Accuracy 80.36 and Validation Accuracy 82.54\n",
      " Epoch: 3130 Train Accuracy 80.42 and Validation Accuracy 82.60\n",
      " Epoch: 3140 Train Accuracy 80.47 and Validation Accuracy 82.70\n",
      " Epoch: 3150 Train Accuracy 80.52 and Validation Accuracy 82.75\n",
      " Epoch: 3160 Train Accuracy 80.57 and Validation Accuracy 82.80\n",
      " Epoch: 3170 Train Accuracy 80.62 and Validation Accuracy 82.84\n",
      " Epoch: 3180 Train Accuracy 80.70 and Validation Accuracy 82.86\n",
      " Epoch: 3190 Train Accuracy 80.73 and Validation Accuracy 82.89\n",
      " Epoch: 3200 Train Accuracy 80.77 and Validation Accuracy 82.97\n",
      " Epoch: 3210 Train Accuracy 80.81 and Validation Accuracy 83.01\n",
      " Epoch: 3220 Train Accuracy 80.85 and Validation Accuracy 83.03\n",
      " Epoch: 3230 Train Accuracy 80.91 and Validation Accuracy 83.06\n",
      " Epoch: 3240 Train Accuracy 80.96 and Validation Accuracy 83.10\n",
      " Epoch: 3250 Train Accuracy 81.00 and Validation Accuracy 83.15\n",
      " Epoch: 3260 Train Accuracy 81.03 and Validation Accuracy 83.19\n",
      " Epoch: 3270 Train Accuracy 81.08 and Validation Accuracy 83.21\n",
      " Epoch: 3280 Train Accuracy 81.13 and Validation Accuracy 83.26\n",
      " Epoch: 3290 Train Accuracy 81.18 and Validation Accuracy 83.29\n",
      " Epoch: 3300 Train Accuracy 81.22 and Validation Accuracy 83.35\n",
      " Epoch: 3310 Train Accuracy 81.28 and Validation Accuracy 83.39\n",
      " Epoch: 3320 Train Accuracy 81.31 and Validation Accuracy 83.44\n",
      " Epoch: 3330 Train Accuracy 81.36 and Validation Accuracy 83.50\n",
      " Epoch: 3340 Train Accuracy 81.42 and Validation Accuracy 83.57\n",
      " Epoch: 3350 Train Accuracy 81.46 and Validation Accuracy 83.65\n",
      " Epoch: 3360 Train Accuracy 81.52 and Validation Accuracy 83.71\n",
      " Epoch: 3370 Train Accuracy 81.57 and Validation Accuracy 83.74\n",
      " Epoch: 3380 Train Accuracy 81.61 and Validation Accuracy 83.77\n",
      " Epoch: 3390 Train Accuracy 81.66 and Validation Accuracy 83.81\n",
      " Epoch: 3400 Train Accuracy 81.69 and Validation Accuracy 83.84\n",
      " Epoch: 3410 Train Accuracy 81.74 and Validation Accuracy 83.86\n",
      " Epoch: 3420 Train Accuracy 81.79 and Validation Accuracy 83.89\n",
      " Epoch: 3430 Train Accuracy 81.82 and Validation Accuracy 83.87\n",
      " Epoch: 3440 Train Accuracy 81.85 and Validation Accuracy 83.89\n",
      " Epoch: 3450 Train Accuracy 81.88 and Validation Accuracy 83.93\n",
      " Epoch: 3460 Train Accuracy 81.92 and Validation Accuracy 83.94\n",
      " Epoch: 3470 Train Accuracy 81.97 and Validation Accuracy 83.97\n",
      " Epoch: 3480 Train Accuracy 82.01 and Validation Accuracy 83.97\n",
      " Epoch: 3490 Train Accuracy 82.05 and Validation Accuracy 84.05\n",
      " Epoch: 3500 Train Accuracy 82.08 and Validation Accuracy 84.10\n",
      " Epoch: 3510 Train Accuracy 82.11 and Validation Accuracy 84.12\n",
      " Epoch: 3520 Train Accuracy 82.15 and Validation Accuracy 84.15\n",
      " Epoch: 3530 Train Accuracy 82.17 and Validation Accuracy 84.19\n",
      " Epoch: 3540 Train Accuracy 82.21 and Validation Accuracy 84.23\n",
      " Epoch: 3550 Train Accuracy 82.27 and Validation Accuracy 84.26\n",
      " Epoch: 3560 Train Accuracy 82.29 and Validation Accuracy 84.30\n",
      " Epoch: 3570 Train Accuracy 82.33 and Validation Accuracy 84.29\n",
      " Epoch: 3580 Train Accuracy 82.36 and Validation Accuracy 84.32\n",
      " Epoch: 3590 Train Accuracy 82.38 and Validation Accuracy 84.38\n",
      " Epoch: 3600 Train Accuracy 82.42 and Validation Accuracy 84.40\n",
      " Epoch: 3610 Train Accuracy 82.46 and Validation Accuracy 84.44\n",
      " Epoch: 3620 Train Accuracy 82.49 and Validation Accuracy 84.48\n",
      " Epoch: 3630 Train Accuracy 82.51 and Validation Accuracy 84.52\n",
      " Epoch: 3640 Train Accuracy 82.53 and Validation Accuracy 84.55\n",
      " Epoch: 3650 Train Accuracy 82.58 and Validation Accuracy 84.58\n",
      " Epoch: 3660 Train Accuracy 82.63 and Validation Accuracy 84.62\n",
      " Epoch: 3670 Train Accuracy 82.67 and Validation Accuracy 84.68\n",
      " Epoch: 3680 Train Accuracy 82.71 and Validation Accuracy 84.75\n",
      " Epoch: 3690 Train Accuracy 82.73 and Validation Accuracy 84.77\n",
      " Epoch: 3700 Train Accuracy 82.78 and Validation Accuracy 84.79\n",
      " Epoch: 3710 Train Accuracy 82.82 and Validation Accuracy 84.82\n",
      " Epoch: 3720 Train Accuracy 82.86 and Validation Accuracy 84.86\n",
      " Epoch: 3730 Train Accuracy 82.90 and Validation Accuracy 84.86\n",
      " Epoch: 3740 Train Accuracy 82.93 and Validation Accuracy 84.89\n",
      " Epoch: 3750 Train Accuracy 82.96 and Validation Accuracy 84.92\n",
      " Epoch: 3760 Train Accuracy 82.99 and Validation Accuracy 84.95\n",
      " Epoch: 3770 Train Accuracy 83.02 and Validation Accuracy 84.97\n",
      " Epoch: 3780 Train Accuracy 83.06 and Validation Accuracy 85.01\n",
      " Epoch: 3790 Train Accuracy 83.07 and Validation Accuracy 85.02\n",
      " Epoch: 3800 Train Accuracy 83.10 and Validation Accuracy 85.08\n",
      " Epoch: 3810 Train Accuracy 83.13 and Validation Accuracy 85.13\n",
      " Epoch: 3820 Train Accuracy 83.18 and Validation Accuracy 85.12\n",
      " Epoch: 3830 Train Accuracy 83.22 and Validation Accuracy 85.15\n",
      " Epoch: 3840 Train Accuracy 83.25 and Validation Accuracy 85.17\n",
      " Epoch: 3850 Train Accuracy 83.28 and Validation Accuracy 85.23\n",
      " Epoch: 3860 Train Accuracy 83.31 and Validation Accuracy 85.26\n",
      " Epoch: 3870 Train Accuracy 83.33 and Validation Accuracy 85.29\n",
      " Epoch: 3880 Train Accuracy 83.37 and Validation Accuracy 85.32\n",
      " Epoch: 3890 Train Accuracy 83.41 and Validation Accuracy 85.34\n",
      " Epoch: 3900 Train Accuracy 83.45 and Validation Accuracy 85.38\n",
      " Epoch: 3910 Train Accuracy 83.49 and Validation Accuracy 85.38\n",
      " Epoch: 3920 Train Accuracy 83.52 and Validation Accuracy 85.41\n",
      " Epoch: 3930 Train Accuracy 83.57 and Validation Accuracy 85.43\n",
      " Epoch: 3940 Train Accuracy 83.61 and Validation Accuracy 85.47\n",
      " Epoch: 3950 Train Accuracy 83.63 and Validation Accuracy 85.52\n",
      " Epoch: 3960 Train Accuracy 83.65 and Validation Accuracy 85.54\n",
      " Epoch: 3970 Train Accuracy 83.68 and Validation Accuracy 85.57\n",
      " Epoch: 3980 Train Accuracy 83.71 and Validation Accuracy 85.60\n",
      " Epoch: 3990 Train Accuracy 83.74 and Validation Accuracy 85.62\n",
      " Epoch: 4000 Train Accuracy 83.78 and Validation Accuracy 85.66\n",
      " Epoch: 4010 Train Accuracy 83.81 and Validation Accuracy 85.69\n",
      " Epoch: 4020 Train Accuracy 83.84 and Validation Accuracy 85.67\n",
      " Epoch: 4030 Train Accuracy 83.89 and Validation Accuracy 85.72\n",
      " Epoch: 4040 Train Accuracy 83.92 and Validation Accuracy 85.75\n",
      " Epoch: 4050 Train Accuracy 83.94 and Validation Accuracy 85.80\n",
      " Epoch: 4060 Train Accuracy 83.98 and Validation Accuracy 85.82\n",
      " Epoch: 4070 Train Accuracy 84.00 and Validation Accuracy 85.84\n",
      " Epoch: 4080 Train Accuracy 84.04 and Validation Accuracy 85.89\n",
      " Epoch: 4090 Train Accuracy 84.08 and Validation Accuracy 85.95\n",
      " Epoch: 4100 Train Accuracy 84.10 and Validation Accuracy 85.98\n",
      " Epoch: 4110 Train Accuracy 84.12 and Validation Accuracy 86.01\n",
      " Epoch: 4120 Train Accuracy 84.16 and Validation Accuracy 86.03\n",
      " Epoch: 4130 Train Accuracy 84.21 and Validation Accuracy 86.05\n",
      " Epoch: 4140 Train Accuracy 84.24 and Validation Accuracy 86.06\n",
      " Epoch: 4150 Train Accuracy 84.28 and Validation Accuracy 86.08\n",
      " Epoch: 4160 Train Accuracy 84.30 and Validation Accuracy 86.10\n",
      " Epoch: 4170 Train Accuracy 84.32 and Validation Accuracy 86.13\n",
      " Epoch: 4180 Train Accuracy 84.34 and Validation Accuracy 86.16\n",
      " Epoch: 4190 Train Accuracy 84.37 and Validation Accuracy 86.18\n",
      " Epoch: 4200 Train Accuracy 84.39 and Validation Accuracy 86.19\n",
      " Epoch: 4210 Train Accuracy 84.41 and Validation Accuracy 86.26\n",
      " Epoch: 4220 Train Accuracy 84.45 and Validation Accuracy 86.29\n",
      " Epoch: 4230 Train Accuracy 84.47 and Validation Accuracy 86.32\n",
      " Epoch: 4240 Train Accuracy 84.49 and Validation Accuracy 86.34\n",
      " Epoch: 4250 Train Accuracy 84.51 and Validation Accuracy 86.37\n",
      " Epoch: 4260 Train Accuracy 84.53 and Validation Accuracy 86.39\n",
      " Epoch: 4270 Train Accuracy 84.55 and Validation Accuracy 86.40\n",
      " Epoch: 4280 Train Accuracy 84.57 and Validation Accuracy 86.42\n",
      " Epoch: 4290 Train Accuracy 84.60 and Validation Accuracy 86.46\n",
      " Epoch: 4300 Train Accuracy 84.63 and Validation Accuracy 86.50\n",
      " Epoch: 4310 Train Accuracy 84.65 and Validation Accuracy 86.54\n",
      " Epoch: 4320 Train Accuracy 84.67 and Validation Accuracy 86.56\n",
      " Epoch: 4330 Train Accuracy 84.71 and Validation Accuracy 86.60\n",
      " Epoch: 4340 Train Accuracy 84.72 and Validation Accuracy 86.63\n",
      " Epoch: 4350 Train Accuracy 84.74 and Validation Accuracy 86.64\n",
      " Epoch: 4360 Train Accuracy 84.77 and Validation Accuracy 86.67\n",
      " Epoch: 4370 Train Accuracy 84.81 and Validation Accuracy 86.72\n",
      " Epoch: 4380 Train Accuracy 84.83 and Validation Accuracy 86.75\n",
      " Epoch: 4390 Train Accuracy 84.85 and Validation Accuracy 86.76\n",
      " Epoch: 4400 Train Accuracy 84.88 and Validation Accuracy 86.78\n",
      " Epoch: 4410 Train Accuracy 84.90 and Validation Accuracy 86.80\n",
      " Epoch: 4420 Train Accuracy 84.94 and Validation Accuracy 86.82\n",
      " Epoch: 4430 Train Accuracy 84.96 and Validation Accuracy 86.84\n",
      " Epoch: 4440 Train Accuracy 84.98 and Validation Accuracy 86.84\n",
      " Epoch: 4450 Train Accuracy 85.00 and Validation Accuracy 86.87\n",
      " Epoch: 4460 Train Accuracy 85.02 and Validation Accuracy 86.90\n",
      " Epoch: 4470 Train Accuracy 85.07 and Validation Accuracy 86.91\n",
      " Epoch: 4480 Train Accuracy 85.09 and Validation Accuracy 86.90\n",
      " Epoch: 4490 Train Accuracy 85.11 and Validation Accuracy 86.91\n",
      " Epoch: 4500 Train Accuracy 85.14 and Validation Accuracy 86.94\n",
      " Epoch: 4510 Train Accuracy 85.17 and Validation Accuracy 86.96\n",
      " Epoch: 4520 Train Accuracy 85.19 and Validation Accuracy 87.00\n",
      " Epoch: 4530 Train Accuracy 85.21 and Validation Accuracy 87.02\n",
      " Epoch: 4540 Train Accuracy 85.24 and Validation Accuracy 87.03\n",
      " Epoch: 4550 Train Accuracy 85.25 and Validation Accuracy 87.08\n",
      " Epoch: 4560 Train Accuracy 85.28 and Validation Accuracy 87.10\n",
      " Epoch: 4570 Train Accuracy 85.30 and Validation Accuracy 87.10\n",
      " Epoch: 4580 Train Accuracy 85.32 and Validation Accuracy 87.12\n",
      " Epoch: 4590 Train Accuracy 85.33 and Validation Accuracy 87.13\n",
      " Epoch: 4600 Train Accuracy 85.34 and Validation Accuracy 87.12\n",
      " Epoch: 4610 Train Accuracy 85.37 and Validation Accuracy 87.12\n",
      " Epoch: 4620 Train Accuracy 85.38 and Validation Accuracy 87.12\n",
      " Epoch: 4630 Train Accuracy 85.43 and Validation Accuracy 87.15\n",
      " Epoch: 4640 Train Accuracy 85.46 and Validation Accuracy 87.17\n",
      " Epoch: 4650 Train Accuracy 85.47 and Validation Accuracy 87.17\n",
      " Epoch: 4660 Train Accuracy 85.50 and Validation Accuracy 87.20\n",
      " Epoch: 4670 Train Accuracy 85.52 and Validation Accuracy 87.19\n",
      " Epoch: 4680 Train Accuracy 85.54 and Validation Accuracy 87.20\n",
      " Epoch: 4690 Train Accuracy 85.56 and Validation Accuracy 87.21\n",
      " Epoch: 4700 Train Accuracy 85.57 and Validation Accuracy 87.22\n",
      " Epoch: 4710 Train Accuracy 85.60 and Validation Accuracy 87.26\n",
      " Epoch: 4720 Train Accuracy 85.62 and Validation Accuracy 87.29\n",
      " Epoch: 4730 Train Accuracy 85.64 and Validation Accuracy 87.31\n",
      " Epoch: 4740 Train Accuracy 85.65 and Validation Accuracy 87.31\n",
      " Epoch: 4750 Train Accuracy 85.67 and Validation Accuracy 87.33\n",
      " Epoch: 4760 Train Accuracy 85.69 and Validation Accuracy 87.32\n",
      " Epoch: 4770 Train Accuracy 85.71 and Validation Accuracy 87.32\n",
      " Epoch: 4780 Train Accuracy 85.72 and Validation Accuracy 87.32\n",
      " Epoch: 4790 Train Accuracy 85.74 and Validation Accuracy 87.34\n",
      " Epoch: 4800 Train Accuracy 85.75 and Validation Accuracy 87.36\n",
      " Epoch: 4810 Train Accuracy 85.76 and Validation Accuracy 87.38\n",
      " Epoch: 4820 Train Accuracy 85.77 and Validation Accuracy 87.41\n",
      " Epoch: 4830 Train Accuracy 85.80 and Validation Accuracy 87.41\n",
      " Epoch: 4840 Train Accuracy 85.82 and Validation Accuracy 87.43\n",
      " Epoch: 4850 Train Accuracy 85.82 and Validation Accuracy 87.45\n",
      " Epoch: 4860 Train Accuracy 85.84 and Validation Accuracy 87.45\n",
      " Epoch: 4870 Train Accuracy 85.86 and Validation Accuracy 87.45\n",
      " Epoch: 4880 Train Accuracy 85.89 and Validation Accuracy 87.44\n",
      " Epoch: 4890 Train Accuracy 85.90 and Validation Accuracy 87.47\n",
      " Epoch: 4900 Train Accuracy 85.91 and Validation Accuracy 87.48\n",
      " Epoch: 4910 Train Accuracy 85.93 and Validation Accuracy 87.48\n",
      " Epoch: 4920 Train Accuracy 85.95 and Validation Accuracy 87.50\n",
      " Epoch: 4930 Train Accuracy 85.98 and Validation Accuracy 87.49\n",
      " Epoch: 4940 Train Accuracy 85.99 and Validation Accuracy 87.53\n",
      " Epoch: 4950 Train Accuracy 86.02 and Validation Accuracy 87.53\n",
      " Epoch: 4960 Train Accuracy 86.04 and Validation Accuracy 87.54\n",
      " Epoch: 4970 Train Accuracy 86.06 and Validation Accuracy 87.55\n",
      " Epoch: 4980 Train Accuracy 86.08 and Validation Accuracy 87.56\n",
      " Epoch: 4990 Train Accuracy 86.09 and Validation Accuracy 87.58\n",
      " Epoch: 5000 Train Accuracy 86.10 and Validation Accuracy 87.59\n",
      "Best Validation Accuracy is at epoch: 5000.0 with Accuracy Train of 86.10 and Validation of 87.59\n"
     ]
    },
    {
     "data": {
      "image/png": "[encoded data removed]",
      "text/plain": [
       "<Figure size 432x288 with 1 Axes>"
      ]
     },
     "metadata": {
      "needs_background": "light"
     },
     "output_type": "display_data"
    }
   ],
   "source": [
    "nnet, epoch, train_accuracy, val_accuracy = train_for_best_validation(Xtrain, Ttrain,  Xval, Tval, \n",
    "                                                                      5000, 10, [100,100], method='sgd', learning_rate = 0.1) "
   ]
  },
  {
   "cell_type": "markdown",
   "metadata": {},
   "source": [
    "#### Confusion matrix for `sgd` optimizers\n",
    "\n",
    "the best `epoch`:<strong>5000</strong>, `Train Accuracy`: <strong>86.10</strong> and `Validation Accuracy`: <strong>87.59</strong>   ----> <strong>Could have achieved more for more number of epochs</strong>\n",
    "\n",
    "the Experimental Parameters are `n_hiddens_list`: [100,100], `n_epochs`: 5000 and `learning_rate`:0.1"
   ]
  },
  {
   "cell_type": "code",
   "execution_count": 26,
   "metadata": {},
   "outputs": [
    {
     "name": "stdout",
     "output_type": "stream",
     "text": [
      "Percent Correct\n"
     ]
    },
    {
     "data": {
      "text/html": [
       "<style  type=\"text/css\" >\n",
       "#T_5b7c86b4_183a_11eb_a04d_8cc84bd8f426row0_col0,#T_5b7c86b4_183a_11eb_a04d_8cc84bd8f426row1_col1,#T_5b7c86b4_183a_11eb_a04d_8cc84bd8f426row2_col2,#T_5b7c86b4_183a_11eb_a04d_8cc84bd8f426row3_col3,#T_5b7c86b4_183a_11eb_a04d_8cc84bd8f426row4_col4,#T_5b7c86b4_183a_11eb_a04d_8cc84bd8f426row5_col5,#T_5b7c86b4_183a_11eb_a04d_8cc84bd8f426row6_col6,#T_5b7c86b4_183a_11eb_a04d_8cc84bd8f426row7_col7,#T_5b7c86b4_183a_11eb_a04d_8cc84bd8f426row8_col8,#T_5b7c86b4_183a_11eb_a04d_8cc84bd8f426row9_col9{\n",
       "            background-color:  #08306b;\n",
       "            color:  #f1f1f1;\n",
       "        }#T_5b7c86b4_183a_11eb_a04d_8cc84bd8f426row0_col1,#T_5b7c86b4_183a_11eb_a04d_8cc84bd8f426row0_col2,#T_5b7c86b4_183a_11eb_a04d_8cc84bd8f426row0_col3,#T_5b7c86b4_183a_11eb_a04d_8cc84bd8f426row0_col4,#T_5b7c86b4_183a_11eb_a04d_8cc84bd8f426row0_col7,#T_5b7c86b4_183a_11eb_a04d_8cc84bd8f426row0_col8,#T_5b7c86b4_183a_11eb_a04d_8cc84bd8f426row0_col9,#T_5b7c86b4_183a_11eb_a04d_8cc84bd8f426row1_col0,#T_5b7c86b4_183a_11eb_a04d_8cc84bd8f426row1_col2,#T_5b7c86b4_183a_11eb_a04d_8cc84bd8f426row1_col4,#T_5b7c86b4_183a_11eb_a04d_8cc84bd8f426row1_col5,#T_5b7c86b4_183a_11eb_a04d_8cc84bd8f426row1_col6,#T_5b7c86b4_183a_11eb_a04d_8cc84bd8f426row1_col7,#T_5b7c86b4_183a_11eb_a04d_8cc84bd8f426row1_col9,#T_5b7c86b4_183a_11eb_a04d_8cc84bd8f426row2_col5,#T_5b7c86b4_183a_11eb_a04d_8cc84bd8f426row2_col9,#T_5b7c86b4_183a_11eb_a04d_8cc84bd8f426row3_col4,#T_5b7c86b4_183a_11eb_a04d_8cc84bd8f426row3_col6,#T_5b7c86b4_183a_11eb_a04d_8cc84bd8f426row4_col0,#T_5b7c86b4_183a_11eb_a04d_8cc84bd8f426row4_col2,#T_5b7c86b4_183a_11eb_a04d_8cc84bd8f426row4_col3,#T_5b7c86b4_183a_11eb_a04d_8cc84bd8f426row4_col5,#T_5b7c86b4_183a_11eb_a04d_8cc84bd8f426row4_col7,#T_5b7c86b4_183a_11eb_a04d_8cc84bd8f426row4_col8,#T_5b7c86b4_183a_11eb_a04d_8cc84bd8f426row6_col3,#T_5b7c86b4_183a_11eb_a04d_8cc84bd8f426row6_col7,#T_5b7c86b4_183a_11eb_a04d_8cc84bd8f426row6_col8,#T_5b7c86b4_183a_11eb_a04d_8cc84bd8f426row6_col9,#T_5b7c86b4_183a_11eb_a04d_8cc84bd8f426row7_col0,#T_5b7c86b4_183a_11eb_a04d_8cc84bd8f426row7_col5,#T_5b7c86b4_183a_11eb_a04d_8cc84bd8f426row7_col6,#T_5b7c86b4_183a_11eb_a04d_8cc84bd8f426row7_col8,#T_5b7c86b4_183a_11eb_a04d_8cc84bd8f426row9_col2,#T_5b7c86b4_183a_11eb_a04d_8cc84bd8f426row9_col6{\n",
       "            background-color:  #f7fbff;\n",
       "            color:  #000000;\n",
       "        }#T_5b7c86b4_183a_11eb_a04d_8cc84bd8f426row0_col5,#T_5b7c86b4_183a_11eb_a04d_8cc84bd8f426row3_col1,#T_5b7c86b4_183a_11eb_a04d_8cc84bd8f426row4_col1,#T_5b7c86b4_183a_11eb_a04d_8cc84bd8f426row5_col2,#T_5b7c86b4_183a_11eb_a04d_8cc84bd8f426row6_col2,#T_5b7c86b4_183a_11eb_a04d_8cc84bd8f426row6_col4{\n",
       "            background-color:  #f5fafe;\n",
       "            color:  #000000;\n",
       "        }#T_5b7c86b4_183a_11eb_a04d_8cc84bd8f426row0_col6,#T_5b7c86b4_183a_11eb_a04d_8cc84bd8f426row1_col8,#T_5b7c86b4_183a_11eb_a04d_8cc84bd8f426row2_col0,#T_5b7c86b4_183a_11eb_a04d_8cc84bd8f426row4_col6,#T_5b7c86b4_183a_11eb_a04d_8cc84bd8f426row5_col8,#T_5b7c86b4_183a_11eb_a04d_8cc84bd8f426row6_col0,#T_5b7c86b4_183a_11eb_a04d_8cc84bd8f426row6_col5,#T_5b7c86b4_183a_11eb_a04d_8cc84bd8f426row8_col0{\n",
       "            background-color:  #f4f9fe;\n",
       "            color:  #000000;\n",
       "        }#T_5b7c86b4_183a_11eb_a04d_8cc84bd8f426row1_col3,#T_5b7c86b4_183a_11eb_a04d_8cc84bd8f426row3_col0,#T_5b7c86b4_183a_11eb_a04d_8cc84bd8f426row3_col9,#T_5b7c86b4_183a_11eb_a04d_8cc84bd8f426row6_col1,#T_5b7c86b4_183a_11eb_a04d_8cc84bd8f426row7_col3,#T_5b7c86b4_183a_11eb_a04d_8cc84bd8f426row7_col4,#T_5b7c86b4_183a_11eb_a04d_8cc84bd8f426row9_col5,#T_5b7c86b4_183a_11eb_a04d_8cc84bd8f426row9_col8{\n",
       "            background-color:  #f6faff;\n",
       "            color:  #000000;\n",
       "        }#T_5b7c86b4_183a_11eb_a04d_8cc84bd8f426row2_col1,#T_5b7c86b4_183a_11eb_a04d_8cc84bd8f426row2_col3,#T_5b7c86b4_183a_11eb_a04d_8cc84bd8f426row8_col2,#T_5b7c86b4_183a_11eb_a04d_8cc84bd8f426row8_col4,#T_5b7c86b4_183a_11eb_a04d_8cc84bd8f426row8_col7{\n",
       "            background-color:  #f2f8fd;\n",
       "            color:  #000000;\n",
       "        }#T_5b7c86b4_183a_11eb_a04d_8cc84bd8f426row2_col4,#T_5b7c86b4_183a_11eb_a04d_8cc84bd8f426row2_col7,#T_5b7c86b4_183a_11eb_a04d_8cc84bd8f426row3_col5,#T_5b7c86b4_183a_11eb_a04d_8cc84bd8f426row5_col7{\n",
       "            background-color:  #f3f8fe;\n",
       "            color:  #000000;\n",
       "        }#T_5b7c86b4_183a_11eb_a04d_8cc84bd8f426row2_col6,#T_5b7c86b4_183a_11eb_a04d_8cc84bd8f426row8_col9{\n",
       "            background-color:  #f1f7fd;\n",
       "            color:  #000000;\n",
       "        }#T_5b7c86b4_183a_11eb_a04d_8cc84bd8f426row2_col8,#T_5b7c86b4_183a_11eb_a04d_8cc84bd8f426row7_col1,#T_5b7c86b4_183a_11eb_a04d_8cc84bd8f426row7_col9,#T_5b7c86b4_183a_11eb_a04d_8cc84bd8f426row8_col1{\n",
       "            background-color:  #eef5fc;\n",
       "            color:  #000000;\n",
       "        }#T_5b7c86b4_183a_11eb_a04d_8cc84bd8f426row3_col2,#T_5b7c86b4_183a_11eb_a04d_8cc84bd8f426row3_col7,#T_5b7c86b4_183a_11eb_a04d_8cc84bd8f426row3_col8,#T_5b7c86b4_183a_11eb_a04d_8cc84bd8f426row5_col4,#T_5b7c86b4_183a_11eb_a04d_8cc84bd8f426row5_col6{\n",
       "            background-color:  #f2f7fd;\n",
       "            color:  #000000;\n",
       "        }#T_5b7c86b4_183a_11eb_a04d_8cc84bd8f426row4_col9{\n",
       "            background-color:  #e6f0f9;\n",
       "            color:  #000000;\n",
       "        }#T_5b7c86b4_183a_11eb_a04d_8cc84bd8f426row5_col0{\n",
       "            background-color:  #eff6fc;\n",
       "            color:  #000000;\n",
       "        }#T_5b7c86b4_183a_11eb_a04d_8cc84bd8f426row5_col1,#T_5b7c86b4_183a_11eb_a04d_8cc84bd8f426row5_col9,#T_5b7c86b4_183a_11eb_a04d_8cc84bd8f426row7_col2,#T_5b7c86b4_183a_11eb_a04d_8cc84bd8f426row8_col6,#T_5b7c86b4_183a_11eb_a04d_8cc84bd8f426row9_col0,#T_5b7c86b4_183a_11eb_a04d_8cc84bd8f426row9_col1,#T_5b7c86b4_183a_11eb_a04d_8cc84bd8f426row9_col3{\n",
       "            background-color:  #f5f9fe;\n",
       "            color:  #000000;\n",
       "        }#T_5b7c86b4_183a_11eb_a04d_8cc84bd8f426row5_col3{\n",
       "            background-color:  #e2edf8;\n",
       "            color:  #000000;\n",
       "        }#T_5b7c86b4_183a_11eb_a04d_8cc84bd8f426row8_col3{\n",
       "            background-color:  #ecf4fb;\n",
       "            color:  #000000;\n",
       "        }#T_5b7c86b4_183a_11eb_a04d_8cc84bd8f426row8_col5,#T_5b7c86b4_183a_11eb_a04d_8cc84bd8f426row9_col7{\n",
       "            background-color:  #eaf3fb;\n",
       "            color:  #000000;\n",
       "        }#T_5b7c86b4_183a_11eb_a04d_8cc84bd8f426row9_col4{\n",
       "            background-color:  #e5eff9;\n",
       "            color:  #000000;\n",
       "        }</style><table id=\"T_5b7c86b4_183a_11eb_a04d_8cc84bd8f426\" ><thead>    <tr>        <th class=\"blank level0\" ></th>        <th class=\"col_heading level0 col0\" >0</th>        <th class=\"col_heading level0 col1\" >1</th>        <th class=\"col_heading level0 col2\" >2</th>        <th class=\"col_heading level0 col3\" >3</th>        <th class=\"col_heading level0 col4\" >4</th>        <th class=\"col_heading level0 col5\" >5</th>        <th class=\"col_heading level0 col6\" >6</th>        <th class=\"col_heading level0 col7\" >7</th>        <th class=\"col_heading level0 col8\" >8</th>        <th class=\"col_heading level0 col9\" >9</th>    </tr></thead><tbody>\n",
       "                <tr>\n",
       "                        <th id=\"T_5b7c86b4_183a_11eb_a04d_8cc84bd8f426level0_row0\" class=\"row_heading level0 row0\" >0</th>\n",
       "                        <td id=\"T_5b7c86b4_183a_11eb_a04d_8cc84bd8f426row0_col0\" class=\"data row0 col0\" >96.9</td>\n",
       "                        <td id=\"T_5b7c86b4_183a_11eb_a04d_8cc84bd8f426row0_col1\" class=\"data row0 col1\" >0.0</td>\n",
       "                        <td id=\"T_5b7c86b4_183a_11eb_a04d_8cc84bd8f426row0_col2\" class=\"data row0 col2\" >0.2</td>\n",
       "                        <td id=\"T_5b7c86b4_183a_11eb_a04d_8cc84bd8f426row0_col3\" class=\"data row0 col3\" >0.1</td>\n",
       "                        <td id=\"T_5b7c86b4_183a_11eb_a04d_8cc84bd8f426row0_col4\" class=\"data row0 col4\" >0.0</td>\n",
       "                        <td id=\"T_5b7c86b4_183a_11eb_a04d_8cc84bd8f426row0_col5\" class=\"data row0 col5\" >0.6</td>\n",
       "                        <td id=\"T_5b7c86b4_183a_11eb_a04d_8cc84bd8f426row0_col6\" class=\"data row0 col6\" >1.7</td>\n",
       "                        <td id=\"T_5b7c86b4_183a_11eb_a04d_8cc84bd8f426row0_col7\" class=\"data row0 col7\" >0.2</td>\n",
       "                        <td id=\"T_5b7c86b4_183a_11eb_a04d_8cc84bd8f426row0_col8\" class=\"data row0 col8\" >0.2</td>\n",
       "                        <td id=\"T_5b7c86b4_183a_11eb_a04d_8cc84bd8f426row0_col9\" class=\"data row0 col9\" >0.0</td>\n",
       "            </tr>\n",
       "            <tr>\n",
       "                        <th id=\"T_5b7c86b4_183a_11eb_a04d_8cc84bd8f426level0_row1\" class=\"row_heading level0 row1\" >1</th>\n",
       "                        <td id=\"T_5b7c86b4_183a_11eb_a04d_8cc84bd8f426row1_col0\" class=\"data row1 col0\" >0.0</td>\n",
       "                        <td id=\"T_5b7c86b4_183a_11eb_a04d_8cc84bd8f426row1_col1\" class=\"data row1 col1\" >97.7</td>\n",
       "                        <td id=\"T_5b7c86b4_183a_11eb_a04d_8cc84bd8f426row1_col2\" class=\"data row1 col2\" >0.2</td>\n",
       "                        <td id=\"T_5b7c86b4_183a_11eb_a04d_8cc84bd8f426row1_col3\" class=\"data row1 col3\" >0.4</td>\n",
       "                        <td id=\"T_5b7c86b4_183a_11eb_a04d_8cc84bd8f426row1_col4\" class=\"data row1 col4\" >0.0</td>\n",
       "                        <td id=\"T_5b7c86b4_183a_11eb_a04d_8cc84bd8f426row1_col5\" class=\"data row1 col5\" >0.1</td>\n",
       "                        <td id=\"T_5b7c86b4_183a_11eb_a04d_8cc84bd8f426row1_col6\" class=\"data row1 col6\" >0.4</td>\n",
       "                        <td id=\"T_5b7c86b4_183a_11eb_a04d_8cc84bd8f426row1_col7\" class=\"data row1 col7\" >0.0</td>\n",
       "                        <td id=\"T_5b7c86b4_183a_11eb_a04d_8cc84bd8f426row1_col8\" class=\"data row1 col8\" >1.3</td>\n",
       "                        <td id=\"T_5b7c86b4_183a_11eb_a04d_8cc84bd8f426row1_col9\" class=\"data row1 col9\" >0.0</td>\n",
       "            </tr>\n",
       "            <tr>\n",
       "                        <th id=\"T_5b7c86b4_183a_11eb_a04d_8cc84bd8f426level0_row2\" class=\"row_heading level0 row2\" >2</th>\n",
       "                        <td id=\"T_5b7c86b4_183a_11eb_a04d_8cc84bd8f426row2_col0\" class=\"data row2 col0\" >1.6</td>\n",
       "                        <td id=\"T_5b7c86b4_183a_11eb_a04d_8cc84bd8f426row2_col1\" class=\"data row2 col1\" >2.3</td>\n",
       "                        <td id=\"T_5b7c86b4_183a_11eb_a04d_8cc84bd8f426row2_col2\" class=\"data row2 col2\" >82.8</td>\n",
       "                        <td id=\"T_5b7c86b4_183a_11eb_a04d_8cc84bd8f426row2_col3\" class=\"data row2 col3\" >2.3</td>\n",
       "                        <td id=\"T_5b7c86b4_183a_11eb_a04d_8cc84bd8f426row2_col4\" class=\"data row2 col4\" >1.9</td>\n",
       "                        <td id=\"T_5b7c86b4_183a_11eb_a04d_8cc84bd8f426row2_col5\" class=\"data row2 col5\" >0.0</td>\n",
       "                        <td id=\"T_5b7c86b4_183a_11eb_a04d_8cc84bd8f426row2_col6\" class=\"data row2 col6\" >3.2</td>\n",
       "                        <td id=\"T_5b7c86b4_183a_11eb_a04d_8cc84bd8f426row2_col7\" class=\"data row2 col7\" >2.0</td>\n",
       "                        <td id=\"T_5b7c86b4_183a_11eb_a04d_8cc84bd8f426row2_col8\" class=\"data row2 col8\" >3.6</td>\n",
       "                        <td id=\"T_5b7c86b4_183a_11eb_a04d_8cc84bd8f426row2_col9\" class=\"data row2 col9\" >0.2</td>\n",
       "            </tr>\n",
       "            <tr>\n",
       "                        <th id=\"T_5b7c86b4_183a_11eb_a04d_8cc84bd8f426level0_row3\" class=\"row_heading level0 row3\" >3</th>\n",
       "                        <td id=\"T_5b7c86b4_183a_11eb_a04d_8cc84bd8f426row3_col0\" class=\"data row3 col0\" >0.6</td>\n",
       "                        <td id=\"T_5b7c86b4_183a_11eb_a04d_8cc84bd8f426row3_col1\" class=\"data row3 col1\" >1.0</td>\n",
       "                        <td id=\"T_5b7c86b4_183a_11eb_a04d_8cc84bd8f426row3_col2\" class=\"data row3 col2\" >2.6</td>\n",
       "                        <td id=\"T_5b7c86b4_183a_11eb_a04d_8cc84bd8f426row3_col3\" class=\"data row3 col3\" >88.7</td>\n",
       "                        <td id=\"T_5b7c86b4_183a_11eb_a04d_8cc84bd8f426row3_col4\" class=\"data row3 col4\" >0.1</td>\n",
       "                        <td id=\"T_5b7c86b4_183a_11eb_a04d_8cc84bd8f426row3_col5\" class=\"data row3 col5\" >1.5</td>\n",
       "                        <td id=\"T_5b7c86b4_183a_11eb_a04d_8cc84bd8f426row3_col6\" class=\"data row3 col6\" >0.2</td>\n",
       "                        <td id=\"T_5b7c86b4_183a_11eb_a04d_8cc84bd8f426row3_col7\" class=\"data row3 col7\" >2.6</td>\n",
       "                        <td id=\"T_5b7c86b4_183a_11eb_a04d_8cc84bd8f426row3_col8\" class=\"data row3 col8\" >2.4</td>\n",
       "                        <td id=\"T_5b7c86b4_183a_11eb_a04d_8cc84bd8f426row3_col9\" class=\"data row3 col9\" >0.4</td>\n",
       "            </tr>\n",
       "            <tr>\n",
       "                        <th id=\"T_5b7c86b4_183a_11eb_a04d_8cc84bd8f426level0_row4\" class=\"row_heading level0 row4\" >4</th>\n",
       "                        <td id=\"T_5b7c86b4_183a_11eb_a04d_8cc84bd8f426row4_col0\" class=\"data row4 col0\" >0.1</td>\n",
       "                        <td id=\"T_5b7c86b4_183a_11eb_a04d_8cc84bd8f426row4_col1\" class=\"data row4 col1\" >1.0</td>\n",
       "                        <td id=\"T_5b7c86b4_183a_11eb_a04d_8cc84bd8f426row4_col2\" class=\"data row4 col2\" >0.2</td>\n",
       "                        <td id=\"T_5b7c86b4_183a_11eb_a04d_8cc84bd8f426row4_col3\" class=\"data row4 col3\" >0.0</td>\n",
       "                        <td id=\"T_5b7c86b4_183a_11eb_a04d_8cc84bd8f426row4_col4\" class=\"data row4 col4\" >89.2</td>\n",
       "                        <td id=\"T_5b7c86b4_183a_11eb_a04d_8cc84bd8f426row4_col5\" class=\"data row4 col5\" >0.0</td>\n",
       "                        <td id=\"T_5b7c86b4_183a_11eb_a04d_8cc84bd8f426row4_col6\" class=\"data row4 col6\" >1.8</td>\n",
       "                        <td id=\"T_5b7c86b4_183a_11eb_a04d_8cc84bd8f426row4_col7\" class=\"data row4 col7\" >0.3</td>\n",
       "                        <td id=\"T_5b7c86b4_183a_11eb_a04d_8cc84bd8f426row4_col8\" class=\"data row4 col8\" >0.2</td>\n",
       "                        <td id=\"T_5b7c86b4_183a_11eb_a04d_8cc84bd8f426row4_col9\" class=\"data row4 col9\" >7.1</td>\n",
       "            </tr>\n",
       "            <tr>\n",
       "                        <th id=\"T_5b7c86b4_183a_11eb_a04d_8cc84bd8f426level0_row5\" class=\"row_heading level0 row5\" >5</th>\n",
       "                        <td id=\"T_5b7c86b4_183a_11eb_a04d_8cc84bd8f426row5_col0\" class=\"data row5 col0\" >3.8</td>\n",
       "                        <td id=\"T_5b7c86b4_183a_11eb_a04d_8cc84bd8f426row5_col1\" class=\"data row5 col1\" >1.5</td>\n",
       "                        <td id=\"T_5b7c86b4_183a_11eb_a04d_8cc84bd8f426row5_col2\" class=\"data row5 col2\" >0.9</td>\n",
       "                        <td id=\"T_5b7c86b4_183a_11eb_a04d_8cc84bd8f426row5_col3\" class=\"data row5 col3\" >9.5</td>\n",
       "                        <td id=\"T_5b7c86b4_183a_11eb_a04d_8cc84bd8f426row5_col4\" class=\"data row5 col4\" >2.5</td>\n",
       "                        <td id=\"T_5b7c86b4_183a_11eb_a04d_8cc84bd8f426row5_col5\" class=\"data row5 col5\" >74.7</td>\n",
       "                        <td id=\"T_5b7c86b4_183a_11eb_a04d_8cc84bd8f426row5_col6\" class=\"data row5 col6\" >2.8</td>\n",
       "                        <td id=\"T_5b7c86b4_183a_11eb_a04d_8cc84bd8f426row5_col7\" class=\"data row5 col7\" >1.8</td>\n",
       "                        <td id=\"T_5b7c86b4_183a_11eb_a04d_8cc84bd8f426row5_col8\" class=\"data row5 col8\" >1.3</td>\n",
       "                        <td id=\"T_5b7c86b4_183a_11eb_a04d_8cc84bd8f426row5_col9\" class=\"data row5 col9\" >1.2</td>\n",
       "            </tr>\n",
       "            <tr>\n",
       "                        <th id=\"T_5b7c86b4_183a_11eb_a04d_8cc84bd8f426level0_row6\" class=\"row_heading level0 row6\" >6</th>\n",
       "                        <td id=\"T_5b7c86b4_183a_11eb_a04d_8cc84bd8f426row6_col0\" class=\"data row6 col0\" >1.9</td>\n",
       "                        <td id=\"T_5b7c86b4_183a_11eb_a04d_8cc84bd8f426row6_col1\" class=\"data row6 col1\" >0.6</td>\n",
       "                        <td id=\"T_5b7c86b4_183a_11eb_a04d_8cc84bd8f426row6_col2\" class=\"data row6 col2\" >1.0</td>\n",
       "                        <td id=\"T_5b7c86b4_183a_11eb_a04d_8cc84bd8f426row6_col3\" class=\"data row6 col3\" >0.0</td>\n",
       "                        <td id=\"T_5b7c86b4_183a_11eb_a04d_8cc84bd8f426row6_col4\" class=\"data row6 col4\" >0.8</td>\n",
       "                        <td id=\"T_5b7c86b4_183a_11eb_a04d_8cc84bd8f426row6_col5\" class=\"data row6 col5\" >1.4</td>\n",
       "                        <td id=\"T_5b7c86b4_183a_11eb_a04d_8cc84bd8f426row6_col6\" class=\"data row6 col6\" >94.2</td>\n",
       "                        <td id=\"T_5b7c86b4_183a_11eb_a04d_8cc84bd8f426row6_col7\" class=\"data row6 col7\" >0.0</td>\n",
       "                        <td id=\"T_5b7c86b4_183a_11eb_a04d_8cc84bd8f426row6_col8\" class=\"data row6 col8\" >0.1</td>\n",
       "                        <td id=\"T_5b7c86b4_183a_11eb_a04d_8cc84bd8f426row6_col9\" class=\"data row6 col9\" >0.0</td>\n",
       "            </tr>\n",
       "            <tr>\n",
       "                        <th id=\"T_5b7c86b4_183a_11eb_a04d_8cc84bd8f426level0_row7\" class=\"row_heading level0 row7\" >7</th>\n",
       "                        <td id=\"T_5b7c86b4_183a_11eb_a04d_8cc84bd8f426row7_col0\" class=\"data row7 col0\" >0.3</td>\n",
       "                        <td id=\"T_5b7c86b4_183a_11eb_a04d_8cc84bd8f426row7_col1\" class=\"data row7 col1\" >4.6</td>\n",
       "                        <td id=\"T_5b7c86b4_183a_11eb_a04d_8cc84bd8f426row7_col2\" class=\"data row7 col2\" >1.5</td>\n",
       "                        <td id=\"T_5b7c86b4_183a_11eb_a04d_8cc84bd8f426row7_col3\" class=\"data row7 col3\" >0.5</td>\n",
       "                        <td id=\"T_5b7c86b4_183a_11eb_a04d_8cc84bd8f426row7_col4\" class=\"data row7 col4\" >0.6</td>\n",
       "                        <td id=\"T_5b7c86b4_183a_11eb_a04d_8cc84bd8f426row7_col5\" class=\"data row7 col5\" >0.0</td>\n",
       "                        <td id=\"T_5b7c86b4_183a_11eb_a04d_8cc84bd8f426row7_col6\" class=\"data row7 col6\" >0.0</td>\n",
       "                        <td id=\"T_5b7c86b4_183a_11eb_a04d_8cc84bd8f426row7_col7\" class=\"data row7 col7\" >88.4</td>\n",
       "                        <td id=\"T_5b7c86b4_183a_11eb_a04d_8cc84bd8f426row7_col8\" class=\"data row7 col8\" >0.3</td>\n",
       "                        <td id=\"T_5b7c86b4_183a_11eb_a04d_8cc84bd8f426row7_col9\" class=\"data row7 col9\" >3.9</td>\n",
       "            </tr>\n",
       "            <tr>\n",
       "                        <th id=\"T_5b7c86b4_183a_11eb_a04d_8cc84bd8f426level0_row8\" class=\"row_heading level0 row8\" >8</th>\n",
       "                        <td id=\"T_5b7c86b4_183a_11eb_a04d_8cc84bd8f426row8_col0\" class=\"data row8 col0\" >1.8</td>\n",
       "                        <td id=\"T_5b7c86b4_183a_11eb_a04d_8cc84bd8f426row8_col1\" class=\"data row8 col1\" >4.3</td>\n",
       "                        <td id=\"T_5b7c86b4_183a_11eb_a04d_8cc84bd8f426row8_col2\" class=\"data row8 col2\" >2.3</td>\n",
       "                        <td id=\"T_5b7c86b4_183a_11eb_a04d_8cc84bd8f426row8_col3\" class=\"data row8 col3\" >4.9</td>\n",
       "                        <td id=\"T_5b7c86b4_183a_11eb_a04d_8cc84bd8f426row8_col4\" class=\"data row8 col4\" >2.2</td>\n",
       "                        <td id=\"T_5b7c86b4_183a_11eb_a04d_8cc84bd8f426row8_col5\" class=\"data row8 col5\" >4.7</td>\n",
       "                        <td id=\"T_5b7c86b4_183a_11eb_a04d_8cc84bd8f426row8_col6\" class=\"data row8 col6\" >1.3</td>\n",
       "                        <td id=\"T_5b7c86b4_183a_11eb_a04d_8cc84bd8f426row8_col7\" class=\"data row8 col7\" >2.2</td>\n",
       "                        <td id=\"T_5b7c86b4_183a_11eb_a04d_8cc84bd8f426row8_col8\" class=\"data row8 col8\" >73.6</td>\n",
       "                        <td id=\"T_5b7c86b4_183a_11eb_a04d_8cc84bd8f426row8_col9\" class=\"data row8 col9\" >2.7</td>\n",
       "            </tr>\n",
       "            <tr>\n",
       "                        <th id=\"T_5b7c86b4_183a_11eb_a04d_8cc84bd8f426level0_row9\" class=\"row_heading level0 row9\" >9</th>\n",
       "                        <td id=\"T_5b7c86b4_183a_11eb_a04d_8cc84bd8f426row9_col0\" class=\"data row9 col0\" >1.2</td>\n",
       "                        <td id=\"T_5b7c86b4_183a_11eb_a04d_8cc84bd8f426row9_col1\" class=\"data row9 col1\" >1.3</td>\n",
       "                        <td id=\"T_5b7c86b4_183a_11eb_a04d_8cc84bd8f426row9_col2\" class=\"data row9 col2\" >0.3</td>\n",
       "                        <td id=\"T_5b7c86b4_183a_11eb_a04d_8cc84bd8f426row9_col3\" class=\"data row9 col3\" >1.3</td>\n",
       "                        <td id=\"T_5b7c86b4_183a_11eb_a04d_8cc84bd8f426row9_col4\" class=\"data row9 col4\" >8.1</td>\n",
       "                        <td id=\"T_5b7c86b4_183a_11eb_a04d_8cc84bd8f426row9_col5\" class=\"data row9 col5\" >0.5</td>\n",
       "                        <td id=\"T_5b7c86b4_183a_11eb_a04d_8cc84bd8f426row9_col6\" class=\"data row9 col6\" >0.3</td>\n",
       "                        <td id=\"T_5b7c86b4_183a_11eb_a04d_8cc84bd8f426row9_col7\" class=\"data row9 col7\" >5.6</td>\n",
       "                        <td id=\"T_5b7c86b4_183a_11eb_a04d_8cc84bd8f426row9_col8\" class=\"data row9 col8\" >0.4</td>\n",
       "                        <td id=\"T_5b7c86b4_183a_11eb_a04d_8cc84bd8f426row9_col9\" class=\"data row9 col9\" >81.1</td>\n",
       "            </tr>\n",
       "    </tbody></table>"
      ],
      "text/plain": [
       "<pandas.io.formats.style.Styler at 0x18450bd0>"
      ]
     },
     "execution_count": 26,
     "metadata": {},
     "output_type": "execute_result"
    }
   ],
   "source": [
    "confusion_matrix(nnet.use(Xtest)[0],Ttest)"
   ]
  },
  {
   "cell_type": "code",
   "execution_count": 27,
   "metadata": {},
   "outputs": [
    {
     "name": "stdout",
     "output_type": "stream",
     "text": [
      "Percent Correct\n"
     ]
    },
    {
     "data": {
      "text/html": [
       "<style  type=\"text/css\" >\n",
       "#T_711a5d62_183a_11eb_a313_8cc84bd8f426row0_col0,#T_711a5d62_183a_11eb_a313_8cc84bd8f426row1_col1,#T_711a5d62_183a_11eb_a313_8cc84bd8f426row2_col2,#T_711a5d62_183a_11eb_a313_8cc84bd8f426row3_col3,#T_711a5d62_183a_11eb_a313_8cc84bd8f426row4_col4,#T_711a5d62_183a_11eb_a313_8cc84bd8f426row5_col5,#T_711a5d62_183a_11eb_a313_8cc84bd8f426row6_col6,#T_711a5d62_183a_11eb_a313_8cc84bd8f426row7_col7,#T_711a5d62_183a_11eb_a313_8cc84bd8f426row8_col8,#T_711a5d62_183a_11eb_a313_8cc84bd8f426row9_col9{\n",
       "            background-color:  #08306b;\n",
       "            color:  #f1f1f1;\n",
       "        }#T_711a5d62_183a_11eb_a313_8cc84bd8f426row0_col1,#T_711a5d62_183a_11eb_a313_8cc84bd8f426row0_col2,#T_711a5d62_183a_11eb_a313_8cc84bd8f426row0_col4,#T_711a5d62_183a_11eb_a313_8cc84bd8f426row0_col7,#T_711a5d62_183a_11eb_a313_8cc84bd8f426row0_col9,#T_711a5d62_183a_11eb_a313_8cc84bd8f426row1_col0,#T_711a5d62_183a_11eb_a313_8cc84bd8f426row1_col2,#T_711a5d62_183a_11eb_a313_8cc84bd8f426row1_col3,#T_711a5d62_183a_11eb_a313_8cc84bd8f426row1_col4,#T_711a5d62_183a_11eb_a313_8cc84bd8f426row1_col5,#T_711a5d62_183a_11eb_a313_8cc84bd8f426row1_col7,#T_711a5d62_183a_11eb_a313_8cc84bd8f426row1_col9,#T_711a5d62_183a_11eb_a313_8cc84bd8f426row2_col5,#T_711a5d62_183a_11eb_a313_8cc84bd8f426row3_col4,#T_711a5d62_183a_11eb_a313_8cc84bd8f426row4_col0,#T_711a5d62_183a_11eb_a313_8cc84bd8f426row4_col2,#T_711a5d62_183a_11eb_a313_8cc84bd8f426row4_col3,#T_711a5d62_183a_11eb_a313_8cc84bd8f426row4_col5,#T_711a5d62_183a_11eb_a313_8cc84bd8f426row4_col7,#T_711a5d62_183a_11eb_a313_8cc84bd8f426row4_col8,#T_711a5d62_183a_11eb_a313_8cc84bd8f426row6_col3,#T_711a5d62_183a_11eb_a313_8cc84bd8f426row6_col4,#T_711a5d62_183a_11eb_a313_8cc84bd8f426row6_col7,#T_711a5d62_183a_11eb_a313_8cc84bd8f426row6_col8,#T_711a5d62_183a_11eb_a313_8cc84bd8f426row6_col9,#T_711a5d62_183a_11eb_a313_8cc84bd8f426row7_col2,#T_711a5d62_183a_11eb_a313_8cc84bd8f426row7_col5,#T_711a5d62_183a_11eb_a313_8cc84bd8f426row7_col6,#T_711a5d62_183a_11eb_a313_8cc84bd8f426row7_col8,#T_711a5d62_183a_11eb_a313_8cc84bd8f426row9_col2,#T_711a5d62_183a_11eb_a313_8cc84bd8f426row9_col5,#T_711a5d62_183a_11eb_a313_8cc84bd8f426row9_col6{\n",
       "            background-color:  #f7fbff;\n",
       "            color:  #000000;\n",
       "        }#T_711a5d62_183a_11eb_a313_8cc84bd8f426row0_col3,#T_711a5d62_183a_11eb_a313_8cc84bd8f426row0_col5,#T_711a5d62_183a_11eb_a313_8cc84bd8f426row1_col6,#T_711a5d62_183a_11eb_a313_8cc84bd8f426row2_col0,#T_711a5d62_183a_11eb_a313_8cc84bd8f426row2_col9,#T_711a5d62_183a_11eb_a313_8cc84bd8f426row3_col6,#T_711a5d62_183a_11eb_a313_8cc84bd8f426row6_col0,#T_711a5d62_183a_11eb_a313_8cc84bd8f426row6_col5,#T_711a5d62_183a_11eb_a313_8cc84bd8f426row7_col0,#T_711a5d62_183a_11eb_a313_8cc84bd8f426row7_col3,#T_711a5d62_183a_11eb_a313_8cc84bd8f426row7_col4,#T_711a5d62_183a_11eb_a313_8cc84bd8f426row8_col4,#T_711a5d62_183a_11eb_a313_8cc84bd8f426row9_col8{\n",
       "            background-color:  #f6faff;\n",
       "            color:  #000000;\n",
       "        }#T_711a5d62_183a_11eb_a313_8cc84bd8f426row0_col6,#T_711a5d62_183a_11eb_a313_8cc84bd8f426row2_col4,#T_711a5d62_183a_11eb_a313_8cc84bd8f426row2_col7,#T_711a5d62_183a_11eb_a313_8cc84bd8f426row3_col1,#T_711a5d62_183a_11eb_a313_8cc84bd8f426row5_col1,#T_711a5d62_183a_11eb_a313_8cc84bd8f426row5_col8,#T_711a5d62_183a_11eb_a313_8cc84bd8f426row9_col1,#T_711a5d62_183a_11eb_a313_8cc84bd8f426row9_col3{\n",
       "            background-color:  #f4f9fe;\n",
       "            color:  #000000;\n",
       "        }#T_711a5d62_183a_11eb_a313_8cc84bd8f426row0_col8,#T_711a5d62_183a_11eb_a313_8cc84bd8f426row3_col9,#T_711a5d62_183a_11eb_a313_8cc84bd8f426row5_col4,#T_711a5d62_183a_11eb_a313_8cc84bd8f426row8_col0,#T_711a5d62_183a_11eb_a313_8cc84bd8f426row8_col7{\n",
       "            background-color:  #f5f9fe;\n",
       "            color:  #000000;\n",
       "        }#T_711a5d62_183a_11eb_a313_8cc84bd8f426row1_col8,#T_711a5d62_183a_11eb_a313_8cc84bd8f426row3_col0,#T_711a5d62_183a_11eb_a313_8cc84bd8f426row3_col7,#T_711a5d62_183a_11eb_a313_8cc84bd8f426row4_col1,#T_711a5d62_183a_11eb_a313_8cc84bd8f426row4_col6,#T_711a5d62_183a_11eb_a313_8cc84bd8f426row5_col7,#T_711a5d62_183a_11eb_a313_8cc84bd8f426row6_col1,#T_711a5d62_183a_11eb_a313_8cc84bd8f426row6_col2,#T_711a5d62_183a_11eb_a313_8cc84bd8f426row8_col6,#T_711a5d62_183a_11eb_a313_8cc84bd8f426row9_col0{\n",
       "            background-color:  #f5fafe;\n",
       "            color:  #000000;\n",
       "        }#T_711a5d62_183a_11eb_a313_8cc84bd8f426row2_col1,#T_711a5d62_183a_11eb_a313_8cc84bd8f426row2_col3,#T_711a5d62_183a_11eb_a313_8cc84bd8f426row5_col2{\n",
       "            background-color:  #f3f8fe;\n",
       "            color:  #000000;\n",
       "        }#T_711a5d62_183a_11eb_a313_8cc84bd8f426row2_col6,#T_711a5d62_183a_11eb_a313_8cc84bd8f426row5_col0,#T_711a5d62_183a_11eb_a313_8cc84bd8f426row5_col6,#T_711a5d62_183a_11eb_a313_8cc84bd8f426row7_col1,#T_711a5d62_183a_11eb_a313_8cc84bd8f426row8_col5{\n",
       "            background-color:  #f0f6fd;\n",
       "            color:  #000000;\n",
       "        }#T_711a5d62_183a_11eb_a313_8cc84bd8f426row2_col8,#T_711a5d62_183a_11eb_a313_8cc84bd8f426row8_col2{\n",
       "            background-color:  #f2f7fd;\n",
       "            color:  #000000;\n",
       "        }#T_711a5d62_183a_11eb_a313_8cc84bd8f426row3_col2,#T_711a5d62_183a_11eb_a313_8cc84bd8f426row3_col8{\n",
       "            background-color:  #eff6fc;\n",
       "            color:  #000000;\n",
       "        }#T_711a5d62_183a_11eb_a313_8cc84bd8f426row3_col5,#T_711a5d62_183a_11eb_a313_8cc84bd8f426row5_col9,#T_711a5d62_183a_11eb_a313_8cc84bd8f426row7_col9{\n",
       "            background-color:  #f2f8fd;\n",
       "            color:  #000000;\n",
       "        }#T_711a5d62_183a_11eb_a313_8cc84bd8f426row4_col9{\n",
       "            background-color:  #e6f0f9;\n",
       "            color:  #000000;\n",
       "        }#T_711a5d62_183a_11eb_a313_8cc84bd8f426row5_col3{\n",
       "            background-color:  #e1edf8;\n",
       "            color:  #000000;\n",
       "        }#T_711a5d62_183a_11eb_a313_8cc84bd8f426row8_col1{\n",
       "            background-color:  #eaf2fb;\n",
       "            color:  #000000;\n",
       "        }#T_711a5d62_183a_11eb_a313_8cc84bd8f426row8_col3{\n",
       "            background-color:  #edf4fc;\n",
       "            color:  #000000;\n",
       "        }#T_711a5d62_183a_11eb_a313_8cc84bd8f426row8_col9{\n",
       "            background-color:  #eef5fc;\n",
       "            color:  #000000;\n",
       "        }#T_711a5d62_183a_11eb_a313_8cc84bd8f426row9_col4{\n",
       "            background-color:  #e9f2fa;\n",
       "            color:  #000000;\n",
       "        }#T_711a5d62_183a_11eb_a313_8cc84bd8f426row9_col7{\n",
       "            background-color:  #e8f1fa;\n",
       "            color:  #000000;\n",
       "        }</style><table id=\"T_711a5d62_183a_11eb_a313_8cc84bd8f426\" ><thead>    <tr>        <th class=\"blank level0\" ></th>        <th class=\"col_heading level0 col0\" >0</th>        <th class=\"col_heading level0 col1\" >1</th>        <th class=\"col_heading level0 col2\" >2</th>        <th class=\"col_heading level0 col3\" >3</th>        <th class=\"col_heading level0 col4\" >4</th>        <th class=\"col_heading level0 col5\" >5</th>        <th class=\"col_heading level0 col6\" >6</th>        <th class=\"col_heading level0 col7\" >7</th>        <th class=\"col_heading level0 col8\" >8</th>        <th class=\"col_heading level0 col9\" >9</th>    </tr></thead><tbody>\n",
       "                <tr>\n",
       "                        <th id=\"T_711a5d62_183a_11eb_a313_8cc84bd8f426level0_row0\" class=\"row_heading level0 row0\" >0</th>\n",
       "                        <td id=\"T_711a5d62_183a_11eb_a313_8cc84bd8f426row0_col0\" class=\"data row0 col0\" >95.8</td>\n",
       "                        <td id=\"T_711a5d62_183a_11eb_a313_8cc84bd8f426row0_col1\" class=\"data row0 col1\" >0.0</td>\n",
       "                        <td id=\"T_711a5d62_183a_11eb_a313_8cc84bd8f426row0_col2\" class=\"data row0 col2\" >0.3</td>\n",
       "                        <td id=\"T_711a5d62_183a_11eb_a313_8cc84bd8f426row0_col3\" class=\"data row0 col3\" >0.4</td>\n",
       "                        <td id=\"T_711a5d62_183a_11eb_a313_8cc84bd8f426row0_col4\" class=\"data row0 col4\" >0.3</td>\n",
       "                        <td id=\"T_711a5d62_183a_11eb_a313_8cc84bd8f426row0_col5\" class=\"data row0 col5\" >0.3</td>\n",
       "                        <td id=\"T_711a5d62_183a_11eb_a313_8cc84bd8f426row0_col6\" class=\"data row0 col6\" >1.8</td>\n",
       "                        <td id=\"T_711a5d62_183a_11eb_a313_8cc84bd8f426row0_col7\" class=\"data row0 col7\" >0.2</td>\n",
       "                        <td id=\"T_711a5d62_183a_11eb_a313_8cc84bd8f426row0_col8\" class=\"data row0 col8\" >0.9</td>\n",
       "                        <td id=\"T_711a5d62_183a_11eb_a313_8cc84bd8f426row0_col9\" class=\"data row0 col9\" >0.0</td>\n",
       "            </tr>\n",
       "            <tr>\n",
       "                        <th id=\"T_711a5d62_183a_11eb_a313_8cc84bd8f426level0_row1\" class=\"row_heading level0 row1\" >1</th>\n",
       "                        <td id=\"T_711a5d62_183a_11eb_a313_8cc84bd8f426row1_col0\" class=\"data row1 col0\" >0.0</td>\n",
       "                        <td id=\"T_711a5d62_183a_11eb_a313_8cc84bd8f426row1_col1\" class=\"data row1 col1\" >97.7</td>\n",
       "                        <td id=\"T_711a5d62_183a_11eb_a313_8cc84bd8f426row1_col2\" class=\"data row1 col2\" >0.5</td>\n",
       "                        <td id=\"T_711a5d62_183a_11eb_a313_8cc84bd8f426row1_col3\" class=\"data row1 col3\" >0.2</td>\n",
       "                        <td id=\"T_711a5d62_183a_11eb_a313_8cc84bd8f426row1_col4\" class=\"data row1 col4\" >0.1</td>\n",
       "                        <td id=\"T_711a5d62_183a_11eb_a313_8cc84bd8f426row1_col5\" class=\"data row1 col5\" >0.3</td>\n",
       "                        <td id=\"T_711a5d62_183a_11eb_a313_8cc84bd8f426row1_col6\" class=\"data row1 col6\" >0.5</td>\n",
       "                        <td id=\"T_711a5d62_183a_11eb_a313_8cc84bd8f426row1_col7\" class=\"data row1 col7\" >0.1</td>\n",
       "                        <td id=\"T_711a5d62_183a_11eb_a313_8cc84bd8f426row1_col8\" class=\"data row1 col8\" >0.7</td>\n",
       "                        <td id=\"T_711a5d62_183a_11eb_a313_8cc84bd8f426row1_col9\" class=\"data row1 col9\" >0.0</td>\n",
       "            </tr>\n",
       "            <tr>\n",
       "                        <th id=\"T_711a5d62_183a_11eb_a313_8cc84bd8f426level0_row2\" class=\"row_heading level0 row2\" >2</th>\n",
       "                        <td id=\"T_711a5d62_183a_11eb_a313_8cc84bd8f426row2_col0\" class=\"data row2 col0\" >0.7</td>\n",
       "                        <td id=\"T_711a5d62_183a_11eb_a313_8cc84bd8f426row2_col1\" class=\"data row2 col1\" >2.0</td>\n",
       "                        <td id=\"T_711a5d62_183a_11eb_a313_8cc84bd8f426row2_col2\" class=\"data row2 col2\" >86.2</td>\n",
       "                        <td id=\"T_711a5d62_183a_11eb_a313_8cc84bd8f426row2_col3\" class=\"data row2 col3\" >1.8</td>\n",
       "                        <td id=\"T_711a5d62_183a_11eb_a313_8cc84bd8f426row2_col4\" class=\"data row2 col4\" >1.5</td>\n",
       "                        <td id=\"T_711a5d62_183a_11eb_a313_8cc84bd8f426row2_col5\" class=\"data row2 col5\" >0.1</td>\n",
       "                        <td id=\"T_711a5d62_183a_11eb_a313_8cc84bd8f426row2_col6\" class=\"data row2 col6\" >3.5</td>\n",
       "                        <td id=\"T_711a5d62_183a_11eb_a313_8cc84bd8f426row2_col7\" class=\"data row2 col7\" >1.6</td>\n",
       "                        <td id=\"T_711a5d62_183a_11eb_a313_8cc84bd8f426row2_col8\" class=\"data row2 col8\" >2.1</td>\n",
       "                        <td id=\"T_711a5d62_183a_11eb_a313_8cc84bd8f426row2_col9\" class=\"data row2 col9\" >0.4</td>\n",
       "            </tr>\n",
       "            <tr>\n",
       "                        <th id=\"T_711a5d62_183a_11eb_a313_8cc84bd8f426level0_row3\" class=\"row_heading level0 row3\" >3</th>\n",
       "                        <td id=\"T_711a5d62_183a_11eb_a313_8cc84bd8f426row3_col0\" class=\"data row3 col0\" >0.9</td>\n",
       "                        <td id=\"T_711a5d62_183a_11eb_a313_8cc84bd8f426row3_col1\" class=\"data row3 col1\" >1.7</td>\n",
       "                        <td id=\"T_711a5d62_183a_11eb_a313_8cc84bd8f426row3_col2\" class=\"data row3 col2\" >3.8</td>\n",
       "                        <td id=\"T_711a5d62_183a_11eb_a313_8cc84bd8f426row3_col3\" class=\"data row3 col3\" >86.0</td>\n",
       "                        <td id=\"T_711a5d62_183a_11eb_a313_8cc84bd8f426row3_col4\" class=\"data row3 col4\" >0.3</td>\n",
       "                        <td id=\"T_711a5d62_183a_11eb_a313_8cc84bd8f426row3_col5\" class=\"data row3 col5\" >1.8</td>\n",
       "                        <td id=\"T_711a5d62_183a_11eb_a313_8cc84bd8f426row3_col6\" class=\"data row3 col6\" >0.6</td>\n",
       "                        <td id=\"T_711a5d62_183a_11eb_a313_8cc84bd8f426row3_col7\" class=\"data row3 col7\" >0.9</td>\n",
       "                        <td id=\"T_711a5d62_183a_11eb_a313_8cc84bd8f426row3_col8\" class=\"data row3 col8\" >3.0</td>\n",
       "                        <td id=\"T_711a5d62_183a_11eb_a313_8cc84bd8f426row3_col9\" class=\"data row3 col9\" >1.1</td>\n",
       "            </tr>\n",
       "            <tr>\n",
       "                        <th id=\"T_711a5d62_183a_11eb_a313_8cc84bd8f426level0_row4\" class=\"row_heading level0 row4\" >4</th>\n",
       "                        <td id=\"T_711a5d62_183a_11eb_a313_8cc84bd8f426row4_col0\" class=\"data row4 col0\" >0.0</td>\n",
       "                        <td id=\"T_711a5d62_183a_11eb_a313_8cc84bd8f426row4_col1\" class=\"data row4 col1\" >1.0</td>\n",
       "                        <td id=\"T_711a5d62_183a_11eb_a313_8cc84bd8f426row4_col2\" class=\"data row4 col2\" >0.3</td>\n",
       "                        <td id=\"T_711a5d62_183a_11eb_a313_8cc84bd8f426row4_col3\" class=\"data row4 col3\" >0.0</td>\n",
       "                        <td id=\"T_711a5d62_183a_11eb_a313_8cc84bd8f426row4_col4\" class=\"data row4 col4\" >89.9</td>\n",
       "                        <td id=\"T_711a5d62_183a_11eb_a313_8cc84bd8f426row4_col5\" class=\"data row4 col5\" >0.0</td>\n",
       "                        <td id=\"T_711a5d62_183a_11eb_a313_8cc84bd8f426row4_col6\" class=\"data row4 col6\" >1.1</td>\n",
       "                        <td id=\"T_711a5d62_183a_11eb_a313_8cc84bd8f426row4_col7\" class=\"data row4 col7\" >0.2</td>\n",
       "                        <td id=\"T_711a5d62_183a_11eb_a313_8cc84bd8f426row4_col8\" class=\"data row4 col8\" >0.2</td>\n",
       "                        <td id=\"T_711a5d62_183a_11eb_a313_8cc84bd8f426row4_col9\" class=\"data row4 col9\" >7.2</td>\n",
       "            </tr>\n",
       "            <tr>\n",
       "                        <th id=\"T_711a5d62_183a_11eb_a313_8cc84bd8f426level0_row5\" class=\"row_heading level0 row5\" >5</th>\n",
       "                        <td id=\"T_711a5d62_183a_11eb_a313_8cc84bd8f426row5_col0\" class=\"data row5 col0\" >3.7</td>\n",
       "                        <td id=\"T_711a5d62_183a_11eb_a313_8cc84bd8f426row5_col1\" class=\"data row5 col1\" >1.9</td>\n",
       "                        <td id=\"T_711a5d62_183a_11eb_a313_8cc84bd8f426row5_col2\" class=\"data row5 col2\" >2.1</td>\n",
       "                        <td id=\"T_711a5d62_183a_11eb_a313_8cc84bd8f426row5_col3\" class=\"data row5 col3\" >9.5</td>\n",
       "                        <td id=\"T_711a5d62_183a_11eb_a313_8cc84bd8f426row5_col4\" class=\"data row5 col4\" >1.4</td>\n",
       "                        <td id=\"T_711a5d62_183a_11eb_a313_8cc84bd8f426row5_col5\" class=\"data row5 col5\" >73.4</td>\n",
       "                        <td id=\"T_711a5d62_183a_11eb_a313_8cc84bd8f426row5_col6\" class=\"data row5 col6\" >3.7</td>\n",
       "                        <td id=\"T_711a5d62_183a_11eb_a313_8cc84bd8f426row5_col7\" class=\"data row5 col7\" >0.9</td>\n",
       "                        <td id=\"T_711a5d62_183a_11eb_a313_8cc84bd8f426row5_col8\" class=\"data row5 col8\" >1.4</td>\n",
       "                        <td id=\"T_711a5d62_183a_11eb_a313_8cc84bd8f426row5_col9\" class=\"data row5 col9\" >2.0</td>\n",
       "            </tr>\n",
       "            <tr>\n",
       "                        <th id=\"T_711a5d62_183a_11eb_a313_8cc84bd8f426level0_row6\" class=\"row_heading level0 row6\" >6</th>\n",
       "                        <td id=\"T_711a5d62_183a_11eb_a313_8cc84bd8f426row6_col0\" class=\"data row6 col0\" >0.6</td>\n",
       "                        <td id=\"T_711a5d62_183a_11eb_a313_8cc84bd8f426row6_col1\" class=\"data row6 col1\" >1.0</td>\n",
       "                        <td id=\"T_711a5d62_183a_11eb_a313_8cc84bd8f426row6_col2\" class=\"data row6 col2\" >1.1</td>\n",
       "                        <td id=\"T_711a5d62_183a_11eb_a313_8cc84bd8f426row6_col3\" class=\"data row6 col3\" >0.0</td>\n",
       "                        <td id=\"T_711a5d62_183a_11eb_a313_8cc84bd8f426row6_col4\" class=\"data row6 col4\" >0.4</td>\n",
       "                        <td id=\"T_711a5d62_183a_11eb_a313_8cc84bd8f426row6_col5\" class=\"data row6 col5\" >0.4</td>\n",
       "                        <td id=\"T_711a5d62_183a_11eb_a313_8cc84bd8f426row6_col6\" class=\"data row6 col6\" >96.2</td>\n",
       "                        <td id=\"T_711a5d62_183a_11eb_a313_8cc84bd8f426row6_col7\" class=\"data row6 col7\" >0.0</td>\n",
       "                        <td id=\"T_711a5d62_183a_11eb_a313_8cc84bd8f426row6_col8\" class=\"data row6 col8\" >0.2</td>\n",
       "                        <td id=\"T_711a5d62_183a_11eb_a313_8cc84bd8f426row6_col9\" class=\"data row6 col9\" >0.0</td>\n",
       "            </tr>\n",
       "            <tr>\n",
       "                        <th id=\"T_711a5d62_183a_11eb_a313_8cc84bd8f426level0_row7\" class=\"row_heading level0 row7\" >7</th>\n",
       "                        <td id=\"T_711a5d62_183a_11eb_a313_8cc84bd8f426row7_col0\" class=\"data row7 col0\" >0.7</td>\n",
       "                        <td id=\"T_711a5d62_183a_11eb_a313_8cc84bd8f426row7_col1\" class=\"data row7 col1\" >3.5</td>\n",
       "                        <td id=\"T_711a5d62_183a_11eb_a313_8cc84bd8f426row7_col2\" class=\"data row7 col2\" >0.4</td>\n",
       "                        <td id=\"T_711a5d62_183a_11eb_a313_8cc84bd8f426row7_col3\" class=\"data row7 col3\" >0.6</td>\n",
       "                        <td id=\"T_711a5d62_183a_11eb_a313_8cc84bd8f426row7_col4\" class=\"data row7 col4\" >0.7</td>\n",
       "                        <td id=\"T_711a5d62_183a_11eb_a313_8cc84bd8f426row7_col5\" class=\"data row7 col5\" >0.0</td>\n",
       "                        <td id=\"T_711a5d62_183a_11eb_a313_8cc84bd8f426row7_col6\" class=\"data row7 col6\" >0.0</td>\n",
       "                        <td id=\"T_711a5d62_183a_11eb_a313_8cc84bd8f426row7_col7\" class=\"data row7 col7\" >92.1</td>\n",
       "                        <td id=\"T_711a5d62_183a_11eb_a313_8cc84bd8f426row7_col8\" class=\"data row7 col8\" >0.0</td>\n",
       "                        <td id=\"T_711a5d62_183a_11eb_a313_8cc84bd8f426row7_col9\" class=\"data row7 col9\" >1.9</td>\n",
       "            </tr>\n",
       "            <tr>\n",
       "                        <th id=\"T_711a5d62_183a_11eb_a313_8cc84bd8f426level0_row8\" class=\"row_heading level0 row8\" >8</th>\n",
       "                        <td id=\"T_711a5d62_183a_11eb_a313_8cc84bd8f426row8_col0\" class=\"data row8 col0\" >1.3</td>\n",
       "                        <td id=\"T_711a5d62_183a_11eb_a313_8cc84bd8f426row8_col1\" class=\"data row8 col1\" >6.8</td>\n",
       "                        <td id=\"T_711a5d62_183a_11eb_a313_8cc84bd8f426row8_col2\" class=\"data row8 col2\" >2.8</td>\n",
       "                        <td id=\"T_711a5d62_183a_11eb_a313_8cc84bd8f426row8_col3\" class=\"data row8 col3\" >4.7</td>\n",
       "                        <td id=\"T_711a5d62_183a_11eb_a313_8cc84bd8f426row8_col4\" class=\"data row8 col4\" >0.6</td>\n",
       "                        <td id=\"T_711a5d62_183a_11eb_a313_8cc84bd8f426row8_col5\" class=\"data row8 col5\" >2.7</td>\n",
       "                        <td id=\"T_711a5d62_183a_11eb_a313_8cc84bd8f426row8_col6\" class=\"data row8 col6\" >0.9</td>\n",
       "                        <td id=\"T_711a5d62_183a_11eb_a313_8cc84bd8f426row8_col7\" class=\"data row8 col7\" >1.4</td>\n",
       "                        <td id=\"T_711a5d62_183a_11eb_a313_8cc84bd8f426row8_col8\" class=\"data row8 col8\" >75.3</td>\n",
       "                        <td id=\"T_711a5d62_183a_11eb_a313_8cc84bd8f426row8_col9\" class=\"data row8 col9\" >3.6</td>\n",
       "            </tr>\n",
       "            <tr>\n",
       "                        <th id=\"T_711a5d62_183a_11eb_a313_8cc84bd8f426level0_row9\" class=\"row_heading level0 row9\" >9</th>\n",
       "                        <td id=\"T_711a5d62_183a_11eb_a313_8cc84bd8f426row9_col0\" class=\"data row9 col0\" >1.0</td>\n",
       "                        <td id=\"T_711a5d62_183a_11eb_a313_8cc84bd8f426row9_col1\" class=\"data row9 col1\" >1.7</td>\n",
       "                        <td id=\"T_711a5d62_183a_11eb_a313_8cc84bd8f426row9_col2\" class=\"data row9 col2\" >0.4</td>\n",
       "                        <td id=\"T_711a5d62_183a_11eb_a313_8cc84bd8f426row9_col3\" class=\"data row9 col3\" >1.6</td>\n",
       "                        <td id=\"T_711a5d62_183a_11eb_a313_8cc84bd8f426row9_col4\" class=\"data row9 col4\" >6.6</td>\n",
       "                        <td id=\"T_711a5d62_183a_11eb_a313_8cc84bd8f426row9_col5\" class=\"data row9 col5\" >0.2</td>\n",
       "                        <td id=\"T_711a5d62_183a_11eb_a313_8cc84bd8f426row9_col6\" class=\"data row9 col6\" >0.0</td>\n",
       "                        <td id=\"T_711a5d62_183a_11eb_a313_8cc84bd8f426row9_col7\" class=\"data row9 col7\" >6.9</td>\n",
       "                        <td id=\"T_711a5d62_183a_11eb_a313_8cc84bd8f426row9_col8\" class=\"data row9 col8\" >0.4</td>\n",
       "                        <td id=\"T_711a5d62_183a_11eb_a313_8cc84bd8f426row9_col9\" class=\"data row9 col9\" >81.3</td>\n",
       "            </tr>\n",
       "    </tbody></table>"
      ],
      "text/plain": [
       "<pandas.io.formats.style.Styler at 0x17f1ddb0>"
      ]
     },
     "execution_count": 27,
     "metadata": {},
     "output_type": "execute_result"
    }
   ],
   "source": [
    "confusion_matrix(nnet.use(Xval)[0],Tval)"
   ]
  },
  {
   "cell_type": "markdown",
   "metadata": {
    "ExecuteTime": {
     "end_time": "2020-10-16T20:44:33.927450Z",
     "start_time": "2020-10-16T20:44:33.925092Z"
    }
   },
   "source": [
    "# Grading\n",
    "\n",
    "Download [A4grader.tar](https://www.cs.colostate.edu/~anderson/cs545/notebooks/A4grader.tar), extract `A4grader.py` before running the following cell."
   ]
  },
  {
   "cell_type": "code",
   "execution_count": null,
   "metadata": {},
   "outputs": [],
   "source": []
  },
  {
   "cell_type": "markdown",
   "metadata": {},
   "source": [
    "# Extra Credit\n",
    "\n",
    "Repeat the above experiments with a different data set.  Randonly partition your data into training, validaton and test parts if not already provided.  Write in markdown cells descriptions of the data and your results."
   ]
  }
 ],
 "metadata": {
  "kernelspec": {
   "display_name": "Python 3",
   "language": "python",
   "name": "python3"
  },
  "language_info": {
   "codemirror_mode": {
    "name": "ipython",
    "version": 3
   },
   "file_extension": ".py",
   "mimetype": "text/x-python",
   "name": "python",
   "nbconvert_exporter": "python",
   "pygments_lexer": "ipython3",
   "version": "3.6.12"
  },
  "toc": {
   "base_numbering": 1,
   "nav_menu": {},
   "number_sections": true,
   "sideBar": true,
   "skip_h1_title": false,
   "title_cell": "Table of Contents",
   "title_sidebar": "Contents",
   "toc_cell": true,
   "toc_position": {},
   "toc_section_display": true,
   "toc_window_display": false
  }
 },
 "nbformat": 4,
 "nbformat_minor": 4
}
